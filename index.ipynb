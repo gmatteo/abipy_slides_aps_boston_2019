{
 "cells": [
  {
   "cell_type": "code",
   "execution_count": 1,
   "metadata": {
    "slideshow": {
     "slide_type": "skip"
    }
   },
   "outputs": [],
   "source": [
    "import os\n",
    "\n",
    "# Ignore numpy warnings\n",
    "import warnings\n",
    "warnings.filterwarnings('ignore')\n",
    "\n",
    "%matplotlib inline\n",
    "#%matplotlib notebook\n",
    "\n",
    "# Use seaborn settings.\n",
    "import seaborn as sns\n",
    "sns.set(\n",
    "        #context=\"paper\",\n",
    "        context=\"talk\",\n",
    "        #context=\"poster\",\n",
    "        style='darkgrid',\n",
    "        #style=\"dark\",\n",
    "        #palette='deep',\n",
    "        font='sans-serif', \n",
    "        #font_scale=1.0, \n",
    "        #color_codes=False, \n",
    "        rc={'figure.figsize': (12, 8.0)}, # width and height in inches.\n",
    ")\n",
    "\n",
    "import IPython\n",
    "\n",
    "def _embed(src, width=\"800\", height=\"400\"):\n",
    "    return IPython.display.IFrame(src=src, width=str(width), height=str(height))\n",
    "\n",
    "from IPython.core.magic import (register_line_magic, register_cell_magic,\n",
    "                                register_line_cell_magic)\n",
    "\n",
    "@register_line_magic\n",
    "def embed(line):\n",
    "    \"my line magic\"\n",
    "    #return line\n",
    "    return _embed(line)\n",
    "\n",
    "\n",
    "# We delete these to avoid name conflicts for automagic to work\n",
    "del embed\n",
    "#del lcmagic\n",
    "\n",
    "# Theme\n",
    "# import jtplot module in notebook\n",
    "#from jupyterthemes import jtplot\n",
    "\n",
    "# choose which theme to inherit plotting style from\n",
    "# onedork | grade3 | oceans16 | chesterish | monokai | solarizedl | solarizedd\n",
    "#jtplot.style(theme='monokai')\n",
    "\n",
    "# set \"context\" (paper, notebook, talk, poster)\n",
    "# scale font-size of ticklabels, legend, etc.\n",
    "# remove spines from x and y axes and make grid dashed\n",
    "#jtplot.style(context='talk', fscale=1.4, spines=False, gridlines='--')\n",
    "\n",
    "# turn on X- and Y-axis tick marks (default=False)\n",
    "# turn off the axis grid lines (default=True)\n",
    "# and set the default figure size\n",
    "#jtplot.style(ticks=True, grid=False, figsize=(6, 4.5))\n",
    "\n",
    "# reset default matplotlib rcParams\n",
    "#jtplot.reset()\n",
    "\n",
    "from abipy import abilab\n",
    "import abipy.data as abidata\n",
    "\n",
    "si_pseudo = os.path.join(abidata.pseudo_dir, \"14si.pspnc\")"
   ]
  },
  {
   "cell_type": "markdown",
   "metadata": {
    "slideshow": {
     "slide_type": "slide"
    }
   },
   "source": [
    "# AbiPy\n",
    "\n",
    "### M. Giantomassi and the AbiPy group\n",
    "\n",
    "<!--\n",
    "<img src=\"./figures/dataset-diagram-logo.png\" width=\"35%\" align=\"center\">\n",
    "**ACINN workshop**, Tue 07.02.2017\n",
    "\n",
    "Slides: <a href=\"http://fabienmaussion.info/acinn_xarray_workshop\">http://fabienmaussion.info/acinn_xarray_workshop</a>\n",
    "\n",
    "Notebook: <a href=\"https://github.com/fmaussion/teaching/blob/master/xarray_intro_acinn/ACINN_workshop_xarray-slides.ipynb\"> On GitHub</a>\n",
    "\n",
    "\n",
    "<div class=\"container\">\n",
    "  <div class=\"jumbotron\">\n",
    "    <h1>Bootstrap Tutorial</h1> \n",
    "    <p>Bootstrap is the most popular HTML, CSS, and JS framework for developing\n",
    "    responsive, mobile-first projects on the web.</p> \n",
    "  </div>\n",
    "  <p>This is some text.</p> \n",
    "  <p>This is another text.</p> \n",
    "</div>\n",
    "-->\n",
    "\n",
    "<!-- link rel=\"stylesheet\" href=\"reveal.js/css/theme/sky.css\" id=\"theme\" -->\n",
    "\n",
    "<hr> \n",
    "\n",
    "\n",
    "* These slides have been generated using [jupyter](https://jupyter.org), [nbconvert](https://github.com/jupyter/nbconvert) and [revealjs](https://revealjs.com/)\n",
    "\n",
    "* The notebook can be downloaded from this [github repo](https://github.com/gmatteo/abipy_slides_aps_boston_2019)\n",
    "\n",
    "* To install the packages required for the examples, \n",
    "follow these [installation instructions](https://github.com/abinit/abipy#getting-abipy)"
   ]
  },
  {
   "cell_type": "markdown",
   "metadata": {
    "slideshow": {
     "slide_type": "skip"
    }
   },
   "source": [
    "\n"
   ]
  },
  {
   "cell_type": "markdown",
   "metadata": {
    "slideshow": {
     "slide_type": "slide"
    }
   },
   "source": [
    "\n",
    "<img src=\"./assets/abipy_logo.jpg\" width=\"55%\" align=\"center\">\n",
    "<!-- img src=\"./assets/abinit_logo.jpg\" width=\"45%\" align=\"right\"-->\n",
    "\n",
    "## What is AbiPy?\n",
    "\n",
    "#### Python package for:\n",
    "\n",
    "   * Generating ABINIT input files automatically\n",
    "   * Post-processing output results (*netcdf* and *text* files)\n",
    "   * Interfacing ABINIT with external tools (e.g. [Vesta](http://jp-minerals.org/vesta/en/))\n",
    "   * Creating and executing workflows (band structures, phonons, $GW$…)\n",
    "   \n",
    "#### Project:\n",
    "\n",
    "* Developed and maintained by the ABINIT community\n",
    "* Used by developers to validate, profile and optimize ABINIT\n",
    "* Hosted on [github](https://github.com/abinit/abipy) \n",
    "* Release under the GPLv2 license"
   ]
  },
  {
   "cell_type": "markdown",
   "metadata": {
    "slideshow": {
     "slide_type": "subslide"
    }
   },
   "source": [
    "## Why python?\n",
    "\n",
    "   * Easy to use and to learn\n",
    "   * Great support for science ([numpy](http://www.numpy.org/), [scipy](https://www.scipy.org/), [pandas](http://pandas.pydata.org/), [matplotlib](https://matplotlib.org/) …)\n",
    "   * Interactive environments ([ipython](http://ipython.org/), [jupyter notebooks](https://jupyter.org/), GUIs)\n",
    "   * More powerful and flexible than Fortran for implementing the high-level logic needed in modern ab-initio workflows\n",
    "   * [pymatgen](https://github.com/materialsproject) ecosystem and the [materials project database](https://www.materialsproject.org/)…\n",
    "   \n",
    "<img src=\"./assets/pydata_stack.png\" width=\"65%\" align=\"center\">"
   ]
  },
  {
   "cell_type": "markdown",
   "metadata": {
    "slideshow": {
     "slide_type": "subslide"
    }
   },
   "source": [
    "## AbiPy design principles\n",
    "\n",
    "* Extend the pymatgen code-base with ABINIT-specific objects\n",
    "* Layered structure designed for different use-cases:\n",
    "        \n",
    "     * Post-processing tools and command-line interfaces\n",
    "     * API to automate calculations and data analysis\n",
    "     * High-throughput infrastructure ([abiflows](https://github.com/abinit/abiflows), [fireworks](https://github.com/materialsproject/fireworks), [mongodb](https://www.mongodb.com/))\n",
    "     \n",
    "* Closely connected to the ABINIT executable:\n",
    "\n",
    "    * CPU-intensive algorithms performed by ABINIT (Fortran + MPI + OpenMP)\n",
    "    * Glue code implemented in python\n",
    "   \n",
    "* ABINIT and AbiPy communicate through [netcdf](https://www.unidata.ucar.edu/software/netcdf/docs/) files\n",
    "\n",
    "    * Portable binary format implemented in C\n",
    "    * Fortran/Python bindings and support for parallel MPI-IO (HDF5)\n",
    "    * [ETSF-IO specifications](https://www.etsf.eu/fileformats) for crystalline structures, wavefunctions, densities, potentials…"
   ]
  },
  {
   "cell_type": "markdown",
   "metadata": {
    "slideshow": {
     "slide_type": "subslide"
    }
   },
   "source": [
    "## How to install AbiPy\n",
    "\n",
    "<!-- From the most simple to the most complex one, you have three options:-->\n",
    "\n",
    "Using [pip](https://pypi.org/project/pip/) and python wheels:\n",
    "\n",
    "        pip install abipy --user\n",
    "\n",
    "Using [conda](https://conda.io/en/latest/) (*recommended*):\n",
    "\n",
    "        conda install abipy --channel abinit \n",
    "\n",
    "From the [github repository](https://github.com/abinit/abipy) (*develop mode*):\n",
    "\n",
    "        git clone https://github.com/abinit/abipy.git\n",
    "        cd abipy \n",
    "        python setup.py develop\n",
    "    \n",
    "<!--\n",
    "https://pypi.org/project/abipy/\n",
    "https://anaconda.org/abinit/abipy\n",
    "-->\n",
    "\n",
    "<hr>\n",
    "\n",
    "For further info see http://abinit.github.io/abipy/installation.html"
   ]
  },
  {
   "cell_type": "markdown",
   "metadata": {
    "slideshow": {
     "slide_type": "slide"
    }
   },
   "source": [
    "## Why conda?\n",
    "\n",
    "\n",
    "* Powerful package and environment management system for <u>any programming language</u>.\n",
    "  Quite popular in the python community. Compatible with *pip install*.\n",
    "      \n",
    "* Precompiled libraries ➝ no compilation of C/Fortran/C++ code required:\n",
    "\n",
    "        conda install netcdf \n",
    "        \n",
    "* Less headaches when trying to install packages with many dependencies \n",
    "\n",
    "* <u>Isolated</u> and <u>reproducible</u> environments can be created easily\n",
    " \n",
    "* Great tool for developers:\n",
    "    \n",
    "            conda create -n env3.7 python=3.7\n",
    "\n",
    "* Most *conda* packages are friendly across Linux/MacOsX/Windows\n",
    "  \n",
    "* Tons of packages available on the [conda-forge](https://conda-forge.org/) channel\n",
    "  \n",
    "<hr>\n",
    "\n",
    "### If you’re still not convinced about using conda..."
   ]
  },
  {
   "cell_type": "markdown",
   "metadata": {
    "slideshow": {
     "slide_type": "subslide"
    }
   },
   "source": [
    "## How to install Abinit on your laptop with conda\n",
    "\n",
    "#### Download and install *miniconda* on your Linux machine with:\n",
    "\n",
    "        wget https://repo.continuum.io/miniconda/Miniconda3-latest-Linux-x86_64.sh\n",
    "        bash Miniconda3-latest-Linux-x86_64.sh\n",
    "\n",
    "\n",
    "#### Source your *.bashrc* file to activate the changes:\n",
    "\n",
    "\n",
    "        source ~/.bashrc\n",
    "    \n",
    "#### Add *conda-forge* to your conda channels:\n",
    "\n",
    "        conda config --add channels conda-forge\n",
    "\n",
    "#### Install the parallel version of abinit from the [abinit channel](https://anaconda.org/abinit/abinit) with:\n",
    "\n",
    "\n",
    "    conda install abinit --channel abinit\n",
    "\n",
    "<hr>\n",
    "\n",
    "Futher info at https://github.com/abinit/abiconda"
   ]
  },
  {
   "cell_type": "markdown",
   "metadata": {
    "slideshow": {
     "slide_type": "slide"
    }
   },
   "source": [
    "## AbiPy documentation\n",
    "\n",
    "<!--\n",
    "* http://abinit.github.io/abipy/index.html\n",
    "\n",
    "* Jupyter notebooks \n",
    "* Gallery of matplotlib examples and flows\n",
    "* abitutorial github repo with additional examples\n",
    "\n",
    "\n",
    "<img src=\"./assets/abipy_doc_homepage.png\" width=\"100%\" align=\"center\">\n",
    "-->"
   ]
  },
  {
   "cell_type": "code",
   "execution_count": 2,
   "metadata": {
    "slideshow": {
     "slide_type": "-"
    }
   },
   "outputs": [
    {
     "data": {
      "text/html": [
       "\n",
       "        <iframe\n",
       "            width=\"800\"\n",
       "            height=\"400\"\n",
       "            src=\"https://abinit.github.io/abipy/index.html\"\n",
       "            frameborder=\"0\"\n",
       "            allowfullscreen\n",
       "        ></iframe>\n",
       "        "
      ],
      "text/plain": [
       "<IPython.lib.display.IFrame at 0x10eb38c18>"
      ]
     },
     "execution_count": 2,
     "metadata": {},
     "output_type": "execute_result"
    }
   ],
   "source": [
    "%embed https://abinit.github.io/abipy/index.html"
   ]
  },
  {
   "cell_type": "markdown",
   "metadata": {
    "slideshow": {
     "slide_type": "subslide"
    }
   },
   "source": [
    "##  Jupyter notebooks with [examples and lessons](https://nbviewer.jupyter.org/github/abinit/abitutorials/blob/master/abitutorials/index.ipynb) \n",
    "\n",
    "<!-- img src=\"./assets/abipy_notebooks.png\" width=\"100%\" align=\"center\" -->"
   ]
  },
  {
   "cell_type": "code",
   "execution_count": 3,
   "metadata": {
    "slideshow": {
     "slide_type": "-"
    }
   },
   "outputs": [
    {
     "data": {
      "text/html": [
       "\n",
       "        <iframe\n",
       "            width=\"800\"\n",
       "            height=\"400\"\n",
       "            src=\"https://nbviewer.jupyter.org/github/abinit/abitutorials/blob/master/abitutorials/index.ipynb\"\n",
       "            frameborder=\"0\"\n",
       "            allowfullscreen\n",
       "        ></iframe>\n",
       "        "
      ],
      "text/plain": [
       "<IPython.lib.display.IFrame at 0x10eb38550>"
      ]
     },
     "execution_count": 3,
     "metadata": {},
     "output_type": "execute_result"
    }
   ],
   "source": [
    "%embed https://nbviewer.jupyter.org/github/abinit/abitutorials/blob/master/abitutorials/index.ipynb"
   ]
  },
  {
   "cell_type": "markdown",
   "metadata": {
    "slideshow": {
     "slide_type": "slide"
    }
   },
   "source": [
    "## What do we need to automate calculations?\n",
    "\n",
    "* Tools to parse and analyze output results\n",
    "* python API to generate input files\n",
    "* High-level logic for:\n",
    "\n",
    "    * Managing complicated workflows\n",
    "    * Exposing task parallelism (independent steps can be executed in parallel)\n",
    "    * Handling runtime errors and restarting calculations\n",
    "    * Saving final results in machine-readable format (e.g. databases)\n",
    "\n",
    "<img src=\"./assets/sdata201865-f2.jpg\" width=\"50%\" align=\"center\">\n",
    "\n",
    "<hr>\n",
    "\n",
    "### Let's discuss the different parts step by step…"
   ]
  },
  {
   "cell_type": "markdown",
   "metadata": {
    "slideshow": {
     "slide_type": "slide"
    }
   },
   "source": [
    "<img src=\"./assets/Data-Analysis.jpg\" width=\"95%\" align=\"center\">"
   ]
  },
  {
   "cell_type": "markdown",
   "metadata": {
    "slideshow": {
     "slide_type": "subslide"
    }
   },
   "source": [
    "## AbiPy post-processing tools\n",
    "\n",
    "* Main entry point: \n",
    "\n",
    "  ```python\n",
    "       from abipy import abilab\n",
    "  abifile = abilab.abiopen(\"filename.nc\")\n",
    "  ```\n",
    "        \n",
    "  where *filename.nc* is a *netcdf* file (support also text files e.g. *run.abo*, *run.log*, *out_DDB*)\n",
    "\n",
    "* *abifile* is the *AbiFile* subclass associated to the given file extension:\n",
    "\n",
    "    1. GSR.nc ➝ *GsrFile*\n",
    "    2. HIST.nc ➝ *HistFile*\n",
    "    3. More than 45 file extensions supported (see `abiopen.py --help`) \n",
    "    \n",
    "* Several AbiPy objects provide *plot* methods returning \n",
    "  [*matplotlib*](https://matplotlib.org/) figures\n",
    "* Inside the shell, one can use `abiopen.py FILE` to:\n",
    "\n",
    "     * open the file inside the [*ipython*](https://ipython.org/) terminal\n",
    "     * print info to terminal (`--print` option)\n",
    "     * produce a predefined set of *matplotlib*  figures (`--expose` option)\n",
    "     * generate [jupyter notebooks](https://jupyter.org/) (`--notebook` option)"
   ]
  },
  {
   "cell_type": "markdown",
   "metadata": {
    "slideshow": {
     "slide_type": "subslide"
    }
   },
   "source": [
    "#### Before we start, we need to import two AbiPy modules:"
   ]
  },
  {
   "cell_type": "code",
   "execution_count": 4,
   "metadata": {
    "scrolled": false,
    "slideshow": {
     "slide_type": "-"
    }
   },
   "outputs": [],
   "source": [
    "from abipy import abilab\n",
    "import abipy.data as abidata"
   ]
  },
  {
   "cell_type": "markdown",
   "metadata": {
    "slideshow": {
     "slide_type": "-"
    }
   },
   "source": [
    "#### Now we can open our netcdf file with *abiopen*"
   ]
  },
  {
   "cell_type": "code",
   "execution_count": 5,
   "metadata": {
    "slideshow": {
     "slide_type": "-"
    }
   },
   "outputs": [],
   "source": [
    "gsr_kpath = abilab.abiopen(\"si_nscf_GSR.nc\")"
   ]
  },
  {
   "cell_type": "markdown",
   "metadata": {
    "slideshow": {
     "slide_type": "-"
    }
   },
   "source": [
    "#### This function returns an *AbiFile* object provinding access to physical properties.\n",
    "\n",
    "Conventions:\n",
    "\n",
    "   * *abifile.structure* ➝ crystalline structure (subclass of pymatgen *Structure*)\n",
    "   * *abifile.ebands* ➝ electron band energies\n",
    "   * *abifile.ebands.kpoints* ➝ list of k-points (k-path, IBZ) \n",
    "   * *abifile.phbands* ➝ phonon frequencies and displacements"
   ]
  },
  {
   "cell_type": "markdown",
   "metadata": {
    "slideshow": {
     "slide_type": "subslide"
    }
   },
   "source": [
    "##### The *GsrFile* has a pymatgen *structure*:"
   ]
  },
  {
   "cell_type": "code",
   "execution_count": 6,
   "metadata": {},
   "outputs": [
    {
     "name": "stdout",
     "output_type": "stream",
     "text": [
      "Full Formula (Si2)\n",
      "Reduced Formula: Si\n",
      "abc   :   3.866975   3.866975   3.866975\n",
      "angles:  60.000000  60.000000  60.000000\n",
      "Sites (2)\n",
      "  #  SP       a     b     c\n",
      "---  ----  ----  ----  ----\n",
      "  0  Si    0     0     0\n",
      "  1  Si    0.25  0.25  0.25\n",
      "\n",
      "Abinit Spacegroup: spgid: 227, num_spatial_symmetries: 48, has_timerev: True, symmorphic: True\n"
     ]
    }
   ],
   "source": [
    "print(gsr_kpath.structure)"
   ]
  },
  {
   "cell_type": "markdown",
   "metadata": {},
   "source": [
    "##### and one can easily convert the object to different formats:"
   ]
  },
  {
   "cell_type": "code",
   "execution_count": 7,
   "metadata": {
    "slideshow": {
     "slide_type": "-"
    }
   },
   "outputs": [
    {
     "name": "stdout",
     "output_type": "stream",
     "text": [
      " natom 2\n",
      " ntypat 1\n",
      " typat 1 1\n",
      " znucl 14\n",
      " xred\n",
      "    0.0000000000    0.0000000000    0.0000000000\n",
      "    0.2500000000    0.2500000000    0.2500000000\n",
      " acell    1.0    1.0    1.0\n",
      " rprim\n",
      "    6.3285005521    0.0000000000    3.6537614973\n",
      "    2.1095001840    5.9665675402    3.6537614973\n",
      "    0.0000000000    0.0000000000    7.3075229946\n"
     ]
    }
   ],
   "source": [
    "print(gsr_kpath.structure.abi_string)"
   ]
  },
  {
   "cell_type": "markdown",
   "metadata": {
    "slideshow": {
     "slide_type": "subslide"
    }
   },
   "source": [
    "#### Band energies, occupation factors, k-points are stored in the *ebands* object "
   ]
  },
  {
   "cell_type": "code",
   "execution_count": 8,
   "metadata": {
    "slideshow": {
     "slide_type": "-"
    }
   },
   "outputs": [
    {
     "name": "stdout",
     "output_type": "stream",
     "text": [
      "================================= Structure =================================\n",
      "Full Formula (Si2)\n",
      "Reduced Formula: Si\n",
      "abc   :   3.866975   3.866975   3.866975\n",
      "angles:  60.000000  60.000000  60.000000\n",
      "Sites (2)\n",
      "  #  SP       a     b     c\n",
      "---  ----  ----  ----  ----\n",
      "  0  Si    0     0     0\n",
      "  1  Si    0.25  0.25  0.25\n",
      "\n",
      "Abinit Spacegroup: spgid: 227, num_spatial_symmetries: 48, has_timerev: True, symmorphic: True\n",
      "\n",
      "Number of electrons: 8.0, Fermi level: 5.598 (eV)\n",
      "nsppol: 1, nkpt: 14, mband: 8, nspinor: 1, nspden: 1\n",
      "smearing scheme: none, tsmear_eV: 0.272, occopt: 1\n",
      "Direct gap:\n",
      "    Energy: 2.532 (eV)\n",
      "    Initial state: spin=0, kpt=[+0.000, +0.000, +0.000], name: $\\Gamma$, weight: 0.000, band=3, eig=5.598, occ=2.000\n",
      "    Final state:   spin=0, kpt=[+0.000, +0.000, +0.000], name: $\\Gamma$, weight: 0.000, band=4, eig=8.130, occ=0.000\n",
      "Fundamental gap:\n",
      "    Energy: 0.524 (eV)\n",
      "    Initial state: spin=0, kpt=[+0.000, +0.000, +0.000], name: $\\Gamma$, weight: 0.000, band=3, eig=5.598, occ=2.000\n",
      "    Final state:   spin=0, kpt=[+0.000, +0.429, +0.429], weight: 0.000, band=4, eig=6.123, occ=0.000\n",
      "Bandwidth: 11.856 (eV)\n",
      "Valence maximum located at:\n",
      "    spin=0, kpt=[+0.000, +0.000, +0.000], name: $\\Gamma$, weight: 0.000, band=3, eig=5.598, occ=2.000\n",
      "Conduction minimum located at:\n",
      "    spin=0, kpt=[+0.000, +0.429, +0.429], weight: 0.000, band=4, eig=6.123, occ=0.000\n",
      "\n"
     ]
    }
   ],
   "source": [
    "print(gsr_kpath.ebands)"
   ]
  },
  {
   "cell_type": "markdown",
   "metadata": {
    "slideshow": {
     "slide_type": "subslide"
    }
   },
   "source": [
    "#### The ebands object has a list of k-points that can be visualized with:"
   ]
  },
  {
   "cell_type": "code",
   "execution_count": 9,
   "metadata": {
    "slideshow": {
     "slide_type": "-"
    }
   },
   "outputs": [
    {
     "data": {
      "image/png": "[encoded data removed]",
      "text/plain": [
       "<Figure size 432x288 with 1 Axes>"
      ]
     },
     "metadata": {},
     "output_type": "display_data"
    }
   ],
   "source": [
    "gsr_kpath.ebands.kpoints.plot();"
   ]
  },
  {
   "cell_type": "markdown",
   "metadata": {
    "slideshow": {
     "slide_type": "subslide"
    }
   },
   "source": [
    "#### To plot the band structure, use:"
   ]
  },
  {
   "cell_type": "code",
   "execution_count": 10,
   "metadata": {
    "slideshow": {
     "slide_type": "-"
    }
   },
   "outputs": [
    {
     "data": {
      "image/png": "[encoded data removed]",
      "text/plain": [
       "<Figure size 432x288 with 1 Axes>"
      ]
     },
     "metadata": {},
     "output_type": "display_data"
    }
   ],
   "source": [
    "gsr_kpath.ebands.plot(with_gaps=True, title=\"Silicon band structure\");"
   ]
  },
  {
   "cell_type": "markdown",
   "metadata": {
    "slideshow": {
     "slide_type": "notes"
    }
   },
   "source": [
    "### Plot method accept several kwargs:\n",
    "\n",
    "    * show = \n",
    "    * figsize \n",
    "    * a"
   ]
  },
  {
   "cell_type": "markdown",
   "metadata": {
    "slideshow": {
     "slide_type": "subslide"
    }
   },
   "source": [
    "#### Band energies can be given either along a k-path or in the irreducible Brillouin zone (IBZ):"
   ]
  },
  {
   "cell_type": "code",
   "execution_count": 11,
   "metadata": {
    "slideshow": {
     "slide_type": "-"
    }
   },
   "outputs": [
    {
     "name": "stdout",
     "output_type": "stream",
     "text": [
      "K-mesh with divisions: [8, 8, 8], shifts: [0.0, 0.0, 0.0]\n",
      "kptopt: 1 (Use space group symmetries and TR symmetry)\n",
      "Number of points in the IBZ: 29\n",
      "     0) [+0.000, +0.000, +0.000],  weight=0.002\n",
      "     1) [+0.125, +0.000, +0.000],  weight=0.016\n",
      "     2) [+0.250, +0.000, +0.000],  weight=0.016\n",
      "     3) [+0.375, +0.000, +0.000],  weight=0.016\n",
      "     4) [+0.500, +0.000, +0.000],  weight=0.008\n",
      "     5) [+0.125, +0.125, +0.000],  weight=0.012\n",
      "     6) [+0.250, +0.125, +0.000],  weight=0.047\n",
      "     7) [+0.375, +0.125, +0.000],  weight=0.047\n",
      "     8) [+0.500, +0.125, +0.000],  weight=0.047\n",
      "     9) [-0.375, +0.125, +0.000],  weight=0.047\n",
      "    10) [-0.250, +0.125, +0.000],  weight=0.047\n",
      "    ... (More than 10 k-points)\n"
     ]
    }
   ],
   "source": [
    "with abilab.abiopen(\"si_scf_GSR.nc\") as scf_gsr:\n",
    "    ebands_kmesh = scf_gsr.ebands\n",
    "    print(ebands_kmesh.kpoints)"
   ]
  },
  {
   "cell_type": "code",
   "execution_count": 12,
   "metadata": {
    "slideshow": {
     "slide_type": "subslide"
    }
   },
   "outputs": [
    {
     "data": {
      "image/png": "[encoded data removed]",
      "text/plain": [
       "<Figure size 432x288 with 1 Axes>"
      ]
     },
     "metadata": {},
     "output_type": "display_data"
    }
   ],
   "source": [
    "ebands_kmesh.kpoints.plot(title=\"IBZ sampling\");"
   ]
  },
  {
   "cell_type": "markdown",
   "metadata": {
    "slideshow": {
     "slide_type": "subslide"
    }
   },
   "source": [
    "#### To compute the density of states (DOS), we need energies in the IBZ:"
   ]
  },
  {
   "cell_type": "code",
   "execution_count": 13,
   "metadata": {
    "slideshow": {
     "slide_type": "-"
    }
   },
   "outputs": [
    {
     "data": {
      "image/png": "[encoded data removed]",
      "text/plain": [
       "<Figure size 432x288 with 1 Axes>"
      ]
     },
     "metadata": {},
     "output_type": "display_data"
    }
   ],
   "source": [
    "edos = ebands_kmesh.get_edos()\n",
    "edos.plot();"
   ]
  },
  {
   "cell_type": "markdown",
   "metadata": {
    "slideshow": {
     "slide_type": "subslide"
    }
   },
   "source": [
    "#### Plotting bands with DOS is easy:"
   ]
  },
  {
   "cell_type": "code",
   "execution_count": 14,
   "metadata": {
    "scrolled": false,
    "slideshow": {
     "slide_type": "-"
    }
   },
   "outputs": [
    {
     "data": {
      "image/png": "[encoded data removed]",
      "text/plain": [
       "<Figure size 432x288 with 2 Axes>"
      ]
     },
     "metadata": {},
     "output_type": "display_data"
    }
   ],
   "source": [
    "gsr_kpath.ebands.plot_with_edos(edos);"
   ]
  },
  {
   "cell_type": "markdown",
   "metadata": {
    "slideshow": {
     "slide_type": "subslide"
    }
   },
   "source": [
    "#### Use *ElectronBandsPlotter* to visualize multiple band structures:"
   ]
  },
  {
   "cell_type": "code",
   "execution_count": 15,
   "metadata": {
    "slideshow": {
     "slide_type": "-"
    }
   },
   "outputs": [
    {
     "data": {
      "image/png": "[encoded data removed]",
      "text/plain": [
       "<Figure size 432x288 with 2 Axes>"
      ]
     },
     "metadata": {},
     "output_type": "display_data"
    }
   ],
   "source": [
    "plotter = abilab.ElectronBandsPlotter()\n",
    "plotter.add_ebands(label=\"BZ sampling\", bands=\"si_scf_GSR.nc\")\n",
    "plotter.add_ebands(label=\"k-path\", bands=\"si_nscf_GSR.nc\")\n",
    "plotter.gridplot(with_gaps=True);"
   ]
  },
  {
   "cell_type": "markdown",
   "metadata": {
    "slideshow": {
     "slide_type": "subslide"
    }
   },
   "source": [
    "##### We can also compute the DOS with the gaussian method and different broadening values"
   ]
  },
  {
   "cell_type": "code",
   "execution_count": 16,
   "metadata": {
    "slideshow": {
     "slide_type": "-"
    }
   },
   "outputs": [],
   "source": [
    "edos_plotter = ebands_kmesh.compare_gauss_edos(widths=[0.2, 0.3, 0.4], step=0.1)"
   ]
  },
  {
   "cell_type": "markdown",
   "metadata": {
    "slideshow": {
     "slide_type": "-"
    }
   },
   "source": [
    "##### and plot the results on the same figure with:"
   ]
  },
  {
   "cell_type": "code",
   "execution_count": 17,
   "metadata": {
    "slideshow": {
     "slide_type": "-"
    }
   },
   "outputs": [
    {
     "data": {
      "image/png": "[encoded data removed]",
      "text/plain": [
       "<Figure size 432x288 with 1 Axes>"
      ]
     },
     "metadata": {},
     "output_type": "display_data"
    }
   ],
   "source": [
    "edos_plotter.combiplot();"
   ]
  },
  {
   "cell_type": "markdown",
   "metadata": {
    "slideshow": {
     "slide_type": "subslide"
    }
   },
   "source": [
    "#### while *gridplot* shows the results in a grid:"
   ]
  },
  {
   "cell_type": "code",
   "execution_count": 18,
   "metadata": {
    "slideshow": {
     "slide_type": "-"
    }
   },
   "outputs": [
    {
     "data": {
      "image/png": "[encoded data removed]",
      "text/plain": [
       "<Figure size 432x288 with 4 Axes>"
      ]
     },
     "metadata": {},
     "output_type": "display_data"
    }
   ],
   "source": [
    "edos_plotter.gridplot();"
   ]
  },
  {
   "cell_type": "markdown",
   "metadata": {
    "slideshow": {
     "slide_type": "slide"
    }
   },
   "source": [
    "## Other files supported by AbiPy\n",
    "\n",
    "* *GSR.nc* ➝ Ground-state results produced by SCF/NSCF runs\n",
    "* *HIST.nc* ➝ Structural relaxation and molecular dynamics\n",
    "* *FATBANDS.nc* ➝ Fatbands and LM-projected DOS for electrons\n",
    "* *DDB*: ➝ dynamical matrix, Born effective charges, elastic constants…\n",
    "* *SIGRES.nc* ➝ $GW$ calculations ($\\Sigma^{e-e}$ self-energy)\n",
    "* *MDF.nc* ➝ Bethe-Salpeter calculations\n",
    "* *ABIWAN.nc* ➝ *netcdf* file produced by Abinit with wannier90 results \n",
    "* *SIGEPH.nc* ➝ electron-phonon self-energy ($\\Sigma^{e-ph}$)\n",
    "* …"
   ]
  },
  {
   "cell_type": "markdown",
   "metadata": {
    "slideshow": {
     "slide_type": "slide"
    }
   },
   "source": [
    "## Abipy Robots\n",
    "\n",
    "* High-level interface to operate on <u>multiple files</u> with the same file extension\n",
    "\n",
    "* Useful for:\n",
    "\n",
    "     * convergence studies\n",
    "     * producing multiple plots\n",
    "     * building [Pandas dataframes](https://pandas.pydata.org/) (data in tabular format powered by python)\n",
    "\n",
    "* Each *Robot* is associated to a file extension, *e.g.* \n",
    "\n",
    "     * GSR.nc ➝ *GsrRobot*\n",
    "     * DDB ➝ *DdbRobot*\n",
    "     \n",
    "* *Robots* can be constructed from:\n",
    "\n",
    "    1. List of filenames\n",
    "    2. Directories and regular expressions\n",
    "    \n",
    "* Command line interface provided by the *abicomp.py* script:\n",
    "\n",
    "            abicomp.py gsr *GSR.nc --notebook"
   ]
  },
  {
   "cell_type": "markdown",
   "metadata": {
    "slideshow": {
     "slide_type": "subslide"
    }
   },
   "source": [
    "## Our first example with the GsrRobot\n",
    "\n",
    "#### We have a directory with a bunch of  *GSR.nc* files and we need to analyze the results:"
   ]
  },
  {
   "cell_type": "code",
   "execution_count": 19,
   "metadata": {
    "slideshow": {
     "slide_type": "-"
    }
   },
   "outputs": [
    {
     "name": "stdout",
     "output_type": "stream",
     "text": [
      "out0_GSR.nc  out1_GSR.nc  out2_GSR.nc  out3_GSR.nc\r\n"
     ]
    }
   ],
   "source": [
    "ls flow_base3_ngkpt"
   ]
  },
  {
   "cell_type": "markdown",
   "metadata": {
    "slideshow": {
     "slide_type": "-"
    }
   },
   "source": [
    "##### Let's construct a  *GsrRobot* with:"
   ]
  },
  {
   "cell_type": "code",
   "execution_count": 20,
   "metadata": {
    "slideshow": {
     "slide_type": "-"
    }
   },
   "outputs": [],
   "source": [
    "robot_enekpt = abilab.GsrRobot.from_dir(\"flow_base3_ngkpt\");"
   ]
  },
  {
   "cell_type": "markdown",
   "metadata": {
    "slideshow": {
     "slide_type": "-"
    }
   },
   "source": [
    "##### Files can be accessed with list-like or dict-like syntax:"
   ]
  },
  {
   "cell_type": "code",
   "execution_count": 21,
   "metadata": {
    "slideshow": {
     "slide_type": "-"
    }
   },
   "outputs": [
    {
     "data": {
      "text/plain": [
       "<GsrFile, flow_base3_ngkpt/out0_GSR.nc>"
      ]
     },
     "execution_count": 21,
     "metadata": {},
     "output_type": "execute_result"
    }
   ],
   "source": [
    "robot_enekpt.abifiles[0]"
   ]
  },
  {
   "cell_type": "code",
   "execution_count": 22,
   "metadata": {
    "slideshow": {
     "slide_type": "-"
    }
   },
   "outputs": [
    {
     "data": {
      "text/plain": [
       "<GsrFile, flow_base3_ngkpt/out0_GSR.nc>"
      ]
     },
     "execution_count": 22,
     "metadata": {},
     "output_type": "execute_result"
    }
   ],
   "source": [
    "robot_enekpt[\"out0_GSR.nc\"]"
   ]
  },
  {
   "cell_type": "markdown",
   "metadata": {
    "slideshow": {
     "slide_type": "subslide"
    }
   },
   "source": [
    "#### Now we can use the robot methods to build pandas *DataFrames*:\n"
   ]
  },
  {
   "cell_type": "code",
   "execution_count": 23,
   "metadata": {
    "slideshow": {
     "slide_type": "-"
    }
   },
   "outputs": [
    {
     "name": "stdout",
     "output_type": "stream",
     "text": [
      "Index(['formula', 'natom', 'alpha', 'beta', 'gamma', 'a', 'b', 'c', 'volume',\n",
      "       'abispg_num', 'spglib_symb', 'spglib_num', 'spglib_lattice_type',\n",
      "       'energy', 'pressure', 'max_force', 'ecut', 'pawecutdg', 'tsmear',\n",
      "       'nkpt', 'nsppol', 'nspinor', 'nspden'],\n",
      "      dtype='object')\n"
     ]
    }
   ],
   "source": [
    "ene_table = robot_enekpt.get_dataframe()\n",
    "print(ene_table.keys())"
   ]
  },
  {
   "cell_type": "markdown",
   "metadata": {
    "slideshow": {
     "slide_type": "-"
    }
   },
   "source": [
    "#### Jupyter knows how to visualize *DataFrames*:"
   ]
  },
  {
   "cell_type": "code",
   "execution_count": 24,
   "metadata": {
    "slideshow": {
     "slide_type": "-"
    }
   },
   "outputs": [
    {
     "data": {
      "text/html": [
       "<div>\n",
       "<style scoped>\n",
       "    .dataframe tbody tr th:only-of-type {\n",
       "        vertical-align: middle;\n",
       "    }\n",
       "\n",
       "    .dataframe tbody tr th {\n",
       "        vertical-align: top;\n",
       "    }\n",
       "\n",
       "    .dataframe thead th {\n",
       "        text-align: right;\n",
       "    }\n",
       "</style>\n",
       "<table border=\"1\" class=\"dataframe\">\n",
       "  <thead>\n",
       "    <tr style=\"text-align: right;\">\n",
       "      <th></th>\n",
       "      <th>formula</th>\n",
       "      <th>natom</th>\n",
       "      <th>alpha</th>\n",
       "      <th>beta</th>\n",
       "      <th>gamma</th>\n",
       "      <th>a</th>\n",
       "      <th>b</th>\n",
       "      <th>c</th>\n",
       "      <th>volume</th>\n",
       "      <th>abispg_num</th>\n",
       "      <th>...</th>\n",
       "      <th>energy</th>\n",
       "      <th>pressure</th>\n",
       "      <th>max_force</th>\n",
       "      <th>ecut</th>\n",
       "      <th>pawecutdg</th>\n",
       "      <th>tsmear</th>\n",
       "      <th>nkpt</th>\n",
       "      <th>nsppol</th>\n",
       "      <th>nspinor</th>\n",
       "      <th>nspden</th>\n",
       "    </tr>\n",
       "  </thead>\n",
       "  <tbody>\n",
       "    <tr>\n",
       "      <th>out0_GSR.nc</th>\n",
       "      <td>Si2</td>\n",
       "      <td>2</td>\n",
       "      <td>60.0</td>\n",
       "      <td>60.0</td>\n",
       "      <td>60.0</td>\n",
       "      <td>3.866975</td>\n",
       "      <td>3.866975</td>\n",
       "      <td>3.866975</td>\n",
       "      <td>40.888292</td>\n",
       "      <td>227</td>\n",
       "      <td>...</td>\n",
       "      <td>-241.251546</td>\n",
       "      <td>-3.586342</td>\n",
       "      <td>3.051564e-27</td>\n",
       "      <td>8.0</td>\n",
       "      <td>-1.0</td>\n",
       "      <td>0.01</td>\n",
       "      <td>2</td>\n",
       "      <td>1</td>\n",
       "      <td>1</td>\n",
       "      <td>1</td>\n",
       "    </tr>\n",
       "    <tr>\n",
       "      <th>out1_GSR.nc</th>\n",
       "      <td>Si2</td>\n",
       "      <td>2</td>\n",
       "      <td>60.0</td>\n",
       "      <td>60.0</td>\n",
       "      <td>60.0</td>\n",
       "      <td>3.866975</td>\n",
       "      <td>3.866975</td>\n",
       "      <td>3.866975</td>\n",
       "      <td>40.888292</td>\n",
       "      <td>227</td>\n",
       "      <td>...</td>\n",
       "      <td>-241.417959</td>\n",
       "      <td>-3.907310</td>\n",
       "      <td>4.677360e-27</td>\n",
       "      <td>8.0</td>\n",
       "      <td>-1.0</td>\n",
       "      <td>0.01</td>\n",
       "      <td>10</td>\n",
       "      <td>1</td>\n",
       "      <td>1</td>\n",
       "      <td>1</td>\n",
       "    </tr>\n",
       "    <tr>\n",
       "      <th>out2_GSR.nc</th>\n",
       "      <td>Si2</td>\n",
       "      <td>2</td>\n",
       "      <td>60.0</td>\n",
       "      <td>60.0</td>\n",
       "      <td>60.0</td>\n",
       "      <td>3.866975</td>\n",
       "      <td>3.866975</td>\n",
       "      <td>3.866975</td>\n",
       "      <td>40.888292</td>\n",
       "      <td>227</td>\n",
       "      <td>...</td>\n",
       "      <td>-241.421158</td>\n",
       "      <td>-3.895679</td>\n",
       "      <td>0.000000e+00</td>\n",
       "      <td>8.0</td>\n",
       "      <td>-1.0</td>\n",
       "      <td>0.01</td>\n",
       "      <td>28</td>\n",
       "      <td>1</td>\n",
       "      <td>1</td>\n",
       "      <td>1</td>\n",
       "    </tr>\n",
       "    <tr>\n",
       "      <th>out3_GSR.nc</th>\n",
       "      <td>Si2</td>\n",
       "      <td>2</td>\n",
       "      <td>60.0</td>\n",
       "      <td>60.0</td>\n",
       "      <td>60.0</td>\n",
       "      <td>3.866975</td>\n",
       "      <td>3.866975</td>\n",
       "      <td>3.866975</td>\n",
       "      <td>40.888292</td>\n",
       "      <td>227</td>\n",
       "      <td>...</td>\n",
       "      <td>-241.421391</td>\n",
       "      <td>-3.895437</td>\n",
       "      <td>2.762091e-27</td>\n",
       "      <td>8.0</td>\n",
       "      <td>-1.0</td>\n",
       "      <td>0.01</td>\n",
       "      <td>60</td>\n",
       "      <td>1</td>\n",
       "      <td>1</td>\n",
       "      <td>1</td>\n",
       "    </tr>\n",
       "  </tbody>\n",
       "</table>\n",
       "<p>4 rows × 23 columns</p>\n",
       "</div>"
      ],
      "text/plain": [
       "            formula  natom  alpha  beta  gamma         a         b         c  \\\n",
       "out0_GSR.nc     Si2      2   60.0  60.0   60.0  3.866975  3.866975  3.866975   \n",
       "out1_GSR.nc     Si2      2   60.0  60.0   60.0  3.866975  3.866975  3.866975   \n",
       "out2_GSR.nc     Si2      2   60.0  60.0   60.0  3.866975  3.866975  3.866975   \n",
       "out3_GSR.nc     Si2      2   60.0  60.0   60.0  3.866975  3.866975  3.866975   \n",
       "\n",
       "                volume abispg_num   ...        energy  pressure     max_force  \\\n",
       "out0_GSR.nc  40.888292        227   ...   -241.251546 -3.586342  3.051564e-27   \n",
       "out1_GSR.nc  40.888292        227   ...   -241.417959 -3.907310  4.677360e-27   \n",
       "out2_GSR.nc  40.888292        227   ...   -241.421158 -3.895679  0.000000e+00   \n",
       "out3_GSR.nc  40.888292        227   ...   -241.421391 -3.895437  2.762091e-27   \n",
       "\n",
       "             ecut  pawecutdg  tsmear  nkpt  nsppol  nspinor  nspden  \n",
       "out0_GSR.nc   8.0       -1.0    0.01     2       1        1       1  \n",
       "out1_GSR.nc   8.0       -1.0    0.01    10       1        1       1  \n",
       "out2_GSR.nc   8.0       -1.0    0.01    28       1        1       1  \n",
       "out3_GSR.nc   8.0       -1.0    0.01    60       1        1       1  \n",
       "\n",
       "[4 rows x 23 columns]"
      ]
     },
     "execution_count": 24,
     "metadata": {},
     "output_type": "execute_result"
    }
   ],
   "source": [
    "ene_table"
   ]
  },
  {
   "cell_type": "code",
   "execution_count": 25,
   "metadata": {
    "slideshow": {
     "slide_type": "skip"
    }
   },
   "outputs": [
    {
     "data": {
      "text/html": [
       "<div>\n",
       "<style scoped>\n",
       "    .dataframe tbody tr th:only-of-type {\n",
       "        vertical-align: middle;\n",
       "    }\n",
       "\n",
       "    .dataframe tbody tr th {\n",
       "        vertical-align: top;\n",
       "    }\n",
       "\n",
       "    .dataframe thead th {\n",
       "        text-align: right;\n",
       "    }\n",
       "</style>\n",
       "<table border=\"1\" class=\"dataframe\">\n",
       "  <thead>\n",
       "    <tr style=\"text-align: right;\">\n",
       "      <th></th>\n",
       "      <th>energy</th>\n",
       "      <th>pressure</th>\n",
       "    </tr>\n",
       "  </thead>\n",
       "  <tbody>\n",
       "    <tr>\n",
       "      <th>out0_GSR.nc</th>\n",
       "      <td>-241.251546</td>\n",
       "      <td>-3.586342</td>\n",
       "    </tr>\n",
       "    <tr>\n",
       "      <th>out1_GSR.nc</th>\n",
       "      <td>-241.417959</td>\n",
       "      <td>-3.907310</td>\n",
       "    </tr>\n",
       "    <tr>\n",
       "      <th>out2_GSR.nc</th>\n",
       "      <td>-241.421158</td>\n",
       "      <td>-3.895679</td>\n",
       "    </tr>\n",
       "    <tr>\n",
       "      <th>out3_GSR.nc</th>\n",
       "      <td>-241.421391</td>\n",
       "      <td>-3.895437</td>\n",
       "    </tr>\n",
       "  </tbody>\n",
       "</table>\n",
       "</div>"
      ],
      "text/plain": [
       "                 energy  pressure\n",
       "out0_GSR.nc -241.251546 -3.586342\n",
       "out1_GSR.nc -241.417959 -3.907310\n",
       "out2_GSR.nc -241.421158 -3.895679\n",
       "out3_GSR.nc -241.421391 -3.895437"
      ]
     },
     "execution_count": 25,
     "metadata": {},
     "output_type": "execute_result"
    }
   ],
   "source": [
    "ene_table[[\"energy\", \"pressure\"]]"
   ]
  },
  {
   "cell_type": "markdown",
   "metadata": {
    "slideshow": {
     "slide_type": "subslide"
    }
   },
   "source": [
    "#### Dataframes are great as we can use python to operate on the data:"
   ]
  },
  {
   "cell_type": "code",
   "execution_count": 26,
   "metadata": {
    "slideshow": {
     "slide_type": "-"
    }
   },
   "outputs": [
    {
     "data": {
      "text/html": [
       "<div>\n",
       "<style scoped>\n",
       "    .dataframe tbody tr th:only-of-type {\n",
       "        vertical-align: middle;\n",
       "    }\n",
       "\n",
       "    .dataframe tbody tr th {\n",
       "        vertical-align: top;\n",
       "    }\n",
       "\n",
       "    .dataframe thead th {\n",
       "        text-align: right;\n",
       "    }\n",
       "</style>\n",
       "<table border=\"1\" class=\"dataframe\">\n",
       "  <thead>\n",
       "    <tr style=\"text-align: right;\">\n",
       "      <th></th>\n",
       "      <th>nkpt</th>\n",
       "      <th>energy</th>\n",
       "      <th>energy_Ha</th>\n",
       "      <th>ediff_Ha</th>\n",
       "    </tr>\n",
       "  </thead>\n",
       "  <tbody>\n",
       "    <tr>\n",
       "      <th>out0_GSR.nc</th>\n",
       "      <td>2</td>\n",
       "      <td>-241.251546</td>\n",
       "      <td>-8.865831</td>\n",
       "      <td>0.006242</td>\n",
       "    </tr>\n",
       "    <tr>\n",
       "      <th>out1_GSR.nc</th>\n",
       "      <td>10</td>\n",
       "      <td>-241.417959</td>\n",
       "      <td>-8.871946</td>\n",
       "      <td>0.000126</td>\n",
       "    </tr>\n",
       "    <tr>\n",
       "      <th>out2_GSR.nc</th>\n",
       "      <td>28</td>\n",
       "      <td>-241.421158</td>\n",
       "      <td>-8.872064</td>\n",
       "      <td>0.000009</td>\n",
       "    </tr>\n",
       "    <tr>\n",
       "      <th>out3_GSR.nc</th>\n",
       "      <td>60</td>\n",
       "      <td>-241.421391</td>\n",
       "      <td>-8.872073</td>\n",
       "      <td>0.000000</td>\n",
       "    </tr>\n",
       "  </tbody>\n",
       "</table>\n",
       "</div>"
      ],
      "text/plain": [
       "             nkpt      energy  energy_Ha  ediff_Ha\n",
       "out0_GSR.nc     2 -241.251546  -8.865831  0.006242\n",
       "out1_GSR.nc    10 -241.417959  -8.871946  0.000126\n",
       "out2_GSR.nc    28 -241.421158  -8.872064  0.000009\n",
       "out3_GSR.nc    60 -241.421391  -8.872073  0.000000"
      ]
     },
     "execution_count": 26,
     "metadata": {},
     "output_type": "execute_result"
    }
   ],
   "source": [
    "ene_table.sort_values(by=\"nkpt\", inplace=True)\n",
    "\n",
    "# Add 2 columns with energies in Ha and difference wrt to the last point.\n",
    "ene_table[\"energy_Ha\"] = ene_table[\"energy\"] * abilab.units.eV_to_Ha\n",
    "ene_table[\"ediff_Ha\"] = ene_table[\"energy_Ha\"] - ene_table[\"energy_Ha\"][-1]\n",
    "\n",
    "# Select columns with the syntax:\n",
    "ene_table[[\"nkpt\", \"energy\", \"energy_Ha\", \"ediff_Ha\"]]"
   ]
  },
  {
   "cell_type": "markdown",
   "metadata": {
    "slideshow": {
     "slide_type": "-"
    }
   },
   "source": [
    "* Dataframes can be exported to different formats: CSV, $Latex$, JSON, Excel, ...\n",
    "* High-level plotting interface provided by [seaborn](https://seaborn.pydata.org/)\n",
    "* Explore your *DataFrames* inside *jupyter* with [qgrid](https://github.com/quantopian/qgrid)\n",
    "* Use [ene_table.to_clipboard()](https://pandas.pydata.org/pandas-docs/stable/reference/api/pandas.DataFrame.to_clipboard.html#pandas-dataframe-to-clipboard) \n",
    "to copy to clipboard and paste into spreadsheet editor"
   ]
  },
  {
   "cell_type": "markdown",
   "metadata": {
    "slideshow": {
     "slide_type": "subslide"
    }
   },
   "source": [
    "#### We can also use the pandas built-in API to plot the data with matplotlib:"
   ]
  },
  {
   "cell_type": "code",
   "execution_count": 27,
   "metadata": {
    "slideshow": {
     "slide_type": "-"
    }
   },
   "outputs": [
    {
     "data": {
      "image/png": "[encoded data removed]",
      "text/plain": [
       "<Figure size 432x288 with 3 Axes>"
      ]
     },
     "metadata": {},
     "output_type": "display_data"
    }
   ],
   "source": [
    "ene_table.plot(x=\"nkpt\", y=[\"energy_Ha\", \"ediff_Ha\", \"pressure\"], \n",
    "               style=\"-o\", subplots=True);"
   ]
  },
  {
   "cell_type": "markdown",
   "metadata": {
    "slideshow": {
     "slide_type": "-"
    }
   },
   "source": [
    "\n",
    "* Command line interface provided by the [abicomp.py script](https://abinit.github.io/abipy/scripts/abicomp.html) \n",
    "\n",
    "* See also [lesson_base3](https://nbviewer.jupyter.org/github/abinit/abitutorials/blob/master/abitutorials/base3/lesson_base3.ipynb:)"
   ]
  },
  {
   "cell_type": "markdown",
   "metadata": {
    "slideshow": {
     "slide_type": "skip"
    }
   },
   "source": [
    "#### or pass a function to compute the values  along the x-axis and sort the results:\n",
    "<!-- The docstring of the function will be used as label of the x-axis: -->"
   ]
  },
  {
   "cell_type": "code",
   "execution_count": 28,
   "metadata": {
    "slideshow": {
     "slide_type": "skip"
    }
   },
   "outputs": [
    {
     "data": {
      "image/png": "[encoded data removed]",
      "text/plain": [
       "<Figure size 432x288 with 3 Axes>"
      ]
     },
     "metadata": {},
     "output_type": "display_data"
    }
   ],
   "source": [
    "def inv_nkpt(abifile):\n",
    "    r\"\"\"$\\dfrac{1}{N_{k}}$\"\"\"\n",
    "    return 1.0 / abifile.nkpt\n",
    "    \n",
    "robot_enekpt.plot_gsr_convergence(sortby=inv_nkpt);    "
   ]
  },
  {
   "cell_type": "markdown",
   "metadata": {
    "slideshow": {
     "slide_type": "slide"
    }
   },
   "source": [
    "### Post-processing the DFPT results available in the MP database\n",
    "\n",
    "* More than 1500 DFPT calculations done with abiflows ([Petretto et al.](https://www.nature.com/articles/sdata201865))\n",
    "* Results available on the materials project website (including the *DDB* files) \n",
    "\n",
    "<hr>\n",
    "\n",
    "Let's assume we want to reuse the raw data for our research work:\n",
    "\n",
    "   * Handling 1500 tabs in the web browser is not feasible\n",
    "   * We need a <u>programmatic</u> interface to automate stuff. \n",
    "\n",
    "With python we can easily connect the different parts of the puzzle:\n",
    "\n",
    "* REST API to get the raw data (*DDB*) from the MP database\n",
    "* Computation of phonons, thermodinamical properties, Born effective charges, dielectric tensor, IR spectrum with ABINIT\n",
    "* Post-processing with AbiPy\n",
    "\n",
    "For a more comprehensive discussion see this \n",
    "[abitutorial](https://nbviewer.jupyter.org/github/abinit/abitutorials/blob/master/abitutorials/ddb.ipynb)\n",
    "\n",
    "<!--\n",
    "The results for the rocksalt phase of MgO are available at https://materialsproject.org/materials/mp-1009129/\n",
    "-->"
   ]
  },
  {
   "cell_type": "markdown",
   "metadata": {
    "slideshow": {
     "slide_type": "subslide"
    }
   },
   "source": [
    "#### To download a DDB file from the materials project database:"
   ]
  },
  {
   "cell_type": "code",
   "execution_count": 29,
   "metadata": {
    "slideshow": {
     "slide_type": "-"
    }
   },
   "outputs": [
    {
     "name": "stdout",
     "output_type": "stream",
     "text": [
      "================================= File Info =================================\n",
      "Name: mp-10091299gq8vlny_DDB\n",
      "Directory: /var/folders/89/47k8wfdj11x035svqf8qnl4m0000gn/T\n",
      "Size: 218.73 kb\n",
      "Access Time: Thu Feb 28 17:09:12 2019\n",
      "Modification Time: Thu Feb 28 17:09:12 2019\n",
      "Change Time: Thu Feb 28 17:09:12 2019\n",
      "\n",
      "================================= Structure =================================\n",
      "Full Formula (Mg1 O1)\n",
      "Reduced Formula: MgO\n",
      "abc   :   2.908638   2.908638   2.656848\n",
      "angles:  90.000000  90.000000 120.000000\n",
      "Sites (2)\n",
      "  #  SP           a         b    c\n",
      "---  ----  --------  --------  ---\n",
      "  0  Mg    0         0         0\n",
      "  1  O     0.333333  0.666667  0.5\n",
      "\n",
      "Abinit Spacegroup: spgid: 0, num_spatial_symmetries: 12, has_timerev: True, symmorphic: False\n",
      "\n",
      "================================== DDB Info ==================================\n",
      "\n",
      "Number of q-points in DDB: 72\n",
      "guessed_ngqpt: [ 9  9 10] (guess for the q-mesh divisions made by AbiPy)\n",
      "ecut = 44.000000, ecutsm = 0.000000, nkpt = 405, nsym = 12, usepaw = 0\n",
      "nsppol 1, nspinor 1, nspden 1, ixc = -116133, occopt = 1, tsmear = 0.010000\n",
      "\n",
      "Has total energy: False, Has forces: False\n",
      "Has stress tensor: False\n",
      "\n",
      "Has (at least one) atomic pertubation: True\n",
      "Has (at least one diagonal) electric-field perturbation: True\n",
      "Has (at least one) Born effective charge: True\n",
      "Has (all) strain terms: False\n",
      "Has (all) internal strain terms: False\n",
      "Has (all) piezoelectric terms: False\n"
     ]
    }
   ],
   "source": [
    "ddb = abilab.DdbFile.from_mpid(\"mp-1009129\")\n",
    "print(ddb)"
   ]
  },
  {
   "cell_type": "markdown",
   "metadata": {
    "slideshow": {
     "slide_type": "subslide"
    }
   },
   "source": [
    "#### Once we have a *DdbFile* object, we can call *anaddb* to compute phonon bands and DOS:"
   ]
  },
  {
   "cell_type": "code",
   "execution_count": 30,
   "metadata": {
    "slideshow": {
     "slide_type": "-"
    }
   },
   "outputs": [],
   "source": [
    "# Return PHBST and PHDOS netcdf files.\n",
    "phbstnc, phdosnc = ddb.anaget_phbst_and_phdos_files(\n",
    "    ndivsm=20, nqsmall=20, lo_to_splitting=True, asr=2, \n",
    "    chneut=1, dipdip=1, dos_method=\"tetra\")"
   ]
  },
  {
   "cell_type": "markdown",
   "metadata": {
    "slideshow": {
     "slide_type": "-"
    }
   },
   "source": [
    "#### and extract the phonon bands and the phonon DOS objects with:"
   ]
  },
  {
   "cell_type": "code",
   "execution_count": 31,
   "metadata": {
    "slideshow": {
     "slide_type": "-"
    }
   },
   "outputs": [],
   "source": [
    "phbands = phbstnc.phbands\n",
    "phdos = phdosnc.phdos"
   ]
  },
  {
   "cell_type": "code",
   "execution_count": 32,
   "metadata": {},
   "outputs": [
    {
     "name": "stdout",
     "output_type": "stream",
     "text": [
      "================================= Structure =================================\n",
      "Full Formula (Mg1 O1)\n",
      "Reduced Formula: MgO\n",
      "abc   :   2.908638   2.908638   2.656848\n",
      "angles:  90.000000  90.000000 120.000000\n",
      "Sites (2)\n",
      "  #  SP           a         b    c\n",
      "---  ----  --------  --------  ---\n",
      "  0  Mg    0         0         0\n",
      "  1  O     0.333333  0.666667  0.5\n",
      "\n",
      "Abinit Spacegroup: spgid: 0, num_spatial_symmetries: 12, has_timerev: True, symmorphic: False\n",
      "\n",
      "Number of q-points: 345\n",
      "Atomic mass units: {12.0: 24.305, 8.0: 15.9994}\n",
      "Has non-analytical contribution for q --> 0: True\n"
     ]
    }
   ],
   "source": [
    "print(phbands)"
   ]
  },
  {
   "cell_type": "markdown",
   "metadata": {
    "slideshow": {
     "slide_type": "skip"
    }
   },
   "source": [
    "#### To plot the q-path:"
   ]
  },
  {
   "cell_type": "code",
   "execution_count": 33,
   "metadata": {
    "slideshow": {
     "slide_type": "skip"
    }
   },
   "outputs": [
    {
     "data": {
      "image/png": "[encoded data removed]",
      "text/plain": [
       "<Figure size 432x288 with 1 Axes>"
      ]
     },
     "metadata": {},
     "output_type": "display_data"
    }
   ],
   "source": [
    "phbands.qpoints.plot();"
   ]
  },
  {
   "cell_type": "markdown",
   "metadata": {
    "slideshow": {
     "slide_type": "subslide"
    }
   },
   "source": [
    "#### To plot the phonon band structure including LO-TO splitting:"
   ]
  },
  {
   "cell_type": "code",
   "execution_count": 34,
   "metadata": {
    "slideshow": {
     "slide_type": "-"
    }
   },
   "outputs": [
    {
     "data": {
      "image/png": "[encoded data removed]",
      "text/plain": [
       "<Figure size 432x288 with 1 Axes>"
      ]
     },
     "metadata": {},
     "output_type": "display_data"
    }
   ],
   "source": [
    "phbands.plot();"
   ]
  },
  {
   "cell_type": "markdown",
   "metadata": {
    "slideshow": {
     "slide_type": "subslide"
    }
   },
   "source": [
    "#### To plot the DOS and the integrated density of states (IDOS):"
   ]
  },
  {
   "cell_type": "code",
   "execution_count": 35,
   "metadata": {
    "slideshow": {
     "slide_type": "-"
    }
   },
   "outputs": [
    {
     "data": {
      "image/png": "[encoded data removed]",
      "text/plain": [
       "<Figure size 432x288 with 2 Axes>"
      ]
     },
     "metadata": {},
     "output_type": "display_data"
    }
   ],
   "source": [
    "phdos.plot(units=\"Thz\");"
   ]
  },
  {
   "cell_type": "markdown",
   "metadata": {
    "slideshow": {
     "slide_type": "subslide"
    }
   },
   "source": [
    "#### We can also plot the phonon bands and the DOS on the same figure with:"
   ]
  },
  {
   "cell_type": "code",
   "execution_count": 36,
   "metadata": {
    "slideshow": {
     "slide_type": "-"
    }
   },
   "outputs": [
    {
     "data": {
      "image/png": "[encoded data removed]",
      "text/plain": [
       "<Figure size 432x288 with 2 Axes>"
      ]
     },
     "metadata": {},
     "output_type": "display_data"
    }
   ],
   "source": [
    "phbands.plot_with_phdos(phdos, units=\"meV\", title=\"AlAs phonons bands and DOS\");"
   ]
  },
  {
   "cell_type": "markdown",
   "metadata": {
    "slideshow": {
     "slide_type": "subslide"
    }
   },
   "source": [
    "## How to use DdbRobot to perform convergence studies\n",
    "\n",
    "<!--\n",
    "We have performed DFPT calculations for a metallic system ($MgB_2$) and we \n",
    "are interested in the effect of the k-sampling and the smearing on the vibrational properties.\n",
    "-->\n",
    "##### Let's use the *DdbRobot* to compare phonons obtained with different k-meshes and smearing values:"
   ]
  },
  {
   "cell_type": "code",
   "execution_count": 37,
   "metadata": {
    "run_control": {
     "marked": true
    },
    "slideshow": {
     "slide_type": "-"
    }
   },
   "outputs": [],
   "source": [
    "paths = [\n",
    "    \"mgb2_888k_0.01tsmear_DDB\",\n",
    "    \"mgb2_888k_0.04tsmear_DDB\",\n",
    "    \"mgb2_121212k_0.01tsmear_DDB\",\n",
    "    \"mgb2_121212k_0.04tsmear_DDB\",\n",
    "]\n",
    "\n",
    "paths = [os.path.join(abidata.dirpath, \"refs\", \"mgb2_phonons_nkpt_tsmear\", f) \n",
    "         for f in paths]\n",
    "\n",
    "robot = abilab.DdbRobot()\n",
    "for i, path in enumerate(paths):\n",
    "    robot.add_file(path, path)"
   ]
  },
  {
   "cell_type": "code",
   "execution_count": 38,
   "metadata": {},
   "outputs": [
    {
     "data": {
      "text/html": [
       "<ol start=\"0\">\n",
       "<li>nkpt: 256, tsmear: 0.01</li>\n",
       "<li>nkpt: 256, tsmear: 0.04</li>\n",
       "<li>nkpt: 864, tsmear: 0.01</li>\n",
       "<li>nkpt: 864, tsmear: 0.04</li>\n",
       "</ol>"
      ],
      "text/plain": [
       "Label                    Relpath\n",
       "-----------------------  -----------------------------------------------------------------------------\n",
       "nkpt: 256, tsmear: 0.01  ../abipy/abipy/data/refs/mgb2_phonons_nkpt_tsmear/mgb2_888k_0.01tsmear_DDB\n",
       "nkpt: 256, tsmear: 0.04  ../abipy/abipy/data/refs/mgb2_phonons_nkpt_tsmear/mgb2_888k_0.04tsmear_DDB\n",
       "nkpt: 864, tsmear: 0.01  ../abipy/abipy/data/refs/mgb2_phonons_nkpt_tsmear/mgb2_121212k_0.01tsmear_DDB\n",
       "nkpt: 864, tsmear: 0.04  ../abipy/abipy/data/refs/mgb2_phonons_nkpt_tsmear/mgb2_121212k_0.04tsmear_DDB"
      ]
     },
     "execution_count": 38,
     "metadata": {},
     "output_type": "execute_result"
    }
   ],
   "source": [
    "# Define function to change labels:\n",
    "func = lambda ddb: \"nkpt: %s, tsmear: %.2f\" % (\n",
    "    ddb.header[\"nkpt\"], ddb.header[\"tsmear\"])\n",
    "\n",
    "robot.remap_labels(func)\n",
    "robot"
   ]
  },
  {
   "cell_type": "markdown",
   "metadata": {
    "slideshow": {
     "slide_type": "subslide"
    }
   },
   "source": [
    "<!-- We are usually interested in the convergence behavior with respect to one or two parameters of \n",
    "the calculations.-->\n",
    "\n",
    "#### Now we can build a dataframe with the most important parameters:"
   ]
  },
  {
   "cell_type": "code",
   "execution_count": 39,
   "metadata": {
    "slideshow": {
     "slide_type": "-"
    }
   },
   "outputs": [
    {
     "data": {
      "text/html": [
       "<div>\n",
       "<style scoped>\n",
       "    .dataframe tbody tr th:only-of-type {\n",
       "        vertical-align: middle;\n",
       "    }\n",
       "\n",
       "    .dataframe tbody tr th {\n",
       "        vertical-align: top;\n",
       "    }\n",
       "\n",
       "    .dataframe thead th {\n",
       "        text-align: right;\n",
       "    }\n",
       "</style>\n",
       "<table border=\"1\" class=\"dataframe\">\n",
       "  <thead>\n",
       "    <tr style=\"text-align: right;\">\n",
       "      <th></th>\n",
       "      <th>nkpt</th>\n",
       "      <th>nsppol</th>\n",
       "      <th>ecut</th>\n",
       "      <th>tsmear</th>\n",
       "      <th>occopt</th>\n",
       "      <th>ixc</th>\n",
       "      <th>nband</th>\n",
       "      <th>usepaw</th>\n",
       "    </tr>\n",
       "  </thead>\n",
       "  <tbody>\n",
       "    <tr>\n",
       "      <th>nkpt: 256, tsmear: 0.01</th>\n",
       "      <td>256</td>\n",
       "      <td>1</td>\n",
       "      <td>35.0</td>\n",
       "      <td>0.01</td>\n",
       "      <td>4</td>\n",
       "      <td>1</td>\n",
       "      <td>8</td>\n",
       "      <td>0</td>\n",
       "    </tr>\n",
       "    <tr>\n",
       "      <th>nkpt: 256, tsmear: 0.04</th>\n",
       "      <td>256</td>\n",
       "      <td>1</td>\n",
       "      <td>35.0</td>\n",
       "      <td>0.04</td>\n",
       "      <td>4</td>\n",
       "      <td>1</td>\n",
       "      <td>8</td>\n",
       "      <td>0</td>\n",
       "    </tr>\n",
       "    <tr>\n",
       "      <th>nkpt: 864, tsmear: 0.01</th>\n",
       "      <td>864</td>\n",
       "      <td>1</td>\n",
       "      <td>35.0</td>\n",
       "      <td>0.01</td>\n",
       "      <td>4</td>\n",
       "      <td>1</td>\n",
       "      <td>8</td>\n",
       "      <td>0</td>\n",
       "    </tr>\n",
       "    <tr>\n",
       "      <th>nkpt: 864, tsmear: 0.04</th>\n",
       "      <td>864</td>\n",
       "      <td>1</td>\n",
       "      <td>35.0</td>\n",
       "      <td>0.04</td>\n",
       "      <td>4</td>\n",
       "      <td>1</td>\n",
       "      <td>8</td>\n",
       "      <td>0</td>\n",
       "    </tr>\n",
       "  </tbody>\n",
       "</table>\n",
       "</div>"
      ],
      "text/plain": [
       "                         nkpt  nsppol  ecut  tsmear  occopt  ixc  nband  \\\n",
       "nkpt: 256, tsmear: 0.01   256       1  35.0    0.01       4    1      8   \n",
       "nkpt: 256, tsmear: 0.04   256       1  35.0    0.04       4    1      8   \n",
       "nkpt: 864, tsmear: 0.01   864       1  35.0    0.01       4    1      8   \n",
       "nkpt: 864, tsmear: 0.04   864       1  35.0    0.04       4    1      8   \n",
       "\n",
       "                         usepaw  \n",
       "nkpt: 256, tsmear: 0.01       0  \n",
       "nkpt: 256, tsmear: 0.04       0  \n",
       "nkpt: 864, tsmear: 0.01       0  \n",
       "nkpt: 864, tsmear: 0.04       0  "
      ]
     },
     "execution_count": 39,
     "metadata": {},
     "output_type": "execute_result"
    }
   ],
   "source": [
    "robot.get_params_dataframe()"
   ]
  },
  {
   "cell_type": "markdown",
   "metadata": {
    "slideshow": {
     "slide_type": "-"
    }
   },
   "source": [
    "#### and check that all DDBs have been computed with the same crystalline structure:"
   ]
  },
  {
   "cell_type": "code",
   "execution_count": 40,
   "metadata": {
    "slideshow": {
     "slide_type": "-"
    }
   },
   "outputs": [
    {
     "data": {
      "text/html": [
       "<div>\n",
       "<style scoped>\n",
       "    .dataframe tbody tr th:only-of-type {\n",
       "        vertical-align: middle;\n",
       "    }\n",
       "\n",
       "    .dataframe tbody tr th {\n",
       "        vertical-align: top;\n",
       "    }\n",
       "\n",
       "    .dataframe thead th {\n",
       "        text-align: right;\n",
       "    }\n",
       "</style>\n",
       "<table border=\"1\" class=\"dataframe\">\n",
       "  <thead>\n",
       "    <tr style=\"text-align: right;\">\n",
       "      <th></th>\n",
       "      <th>formula</th>\n",
       "      <th>natom</th>\n",
       "      <th>alpha</th>\n",
       "      <th>beta</th>\n",
       "      <th>gamma</th>\n",
       "      <th>a</th>\n",
       "      <th>b</th>\n",
       "      <th>c</th>\n",
       "      <th>volume</th>\n",
       "      <th>abispg_num</th>\n",
       "      <th>spglib_symb</th>\n",
       "      <th>spglib_num</th>\n",
       "      <th>spglib_lattice_type</th>\n",
       "    </tr>\n",
       "  </thead>\n",
       "  <tbody>\n",
       "    <tr>\n",
       "      <th>nkpt: 256, tsmear: 0.01</th>\n",
       "      <td>Mg1 B2</td>\n",
       "      <td>3</td>\n",
       "      <td>90.0</td>\n",
       "      <td>90.0</td>\n",
       "      <td>120.0</td>\n",
       "      <td>3.086</td>\n",
       "      <td>3.086</td>\n",
       "      <td>3.523</td>\n",
       "      <td>29.055953</td>\n",
       "      <td>0</td>\n",
       "      <td>P6/mmm</td>\n",
       "      <td>191</td>\n",
       "      <td>hexagonal</td>\n",
       "    </tr>\n",
       "    <tr>\n",
       "      <th>nkpt: 256, tsmear: 0.04</th>\n",
       "      <td>Mg1 B2</td>\n",
       "      <td>3</td>\n",
       "      <td>90.0</td>\n",
       "      <td>90.0</td>\n",
       "      <td>120.0</td>\n",
       "      <td>3.086</td>\n",
       "      <td>3.086</td>\n",
       "      <td>3.523</td>\n",
       "      <td>29.055953</td>\n",
       "      <td>0</td>\n",
       "      <td>P6/mmm</td>\n",
       "      <td>191</td>\n",
       "      <td>hexagonal</td>\n",
       "    </tr>\n",
       "    <tr>\n",
       "      <th>nkpt: 864, tsmear: 0.01</th>\n",
       "      <td>Mg1 B2</td>\n",
       "      <td>3</td>\n",
       "      <td>90.0</td>\n",
       "      <td>90.0</td>\n",
       "      <td>120.0</td>\n",
       "      <td>3.086</td>\n",
       "      <td>3.086</td>\n",
       "      <td>3.523</td>\n",
       "      <td>29.055953</td>\n",
       "      <td>0</td>\n",
       "      <td>P6/mmm</td>\n",
       "      <td>191</td>\n",
       "      <td>hexagonal</td>\n",
       "    </tr>\n",
       "    <tr>\n",
       "      <th>nkpt: 864, tsmear: 0.04</th>\n",
       "      <td>Mg1 B2</td>\n",
       "      <td>3</td>\n",
       "      <td>90.0</td>\n",
       "      <td>90.0</td>\n",
       "      <td>120.0</td>\n",
       "      <td>3.086</td>\n",
       "      <td>3.086</td>\n",
       "      <td>3.523</td>\n",
       "      <td>29.055953</td>\n",
       "      <td>0</td>\n",
       "      <td>P6/mmm</td>\n",
       "      <td>191</td>\n",
       "      <td>hexagonal</td>\n",
       "    </tr>\n",
       "  </tbody>\n",
       "</table>\n",
       "</div>"
      ],
      "text/plain": [
       "                        formula  natom  alpha  beta  gamma      a      b  \\\n",
       "nkpt: 256, tsmear: 0.01  Mg1 B2      3   90.0  90.0  120.0  3.086  3.086   \n",
       "nkpt: 256, tsmear: 0.04  Mg1 B2      3   90.0  90.0  120.0  3.086  3.086   \n",
       "nkpt: 864, tsmear: 0.01  Mg1 B2      3   90.0  90.0  120.0  3.086  3.086   \n",
       "nkpt: 864, tsmear: 0.04  Mg1 B2      3   90.0  90.0  120.0  3.086  3.086   \n",
       "\n",
       "                             c     volume  abispg_num spglib_symb  spglib_num  \\\n",
       "nkpt: 256, tsmear: 0.01  3.523  29.055953           0      P6/mmm         191   \n",
       "nkpt: 256, tsmear: 0.04  3.523  29.055953           0      P6/mmm         191   \n",
       "nkpt: 864, tsmear: 0.01  3.523  29.055953           0      P6/mmm         191   \n",
       "nkpt: 864, tsmear: 0.04  3.523  29.055953           0      P6/mmm         191   \n",
       "\n",
       "                        spglib_lattice_type  \n",
       "nkpt: 256, tsmear: 0.01           hexagonal  \n",
       "nkpt: 256, tsmear: 0.04           hexagonal  \n",
       "nkpt: 864, tsmear: 0.01           hexagonal  \n",
       "nkpt: 864, tsmear: 0.04           hexagonal  "
      ]
     },
     "execution_count": 40,
     "metadata": {},
     "output_type": "execute_result"
    }
   ],
   "source": [
    "robot.get_lattice_dataframe()"
   ]
  },
  {
   "cell_type": "markdown",
   "metadata": {
    "slideshow": {
     "slide_type": "subslide"
    }
   },
   "source": [
    "#### To analyze the effect of the k-sampling and of the smearing on the vibrational properties:"
   ]
  },
  {
   "cell_type": "code",
   "execution_count": 41,
   "metadata": {
    "slideshow": {
     "slide_type": "-"
    }
   },
   "outputs": [
    {
     "data": {
      "image/png": "[encoded data removed]",
      "text/plain": [
       "<Figure size 432x288 with 4 Axes>"
      ]
     },
     "metadata": {},
     "output_type": "display_data"
    }
   ],
   "source": [
    "# Invoke anaddb and store results\n",
    "r = robot.anaget_phonon_plotters(nqsmall=2)\n",
    "\n",
    "r.phbands_plotter.gridplot_with_hue(\"tsmear\", with_dos=True);"
   ]
  },
  {
   "cell_type": "markdown",
   "metadata": {
    "slideshow": {
     "slide_type": "skip"
    }
   },
   "source": [
    "## Phonon and thermodynamical properties on the Materials Project database\n",
    "\n",
    "* Phonon frequencies and displacements\n",
    "* Thermodynamic quantities\n",
    "* Born Effective Charges    \n",
    "* Dielectric Tensor\n",
    "* Abinit DDB files"
   ]
  },
  {
   "cell_type": "markdown",
   "metadata": {
    "slideshow": {
     "slide_type": "notes"
    }
   },
   "source": [
    "### Computation details\n",
    "\n",
    "PBEsol norm-conserving pseudopotentials (PseudoDojo v0.3)\n",
    "\n",
    "The plane wave cutoff is chosen based on the hardest element for each compound, according to the values suggested in the PseudoDojo table. The Brillouin zone has been sampled using equivalent k-point and q-point grids that respect the symmetries of the crystal with a density of approximately 1500 points per reciprocal atom and the q-point grid is always Γ-centered [9].\n",
    "\n",
    "All the structures are relaxed with strict convergence criteria, i.e. until all the forces on the atoms are below 10-6 Ha/Bohr and the stresses are below 10-4 Ha/Bohr3.\n",
    "\n",
    "The primitive cells and the band structures are defined according to the conventions of Setyawan and Curtarolo [10]."
   ]
  },
  {
   "cell_type": "markdown",
   "metadata": {
    "slideshow": {
     "slide_type": "subslide"
    }
   },
   "source": [
    "#### Python code to visualize electronic and vibrational properties from the MP database:"
   ]
  },
  {
   "cell_type": "code",
   "execution_count": 42,
   "metadata": {
    "slideshow": {
     "slide_type": "-"
    }
   },
   "outputs": [],
   "source": [
    "def plot_electrons_and_phonons(mpids):\n",
    "    # Construct AbiPy ebands from mpids\n",
    "    ebands_list = [abilab.ElectronBands.from_mpid(mpid) for mpid in mpids]\n",
    "\n",
    "    # Get DDB files from the MP website and run anaddb to get phonon bands.\n",
    "    phbands_list = []\n",
    "    for i, mpid in enumerate(mpids):\n",
    "        ddb = abilab.DdbFile.from_mpid(mpid)\n",
    "        # Call anaddb to compute phonon bands\n",
    "        phbst, _ = ddb.anaget_phbst_and_phdos_files(nqsmall=0)\n",
    "        phbands_list.append(phbst.phbands)\n",
    "        phbst.close()\n",
    "\n",
    "    # Build matplotlib grid. The figure has (len(mpids), 2) subplots\n",
    "    nrows, ncols = len(mpids), 2\n",
    "    ax_mat, fig, plt = abilab.get_axarray_fig_plt(None, nrows=nrows, ncols=ncols,\n",
    "                                                  sharex=False, sharey=False, \n",
    "                                                  squeeze=False)\n",
    "    \n",
    "    for i, (ebands, phbands) in enumerate(zip(ebands_list, phbands_list)):\n",
    "        ebands.plot(ax=ax_mat[i, 0], with_gaps=True, ylims=(-5, 10), \n",
    "                    max_phfreq=phbands.maxfreq, show=False)\n",
    "        phbands.plot(ax=ax_mat[i, 1], show=False)\n",
    "        \n",
    "        # Hide labels\n",
    "        ax_mat[i, 1].yaxis.label.set_visible(False)\n",
    "        if i != len(ebands_list) - 1:\n",
    "            for ax in ax_mat[i]: ax.xaxis.label.set_visible(False)\n",
    "\n",
    "    return fig"
   ]
  },
  {
   "cell_type": "code",
   "execution_count": 43,
   "metadata": {
    "slideshow": {
     "slide_type": "subslide"
    }
   },
   "outputs": [
    {
     "data": {
      "image/png": "[encoded data removed]",
      "text/plain": [
       "<Figure size 432x288 with 4 Axes>"
      ]
     },
     "metadata": {},
     "output_type": "display_data"
    }
   ],
   "source": [
    "plot_electrons_and_phonons(mpids=[\"mp-149\", \"mp-66\"]); # Si and Diamond"
   ]
  },
  {
   "cell_type": "markdown",
   "metadata": {
    "slideshow": {
     "slide_type": "-"
    }
   },
   "source": [
    "##### Qualitative analysis of possible e-ph scattering channels with less than 20 lines of code!"
   ]
  },
  {
   "cell_type": "markdown",
   "metadata": {
    "slideshow": {
     "slide_type": "slide"
    }
   },
   "source": [
    "# How to automate input file generation with AbiPy\n",
    "\n",
    "<img src=\"./assets/automate_input_files.jpg\" width=\"85%\" align=\"center\">"
   ]
  },
  {
   "cell_type": "markdown",
   "metadata": {
    "slideshow": {
     "slide_type": "slide"
    }
   },
   "source": [
    "## *AbinitInput* object \n",
    "\n",
    "Programmatic interface to generate input files:\n",
    "\n",
    "* *Dict-like* object storing ABINIT variables \n",
    "* Methods to set multiple variables (*e.g.* **k**-path from *structure*)\n",
    "* Factory functions to generate input files with minimal effort\n",
    "\n",
    "Can invoke ABINIT to get important parameters such as:\n",
    "\n",
    "  * list of **k**-points in the IBZ\n",
    "  * list of irreducible DFPT perturbations\n",
    "  * list of possible configurations for MPI jobs (*npkpt*, *npfft*, *npband* …)\n",
    "     \n",
    "#### To build an input, we need a *structure* and a list of *pseudos*:"
   ]
  },
  {
   "cell_type": "code",
   "execution_count": 44,
   "metadata": {
    "slideshow": {
     "slide_type": "-"
    }
   },
   "outputs": [],
   "source": [
    "inp = abilab.AbinitInput(structure=\"si.cif\", pseudos=\"14si.pspnc\")"
   ]
  },
  {
   "cell_type": "markdown",
   "metadata": {
    "slideshow": {
     "slide_type": "subslide"
    }
   },
   "source": [
    "#### Low-level API (should look familiar to Abinit users):"
   ]
  },
  {
   "cell_type": "code",
   "execution_count": 45,
   "metadata": {
    "slideshow": {
     "slide_type": "-"
    }
   },
   "outputs": [
    {
     "data": {
      "text/plain": [
       "True"
      ]
     },
     "execution_count": 45,
     "metadata": {},
     "output_type": "execute_result"
    }
   ],
   "source": [
    "inp[\"ecut\"] = 8\n",
    "\"ecut\" in inp"
   ]
  },
  {
   "cell_type": "markdown",
   "metadata": {
    "slideshow": {
     "slide_type": "-"
    }
   },
   "source": [
    "#### Use *set_vars* to set the value of several variables with a single call:"
   ]
  },
  {
   "cell_type": "code",
   "execution_count": 46,
   "metadata": {
    "slideshow": {
     "slide_type": "-"
    }
   },
   "outputs": [],
   "source": [
    "inp.set_vars(kptopt=1, \n",
    "             ngkpt=[2, 2, 2], \n",
    "             nshiftk=2, \n",
    "             shiftk=[0.0, 0.0, 0.0, 0.5, 0.5, 0.5]  # 2 shifts in one list\n",
    "            );"
   ]
  },
  {
   "cell_type": "markdown",
   "metadata": {
    "slideshow": {
     "slide_type": "-"
    }
   },
   "source": [
    "#### but the same results can be obtained with a single call:"
   ]
  },
  {
   "cell_type": "code",
   "execution_count": 47,
   "metadata": {
    "slideshow": {
     "slide_type": "-"
    }
   },
   "outputs": [],
   "source": [
    "inp.set_autokmesh(nksmall=2);"
   ]
  },
  {
   "cell_type": "markdown",
   "metadata": {
    "slideshow": {
     "slide_type": "-"
    }
   },
   "source": [
    "####  The method builds a homogeneous k-mesh from metavariables:\n",
    "\n",
    "* *nksmall* is the number of divisions used to sample the smallest lattice vector\n",
    "* *shiftk* is automatically selected from an internal database."
   ]
  },
  {
   "cell_type": "markdown",
   "metadata": {
    "slideshow": {
     "slide_type": "subslide"
    }
   },
   "source": [
    "#### An *AbinitInput* has a structure object "
   ]
  },
  {
   "cell_type": "code",
   "execution_count": 48,
   "metadata": {
    "slideshow": {
     "slide_type": "-"
    }
   },
   "outputs": [
    {
     "data": {
      "image/png": "[encoded data removed]",
      "text/plain": [
       "<Figure size 432x288 with 1 Axes>"
      ]
     },
     "metadata": {},
     "output_type": "display_data"
    }
   ],
   "source": [
    "inp.structure.plot();"
   ]
  },
  {
   "cell_type": "markdown",
   "metadata": {
    "slideshow": {
     "slide_type": "subslide"
    }
   },
   "source": [
    "#### and a list of pseudopotentials"
   ]
  },
  {
   "cell_type": "code",
   "execution_count": 49,
   "metadata": {
    "slideshow": {
     "slide_type": "-"
    }
   },
   "outputs": [
    {
     "name": "stdout",
     "output_type": "stream",
     "text": [
      "<NcAbinitPseudo: 14si.pspnc>\n",
      "  summary: Troullier-Martins psp for element  Si        Thu Oct 27 17:31:21 EDT 1994\n",
      "  number of valence electrons: 4.0\n",
      "  maximum angular momentum: d\n",
      "  angular momentum for local part: d\n",
      "  XC correlation: LDA_XC_TETER93\n",
      "  supports spin-orbit: False\n",
      "  radius for non-linear core correction: 1.80626423934776\n",
      "  hint for low accuracy: ecut: 0.0, pawecutdg: 0.0\n",
      "  hint for normal accuracy: ecut: 0.0, pawecutdg: 0.0\n",
      "  hint for high accuracy: ecut: 0.0, pawecutdg: 0.0\n"
     ]
    }
   ],
   "source": [
    "for pseudo in inp.pseudos:\n",
    "    print(pseudo)"
   ]
  },
  {
   "cell_type": "markdown",
   "metadata": {
    "slideshow": {
     "slide_type": "-"
    }
   },
   "source": [
    "#### Pseudos from the [PseudoDojo project](http://www.pseudo-dojo.org/) provide hints for the cutoff energy."
   ]
  },
  {
   "cell_type": "code",
   "execution_count": 50,
   "metadata": {
    "slideshow": {
     "slide_type": "-"
    }
   },
   "outputs": [],
   "source": [
    "\n",
    "from pseudo_dojo.core.pseudos import OfficialDojoTable\n",
    "pseudo_table = OfficialDojoTable.from_dojodir('ONCVPSP-PBEsol-PDv0.4','standard')"
   ]
  },
  {
   "cell_type": "markdown",
   "metadata": {
    "slideshow": {
     "slide_type": "subslide"
    }
   },
   "source": [
    "#### Inside the notebook, one gets the HTML representation with links to the documentation:"
   ]
  },
  {
   "cell_type": "code",
   "execution_count": 51,
   "metadata": {
    "slideshow": {
     "slide_type": "-"
    }
   },
   "outputs": [
    {
     "data": {
      "text/html": [
       "############################################################################################<br>#                                       SECTION: basic                                      <br>############################################################################################<br> <a href=\"https://docs.abinit.org/variables/basic#ecut\" target=\"_blank\">ecut</a> 8<br> <a href=\"https://docs.abinit.org/variables/basic#kptopt\" target=\"_blank\">kptopt</a> 1<br> <a href=\"https://docs.abinit.org/variables/basic#ngkpt\" target=\"_blank\">ngkpt</a> 2 2 2<br> <a href=\"https://docs.abinit.org/variables/basic#nshiftk\" target=\"_blank\">nshiftk</a> 4<br> <a href=\"https://docs.abinit.org/variables/basic#shiftk\" target=\"_blank\">shiftk</a><br>    0.5    0.5    0.5<br>    0.5    0.0    0.0<br>    0.0    0.5    0.0<br>    0.0    0.0    0.5<br>############################################################################################<br>#                                         STRUCTURE                                         <br>############################################################################################<br> <a href=\"https://docs.abinit.org/variables/basic#natom\" target=\"_blank\">natom</a> 2<br> <a href=\"https://docs.abinit.org/variables/basic#ntypat\" target=\"_blank\">ntypat</a> 1<br> <a href=\"https://docs.abinit.org/variables/basic#typat\" target=\"_blank\">typat</a> 1 1<br> <a href=\"https://docs.abinit.org/variables/basic#znucl\" target=\"_blank\">znucl</a> 14<br> <a href=\"https://docs.abinit.org/variables/basic#xred\" target=\"_blank\">xred</a><br>    0.0000000000    0.0000000000    0.0000000000<br>    0.2500000000    0.2500000000    0.2500000000<br> <a href=\"https://docs.abinit.org/variables/basic#acell\" target=\"_blank\">acell</a>    1.0    1.0    1.0<br> <a href=\"https://docs.abinit.org/variables/basic#rprim\" target=\"_blank\">rprim</a><br>    6.3285005272    0.0000000000    3.6537614829<br>    2.1095001757    5.9665675167    3.6537614829<br>    0.0000000000    0.0000000000    7.3075229659"
      ],
      "text/plain": [
       "<AbinitInput at 121022771608>"
      ]
     },
     "execution_count": 51,
     "metadata": {},
     "output_type": "execute_result"
    }
   ],
   "source": [
    "inp"
   ]
  },
  {
   "cell_type": "markdown",
   "metadata": {
    "slideshow": {
     "slide_type": "subslide"
    }
   },
   "source": [
    "#### To generate a high-symmetry k-path (taken from an internal database)"
   ]
  },
  {
   "cell_type": "code",
   "execution_count": 52,
   "metadata": {
    "slideshow": {
     "slide_type": "-"
    }
   },
   "outputs": [
    {
     "data": {
      "text/plain": [
       "{'kptbounds': array([[0.   , 0.   , 0.   ],\n",
       "        [0.5  , 0.   , 0.5  ],\n",
       "        [0.5  , 0.25 , 0.75 ],\n",
       "        [0.375, 0.375, 0.75 ],\n",
       "        [0.   , 0.   , 0.   ],\n",
       "        [0.5  , 0.5  , 0.5  ],\n",
       "        [0.625, 0.25 , 0.625],\n",
       "        [0.5  , 0.25 , 0.75 ],\n",
       "        [0.5  , 0.5  , 0.5  ],\n",
       "        [0.375, 0.375, 0.75 ],\n",
       "        [0.625, 0.25 , 0.625],\n",
       "        [0.5  , 0.   , 0.5  ]]), 'kptopt': -11, 'ndivsm': 10, 'iscf': -2}"
      ]
     },
     "execution_count": 52,
     "metadata": {},
     "output_type": "execute_result"
    }
   ],
   "source": [
    "inp.set_kpath(ndivsm=10)"
   ]
  },
  {
   "cell_type": "markdown",
   "metadata": {
    "slideshow": {
     "slide_type": "-"
    }
   },
   "source": [
    "* Ten points to sample the smallest segment of the **k**-path\n",
    "* Other segments are sampled so that proportions are preserved"
   ]
  },
  {
   "cell_type": "markdown",
   "metadata": {
    "slideshow": {
     "slide_type": "skip"
    }
   },
   "source": [
    "### Inside jupyter, one can get the HTML documentation with:"
   ]
  },
  {
   "cell_type": "code",
   "execution_count": 53,
   "metadata": {
    "slideshow": {
     "slide_type": "skip"
    }
   },
   "outputs": [
    {
     "data": {
      "text/html": [
       "<h2>Default value:</h2>\n",
       "<p>None</p>\n",
       "<h2>Description:</h2>\n",
       "<p>Used for kinetic energy cutoff which controls number of planewaves at given k point by:\n",
       "(1/2)[(2 Pi)*(k+Gmax)]  2  =<b>ecut</b> for Gmax.</p>\n",
       "<p>All planewaves inside this \"basis sphere\" centered at k are included in the basis (except if <b>dilatmx</b> is defined).\n",
       "Can be specified in Ha (the default), Ry, eV or Kelvin, since <b>ecut</b> has the\n",
       "'<b>ENERGY</b>' characteristics. (1 Ha=27.2113845 eV)\n",
       "This is the single parameter which can have an enormous effect on the quality\n",
       "of a calculation; basically the larger <b>ecut</b> is, the better converged the\n",
       "calculation is. For fixed geometry, the total energy MUST always decrease as\n",
       "<b>ecut</b> is raised because of the variational nature of the problem.</p>\n",
       "<p><em>Usually one runs at least several calculations at various <b>ecut</b> to\n",
       "investigate the convergence needed for reliable results.</em></p>\n",
       "<p>For k-points whose coordinates are build from 0 or 1/2, the implementation of\n",
       "time-reversal symmetry that links coefficients of the wavefunctions in\n",
       "reciprocal space has been realized. See the input variable <b>istwfk</b>. If\n",
       "activated (which corresponds to the Default mode), this input variable\n",
       "<b>istwfk</b> will allow to divide the number of plane wave (npw) treated\n",
       "explicitly by a factor of two. Still, the final result should be identical\n",
       "with the 'full' set of plane waves.</p>\n",
       "<p>See the input variable <b>ecutsm</b>, for the smoothing of the kinetic energy,\n",
       "needed to optimize unit cell parameters.</p>"
      ],
      "text/plain": [
       "ecut  <Energy CUToff>"
      ]
     },
     "execution_count": 53,
     "metadata": {},
     "output_type": "execute_result"
    }
   ],
   "source": [
    "abilab.docvar(\"ecut\")"
   ]
  },
  {
   "cell_type": "markdown",
   "metadata": {
    "slideshow": {
     "slide_type": "slide"
    }
   },
   "source": [
    "## Interfacing Abinit with Python via *AbinitInput*\n",
    "\n",
    "* Once we have an *AbinitInput*, it is possible to execute Abinit to:\n",
    "\n",
    "    * get useful information from the Fortran code (e.g. IBZ, space group…)\n",
    "    * validate the input file before running the calculation \n",
    "        \n",
    "* Methods invoking Abinit start with the *abi* prefix followed by a verb: \n",
    "\n",
    "    * *inp.abiget_irred_phperts(...)* \n",
    "    * *inp.abivalidate()*\n",
    "\n",
    "#### Important: \n",
    "\n",
    "* To call Abinit from AbiPy, one has to prepare a configuration file (*manager.yml*)\n",
    "  providing all the information required to execute/submit Abinit jobs: \n",
    "\n",
    "     * `$PATH`, `$LD_LIBRARY_PATH`\n",
    "     * modules\n",
    "     * python environment\n",
    "\n",
    "\n",
    "* For futher info consult the [documentation](https://abinit.github.io/abipy/workflows/taskmanager.html)\n",
    "\n",
    "* Examples of configuration files for clusters are available [here](https://abinit.github.io/abipy/workflows/manager_examples.html)\n",
    "\n",
    "* Use *abirun.py doc_manager* to get documentation inside the shell"
   ]
  },
  {
   "cell_type": "markdown",
   "metadata": {
    "slideshow": {
     "slide_type": "subslide"
    }
   },
   "source": [
    "## Example of *manager.yml* for laptops (shell adapter)\n",
    "<hr>\n",
    "\n",
    "```yaml\n",
    "\n",
    "qadapters:\n",
    "  # List of qadapters objects \n",
    "  - priority: 1 \n",
    "    queue:\n",
    "      qtype: shell\n",
    "      qname: localhost\n",
    "    job:\n",
    "       mpi_runner: mpirun\n",
    "       pre_run: \n",
    "           # abinit exec must be in $PATH\n",
    "           - export PATH=$HOME/git_repos/abinit/_build/src/98_main:$PATH\n",
    "    limits:\n",
    "       timelimit: 30:00\n",
    "       max_cores: 2\n",
    "    hardware:\n",
    "       num_nodes: 2\n",
    "       sockets_per_node: 1\n",
    "       cores_per_socket: 2\n",
    "       mem_per_node: 4Gb\n",
    "```\n"
   ]
  },
  {
   "cell_type": "markdown",
   "metadata": {
    "slideshow": {
     "slide_type": "subslide"
    }
   },
   "source": [
    "## An example for a Slurm-based cluster\n",
    "<hr>\n",
    "\n",
    "```yaml\n",
    "\n",
    "hardware: &hardware\n",
    "   num_nodes: 80\n",
    "   sockets_per_node: 2\n",
    "   cores_per_socket: 12\n",
    "   mem_per_node: 95Gb\n",
    "\n",
    "job: &job\n",
    "    mpi_runner: mpirun\n",
    "    modules: # Load modules used to compile Abinit \n",
    "        - intel/2017b\n",
    "        - netCDF-Fortran/4.4.4-intel-2017b\n",
    "        - abinit_8.11\n",
    "    pre_run: \"ulimit -s unlimited\"\n",
    "\n",
    "# Slurm options.\n",
    "qadapters:\n",
    "  - priority: 1\n",
    "    queue:\n",
    "       qtype: slurm\n",
    "       #qname: Def\n",
    "    limits:\n",
    "       timelimit: 0-0:30:00\n",
    "       min_cores: 1\n",
    "       max_cores: 12\n",
    "       min_mem_per_proc: 1000\n",
    "       max_mem_per_proc: 2000\n",
    "       max_num_launches: 10\n",
    "    hardware: *hardware\n",
    "    job: *job\n",
    "```"
   ]
  },
  {
   "cell_type": "markdown",
   "metadata": {
    "slideshow": {
     "slide_type": "skip"
    }
   },
   "source": [
    "#### To get the list of k-points in the IBZ as computed by Abinit:"
   ]
  },
  {
   "cell_type": "code",
   "execution_count": 54,
   "metadata": {
    "slideshow": {
     "slide_type": "skip"
    }
   },
   "outputs": [
    {
     "name": "stdout",
     "output_type": "stream",
     "text": [
      "Number of k-points: 198\n",
      "Weights normalized to: 198.0\n",
      "0 kpt: [0. 0. 0.] weight: 1.0\n",
      "1 kpt: [0.01785714 0.         0.01785714] weight: 1.0\n",
      "2 kpt: [0.03571429 0.         0.03571429] weight: 1.0\n",
      "3 kpt: [0.05357143 0.         0.05357143] weight: 1.0\n",
      "4 kpt: [0.07142857 0.         0.07142857] weight: 1.0\n",
      "...\n"
     ]
    }
   ],
   "source": [
    "ibz = inp.abiget_ibz()\n",
    "\n",
    "print(\"Number of k-points:\", len(ibz.points))\n",
    "print(\"Weights normalized to:\", ibz.weights.sum())\n",
    "n = min(5, len(ibz.points))\n",
    "for i, (k, w) in enumerate(zip(ibz.points[:n], ibz.weights[:n])):\n",
    "    print(i, \"kpt:\", k, \"weight:\", w)\n",
    "if n != len(ibz.points): print(\"...\")"
   ]
  },
  {
   "cell_type": "markdown",
   "metadata": {
    "slideshow": {
     "slide_type": "subslide"
    }
   },
   "source": [
    "#### To get the list of possible parallel configurations for this input up to *max_ncpus*:"
   ]
  },
  {
   "cell_type": "code",
   "execution_count": 55,
   "metadata": {
    "slideshow": {
     "slide_type": "-"
    }
   },
   "outputs": [
    {
     "name": "stdout",
     "output_type": "stream",
     "text": [
      "Best efficiency:\n",
      " {'efficiency': 0.98,\n",
      " 'mem_per_cpu': 0.0,\n",
      " 'mpi_ncpus': 3,\n",
      " 'omp_ncpus': 1,\n",
      " 'tot_ncpus': 3,\n",
      " 'vars': {'bandpp': 1,\n",
      "          'npband': 1,\n",
      "          'npfft': 1,\n",
      "          'npimage': 1,\n",
      "          'npkpt': 3,\n",
      "          'npspinor': 1}}\n",
      "\n",
      "Best speedup:\n",
      " {'efficiency': 0.969,\n",
      " 'mem_per_cpu': 0.0,\n",
      " 'mpi_ncpus': 5,\n",
      " 'omp_ncpus': 1,\n",
      " 'tot_ncpus': 5,\n",
      " 'vars': {'bandpp': 1,\n",
      "          'npband': 1,\n",
      "          'npfft': 1,\n",
      "          'npimage': 1,\n",
      "          'npkpt': 5,\n",
      "          'npspinor': 1}}\n",
      "\n"
     ]
    }
   ],
   "source": [
    "inp[\"paral_kgb\"] = 1\n",
    "pconfs = inp.abiget_autoparal_pconfs(max_ncpus=5)\n",
    "print(\"Best efficiency:\\n\", pconfs.sort_by_efficiency()[0])\n",
    "print(\"Best speedup:\\n\", pconfs.sort_by_speedup()[0])"
   ]
  },
  {
   "cell_type": "markdown",
   "metadata": {
    "slideshow": {
     "slide_type": "subslide"
    }
   },
   "source": [
    "#### To get the list of irreducible phonon perturbations for a given q-point:"
   ]
  },
  {
   "cell_type": "code",
   "execution_count": 56,
   "metadata": {
    "slideshow": {
     "slide_type": "-"
    }
   },
   "outputs": [
    {
     "data": {
      "text/plain": [
       "[{'qpt': [0.25, 0.0, 0.0], 'ipert': 1, 'idir': 1},\n",
       " {'qpt': [0.25, 0.0, 0.0], 'ipert': 1, 'idir': 2}]"
      ]
     },
     "execution_count": 56,
     "metadata": {},
     "output_type": "execute_result"
    }
   ],
   "source": [
    "inp.abiget_irred_phperts(qpt=(0.25, 0, 0))"
   ]
  },
  {
   "cell_type": "markdown",
   "metadata": {
    "slideshow": {
     "slide_type": "-"
    }
   },
   "source": [
    "#### To get the irreducible perturbations for strain calculations:"
   ]
  },
  {
   "cell_type": "code",
   "execution_count": 57,
   "metadata": {
    "slideshow": {
     "slide_type": "-"
    }
   },
   "outputs": [
    {
     "data": {
      "text/plain": [
       "[{'qpt': [0.0, 0.0, 0.0], 'ipert': 1, 'idir': 1},\n",
       " {'qpt': [0.0, 0.0, 0.0], 'ipert': 5, 'idir': 1},\n",
       " {'qpt': [0.0, 0.0, 0.0], 'ipert': 5, 'idir': 2},\n",
       " {'qpt': [0.0, 0.0, 0.0], 'ipert': 5, 'idir': 3},\n",
       " {'qpt': [0.0, 0.0, 0.0], 'ipert': 6, 'idir': 1},\n",
       " {'qpt': [0.0, 0.0, 0.0], 'ipert': 6, 'idir': 2},\n",
       " {'qpt': [0.0, 0.0, 0.0], 'ipert': 6, 'idir': 3}]"
      ]
     },
     "execution_count": 57,
     "metadata": {},
     "output_type": "execute_result"
    }
   ],
   "source": [
    "inp.abiget_irred_strainperts()"
   ]
  },
  {
   "cell_type": "markdown",
   "metadata": {
    "slideshow": {
     "slide_type": "-"
    }
   },
   "source": [
    "* DFPT perturbations are independent hence jobs can be executed in parallel\n",
    "* These methods represent the **building block** to generate workflows at runtime.\n",
    "<!-- div class=\"alert alert-info\"> </div -->"
   ]
  },
  {
   "cell_type": "markdown",
   "metadata": {
    "slideshow": {
     "slide_type": "subslide"
    }
   },
   "source": [
    "## Multiple Datasets\n",
    "\n",
    "* List of *AbinitInput* objects\n",
    "* A handy tool to generate multiple input files with common variables:\n",
    "     \n",
    "    * Convergence studies (same structure, different *ngkpt*, *tsmear* …)\n",
    "    * Input files for calculations requiring multiple steps (DFPT, $GW$)\n",
    "\n",
    "#### Let's build a *MultiDataset* containing two datasets:"
   ]
  },
  {
   "cell_type": "code",
   "execution_count": 58,
   "metadata": {
    "slideshow": {
     "slide_type": "-"
    }
   },
   "outputs": [],
   "source": [
    "multi = abilab.MultiDataset(structure=\"si.cif\", pseudos=\"14si.pspnc\", ndtset=2)\n",
    "\n",
    "multi.set_vars(ecut=4);"
   ]
  },
  {
   "cell_type": "markdown",
   "metadata": {},
   "source": [
    "#### Iterating over *multi* gives *AbinitInput* objects:"
   ]
  },
  {
   "cell_type": "code",
   "execution_count": 59,
   "metadata": {},
   "outputs": [
    {
     "data": {
      "text/plain": [
       "True"
      ]
     },
     "execution_count": 59,
     "metadata": {},
     "output_type": "execute_result"
    }
   ],
   "source": [
    "all(inp[\"ecut\"] == 4 for inp in multi)"
   ]
  },
  {
   "cell_type": "markdown",
   "metadata": {
    "slideshow": {
     "slide_type": "subslide"
    }
   },
   "source": [
    "#### To set the variables of a particular dataset, use:"
   ]
  },
  {
   "cell_type": "code",
   "execution_count": 60,
   "metadata": {
    "slideshow": {
     "slide_type": "-"
    }
   },
   "outputs": [],
   "source": [
    "multi[0].set_vars(ngkpt=[2, 2, 2], tsmear=0.004)\n",
    "multi[1].set_vars(ngkpt=[4, 4, 4], tsmear=0.008);"
   ]
  },
  {
   "cell_type": "markdown",
   "metadata": {
    "slideshow": {
     "slide_type": "-"
    }
   },
   "source": [
    "#### To get a dataframe with the values of the variables, use:"
   ]
  },
  {
   "cell_type": "code",
   "execution_count": 61,
   "metadata": {
    "slideshow": {
     "slide_type": "-"
    }
   },
   "outputs": [
    {
     "data": {
      "text/html": [
       "<div>\n",
       "<style scoped>\n",
       "    .dataframe tbody tr th:only-of-type {\n",
       "        vertical-align: middle;\n",
       "    }\n",
       "\n",
       "    .dataframe tbody tr th {\n",
       "        vertical-align: top;\n",
       "    }\n",
       "\n",
       "    .dataframe thead th {\n",
       "        text-align: right;\n",
       "    }\n",
       "</style>\n",
       "<table border=\"1\" class=\"dataframe\">\n",
       "  <thead>\n",
       "    <tr style=\"text-align: right;\">\n",
       "      <th></th>\n",
       "      <th>ngkpt</th>\n",
       "      <th>tsmear</th>\n",
       "    </tr>\n",
       "  </thead>\n",
       "  <tbody>\n",
       "    <tr>\n",
       "      <th>dataset 0</th>\n",
       "      <td>[2, 2, 2]</td>\n",
       "      <td>0.004</td>\n",
       "    </tr>\n",
       "    <tr>\n",
       "      <th>dataset 1</th>\n",
       "      <td>[4, 4, 4]</td>\n",
       "      <td>0.008</td>\n",
       "    </tr>\n",
       "  </tbody>\n",
       "</table>\n",
       "</div>"
      ],
      "text/plain": [
       "               ngkpt  tsmear\n",
       "dataset 0  [2, 2, 2]   0.004\n",
       "dataset 1  [4, 4, 4]   0.008"
      ]
     },
     "execution_count": 61,
     "metadata": {},
     "output_type": "execute_result"
    }
   ],
   "source": [
    "multi.get_vars_dataframe(\"ngkpt\", \"tsmear\")"
   ]
  },
  {
   "cell_type": "markdown",
   "metadata": {
    "slideshow": {
     "slide_type": "-"
    }
   },
   "source": [
    "#### The function *split_datasets* returns the list of *AbinitInput* stored in *MultiDataset*"
   ]
  },
  {
   "cell_type": "code",
   "execution_count": 62,
   "metadata": {
    "slideshow": {
     "slide_type": "-"
    }
   },
   "outputs": [],
   "source": [
    "gs1, gs2 = multi.split_datasets()"
   ]
  },
  {
   "cell_type": "markdown",
   "metadata": {
    "slideshow": {
     "slide_type": "slide"
    }
   },
   "source": [
    "## Factory functions for typical calculations\n",
    "\n",
    "* Functions returning *AbinitInput* or *MultiDataset* depending on the calculation type\n",
    "* Minimal input from user:\n",
    "\n",
    "     * *structure* object or file providing it\n",
    "     * list of *pseudos*\n",
    "     * *metavariables* e.g. *kppra* for the BZ sampling\n",
    "     \n",
    "* Default values designed to cover the most common scenarios\n",
    "* Less flexible than the low-level API but easier to use\n",
    "* Optional arguments to change the default behaviour (smearing=\"gaussian:0.1 eV\")\n",
    "* For a command line interface, use the *abinp.py* script.\n",
    "\n",
    "<!--\n",
    "modify the objects returned by the factory\n",
    "* One can use the factories to generate automatically input files\n",
    "  or call these functions to build workflows for high-throughput applications\n",
    "\n",
    "Note that the default values do not always correspond to the default behaviour of Abinit. In particular, the majority of the factory functions construct input files for spin-polarized calculations (nsppol=2) with a Fermi-Dirac occupation scheme and a physical temperature of 0.1 eV. \n",
    "Also note that the factory functions do not use get* or ird* variables to connect the different steps. Client code is in charge of connecting the different parts. \n",
    "-->\n",
    "\n",
    "<hr>\n",
    "\n",
    "### Some examples..."
   ]
  },
  {
   "cell_type": "markdown",
   "metadata": {
    "slideshow": {
     "slide_type": "subslide"
    }
   },
   "source": [
    "### Input file for band structure calculation + DOS\n",
    "\n",
    "1. GS run to get the density \n",
    "2. NSCF run along high-symmetry **k**-path\n",
    "3. NSCF run with **k**-mesh to compute the DOS"
   ]
  },
  {
   "cell_type": "code",
   "execution_count": 63,
   "metadata": {
    "slideshow": {
     "slide_type": "-"
    }
   },
   "outputs": [
    {
     "data": {
      "text/html": [
       "<div>\n",
       "<style scoped>\n",
       "    .dataframe tbody tr th:only-of-type {\n",
       "        vertical-align: middle;\n",
       "    }\n",
       "\n",
       "    .dataframe tbody tr th {\n",
       "        vertical-align: top;\n",
       "    }\n",
       "\n",
       "    .dataframe thead th {\n",
       "        text-align: right;\n",
       "    }\n",
       "</style>\n",
       "<table border=\"1\" class=\"dataframe\">\n",
       "  <thead>\n",
       "    <tr style=\"text-align: right;\">\n",
       "      <th></th>\n",
       "      <th>kptopt</th>\n",
       "      <th>iscf</th>\n",
       "      <th>ngkpt</th>\n",
       "    </tr>\n",
       "  </thead>\n",
       "  <tbody>\n",
       "    <tr>\n",
       "      <th>dataset 0</th>\n",
       "      <td>1</td>\n",
       "      <td>None</td>\n",
       "      <td>[8, 8, 8]</td>\n",
       "    </tr>\n",
       "    <tr>\n",
       "      <th>dataset 1</th>\n",
       "      <td>-11</td>\n",
       "      <td>-2</td>\n",
       "      <td>None</td>\n",
       "    </tr>\n",
       "    <tr>\n",
       "      <th>dataset 2</th>\n",
       "      <td>1</td>\n",
       "      <td>-2</td>\n",
       "      <td>[14, 14, 14]</td>\n",
       "    </tr>\n",
       "  </tbody>\n",
       "</table>\n",
       "</div>"
      ],
      "text/plain": [
       "           kptopt  iscf         ngkpt\n",
       "dataset 0       1  None     [8, 8, 8]\n",
       "dataset 1     -11    -2          None\n",
       "dataset 2       1    -2  [14, 14, 14]"
      ]
     },
     "execution_count": 63,
     "metadata": {},
     "output_type": "execute_result"
    }
   ],
   "source": [
    "multi = abilab.ebands_input(structure=\"si.cif\", \n",
    "                            pseudos=\"14si.pspnc\",\n",
    "                            ecut=8, \n",
    "                            spin_mode=\"unpolarized\", \n",
    "                            smearing=None, \n",
    "                            dos_kppa=5000)\n",
    "\n",
    "multi.get_vars_dataframe(\"kptopt\", \"iscf\", \"ngkpt\")"
   ]
  },
  {
   "cell_type": "markdown",
   "metadata": {
    "slideshow": {
     "slide_type": "-"
    }
   },
   "source": [
    "#### To build an input for SCF+NSCF run with (relaxed) structure from the materials project database:\n",
    "\n",
    "\n",
    "        abinp.py ebands mp-149          "
   ]
  },
  {
   "cell_type": "markdown",
   "metadata": {
    "slideshow": {
     "slide_type": "slide"
    }
   },
   "source": [
    "#### $GW$ calculations with the plasmon-pole model. The calculation consists of:\n",
    "\n",
    "1. GS run to compute the density \n",
    "2. nscf-run to produce a WFK file with *nscf_nband* states\n",
    "3. Input files to compute the screening ($W$) and the self-energy ($\\Sigma^{e-e} = GW$)"
   ]
  },
  {
   "cell_type": "code",
   "execution_count": 64,
   "metadata": {
    "scrolled": false,
    "slideshow": {
     "slide_type": "-"
    }
   },
   "outputs": [
    {
     "data": {
      "text/html": [
       "<div>\n",
       "<style scoped>\n",
       "    .dataframe tbody tr th:only-of-type {\n",
       "        vertical-align: middle;\n",
       "    }\n",
       "\n",
       "    .dataframe tbody tr th {\n",
       "        vertical-align: top;\n",
       "    }\n",
       "\n",
       "    .dataframe thead th {\n",
       "        text-align: right;\n",
       "    }\n",
       "</style>\n",
       "<table border=\"1\" class=\"dataframe\">\n",
       "  <thead>\n",
       "    <tr style=\"text-align: right;\">\n",
       "      <th></th>\n",
       "      <th>optdriver</th>\n",
       "      <th>ngkpt</th>\n",
       "      <th>nband</th>\n",
       "      <th>ecuteps</th>\n",
       "      <th>ecutsigx</th>\n",
       "    </tr>\n",
       "  </thead>\n",
       "  <tbody>\n",
       "    <tr>\n",
       "      <th>dataset 0</th>\n",
       "      <td>None</td>\n",
       "      <td>[8, 8, 8]</td>\n",
       "      <td>14</td>\n",
       "      <td>None</td>\n",
       "      <td>None</td>\n",
       "    </tr>\n",
       "    <tr>\n",
       "      <th>dataset 1</th>\n",
       "      <td>None</td>\n",
       "      <td>[8, 8, 8]</td>\n",
       "      <td>50</td>\n",
       "      <td>None</td>\n",
       "      <td>None</td>\n",
       "    </tr>\n",
       "    <tr>\n",
       "      <th>dataset 2</th>\n",
       "      <td>3</td>\n",
       "      <td>[8, 8, 8]</td>\n",
       "      <td>50</td>\n",
       "      <td>2</td>\n",
       "      <td>None</td>\n",
       "    </tr>\n",
       "    <tr>\n",
       "      <th>dataset 3</th>\n",
       "      <td>4</td>\n",
       "      <td>[8, 8, 8]</td>\n",
       "      <td>50</td>\n",
       "      <td>2</td>\n",
       "      <td>4</td>\n",
       "    </tr>\n",
       "  </tbody>\n",
       "</table>\n",
       "</div>"
      ],
      "text/plain": [
       "          optdriver      ngkpt  nband ecuteps ecutsigx\n",
       "dataset 0      None  [8, 8, 8]     14    None     None\n",
       "dataset 1      None  [8, 8, 8]     50    None     None\n",
       "dataset 2         3  [8, 8, 8]     50       2     None\n",
       "dataset 3         4  [8, 8, 8]     50       2        4"
      ]
     },
     "execution_count": 64,
     "metadata": {},
     "output_type": "execute_result"
    }
   ],
   "source": [
    "multi = abilab.g0w0_with_ppmodel_inputs(\n",
    "    \"si.cif\", \"14si.pspnc\", kppa=1000, nscf_nband=50, \n",
    "    ecuteps=2, ecutsigx=4, ecut=8, spin_mode=\"unpolarized\")\n",
    "\n",
    "multi.get_vars_dataframe(\"optdriver\", \"ngkpt\", \"nband\", \"ecuteps\", \"ecutsigx\")"
   ]
  },
  {
   "cell_type": "markdown",
   "metadata": {
    "slideshow": {
     "slide_type": "-"
    }
   },
   "source": [
    "* *nscf_nband*  ➝ number of bands in $GW$ (occ + empty)\n",
    "* *ecuteps* ➝ planewave cutoff for $W_{G, G'}$ in Hartree \n",
    "* *ecutsigx* ➝ cutoff energy for the exchange part $\\Sigma_x$\n",
    "* *kppa* ➝ k-point sampling (#kpts per reciprocal atom)"
   ]
  },
  {
   "cell_type": "markdown",
   "metadata": {
    "slideshow": {
     "slide_type": "skip"
    }
   },
   "source": [
    "## Command Line Interface\n",
    "\n",
    "<img src=\"./assets/python_cli.jpg\" width=\"85%\" align=\"center\">"
   ]
  },
  {
   "cell_type": "markdown",
   "metadata": {
    "slideshow": {
     "slide_type": "slide"
    }
   },
   "source": [
    "## Command line interface\n",
    "\n",
    "    \n",
    "* *abistruct.py* ➝ Operate on crystalline structures read from file\n",
    "* *abiopen.py* ➝ Open output files inside Ipython session\n",
    "* *abicomp.py* ➝ Compare multiple files (convergence studies)\n",
    "* *abiview.py* ➝ Quick visualization of output files\n",
    "* *abinp.py* ➝ Generate input files for typical calculations\n",
    "    \n",
    "\n",
    "Use e.g. \n",
    "\n",
    "* `abistruct.py --help` for manpage\n",
    "* `abistruct.py COMMAND --help` for help about `COMMAND`\n",
    "\n",
    "<hr>\n",
    "\n",
    "HTML documentation available at http://abinit.github.io/abipy/scripts/index.html\n",
    "\n",
    "### Examples\n",
    "\n",
    "```shell\n",
    "    abistruct.py spglib si_scf_GSR.nc\n",
    "    abistruct.py convert si_scf_GSR.nc -f cif\n",
    "    abiopen.py si_scf_GSR.nc --print\n",
    "```"
   ]
  },
  {
   "cell_type": "markdown",
   "metadata": {
    "slideshow": {
     "slide_type": "skip"
    }
   },
   "source": [
    "#### Read structure from FILE and use [spglib](https://atztogo.github.io/spglib/) to analyze symmetries"
   ]
  },
  {
   "cell_type": "code",
   "execution_count": 65,
   "metadata": {
    "slideshow": {
     "slide_type": "skip"
    }
   },
   "outputs": [
    {
     "name": "stdout",
     "output_type": "stream",
     "text": [
      "Full Formula (Si2)\r\n",
      "Reduced Formula: Si\r\n",
      "abc   :   3.866975   3.866975   3.866975\r\n",
      "angles:  60.000000  60.000000  60.000000\r\n",
      "\r\n",
      "Spglib space group info (magnetic symmetries not taken into account).\r\n",
      "Spacegroup: Fd-3m (227), Hall: F 4d 2 3 -1d, Abinit spg_number: 227\r\n",
      "Crystal_system: cubic, Lattice_type: cubic, Point_group: m-3m\r\n",
      "\r\n",
      "  Idx  Symbol    Reduced_Coords              Wyckoff      EqIdx\r\n",
      "-----  --------  --------------------------  ---------  -------\r\n",
      "    0  Si        +0.00000 +0.00000 +0.00000  (2b)             0\r\n",
      "    1  Si        +0.25000 +0.25000 +0.25000  (2b)             0\r\n"
     ]
    }
   ],
   "source": [
    "!abistruct.py spglib si_scf_GSR.nc"
   ]
  },
  {
   "cell_type": "markdown",
   "metadata": {
    "slideshow": {
     "slide_type": "skip"
    }
   },
   "source": [
    "#### It works with any file providing a structure object (*.nc*, .abi, *.cif* …) "
   ]
  },
  {
   "cell_type": "markdown",
   "metadata": {
    "slideshow": {
     "slide_type": "skip"
    }
   },
   "source": [
    "#### Convert structure from netcdf format to CIF"
   ]
  },
  {
   "cell_type": "code",
   "execution_count": 66,
   "metadata": {
    "slideshow": {
     "slide_type": "skip"
    }
   },
   "outputs": [
    {
     "name": "stdout",
     "output_type": "stream",
     "text": [
      "# generated using pymatgen\r\n",
      "data_Si\r\n",
      "_symmetry_space_group_name_H-M   'P 1'\r\n",
      "_cell_length_a   3.86697464\r\n",
      "_cell_length_b   3.86697464\r\n",
      "_cell_length_c   3.86697464\r\n",
      "_cell_angle_alpha   60.00000000\r\n",
      "_cell_angle_beta   60.00000000\r\n",
      "_cell_angle_gamma   60.00000000\r\n",
      "_symmetry_Int_Tables_number   1\r\n",
      "_chemical_formula_structural   Si\r\n",
      "_chemical_formula_sum   Si2\r\n",
      "_cell_volume   40.88829228\r\n",
      "_cell_formula_units_Z   2\r\n",
      "loop_\r\n",
      " _symmetry_equiv_pos_site_id\r\n",
      " _symmetry_equiv_pos_as_xyz\r\n",
      "  1  'x, y, z'\r\n",
      "loop_\r\n",
      " _atom_site_type_symbol\r\n",
      " _atom_site_label\r\n",
      " _atom_site_symmetry_multiplicity\r\n",
      " _atom_site_fract_x\r\n",
      " _atom_site_fract_y\r\n",
      " _atom_site_fract_z\r\n",
      " _atom_site_occupancy\r\n",
      "  Si  Si1  1  0.000000  0.000000  0.000000  1\r\n",
      "  Si  Si2  1  0.250000  0.250000  0.250000  1\r\n",
      "\r\n"
     ]
    }
   ],
   "source": [
    "!abistruct.py convert si_scf_GSR.nc -f cif"
   ]
  },
  {
   "cell_type": "markdown",
   "metadata": {
    "slideshow": {
     "slide_type": "skip"
    }
   },
   "source": [
    "#### Connect to the materials project database. Get structures corresponding to a chemical system or formula e.g. `Fe2O3` or `Li-Fe-O` or `Ir-O-*` for wildcard pattern matching.\n",
    "\n",
    "<!--\n",
    "Print info and Abinit input files. Use e.g. `-f POSCAR`\n",
    "to change output format. `-f None` to disable structure output.\n",
    "-->"
   ]
  },
  {
   "cell_type": "code",
   "execution_count": 67,
   "metadata": {
    "slideshow": {
     "slide_type": "skip"
    }
   },
   "outputs": [
    {
     "name": "stdout",
     "output_type": "stream",
     "text": [
      "\n",
      "# Found 1 structures in Materials Project database (use `verbose` to get further info)\n",
      "\n",
      " \n",
      "########################## abivars input for mp-149 ##########################\n",
      "# Full Formula (Si2)\n",
      "# Reduced Formula: Si\n",
      "# abc   :   3.866975   3.866975   3.866975\n",
      "# angles:  60.000000  60.000000  60.000000\n",
      "# \n",
      "# Spglib space group info (magnetic symmetries not taken into account).\n",
      "# Spacegroup: Fd-3m (227), Hall: F 4d 2 3 -1d, Abinit spg_number: None\n",
      "# Crystal_system: cubic, Lattice_type: cubic, Point_group: m-3m\n",
      "# \n",
      "#   Idx  Symbol    Reduced_Coords              Wyckoff      EqIdx\n",
      "# -----  --------  --------------------------  ---------  -------\n",
      "#     0  Si        +0.87500 +0.87500 +0.87500  (2b)             0\n",
      "#     1  Si        +0.12500 +0.12500 +0.12500  (2b)             0\n",
      "\n",
      " natom 2\n",
      " ntypat 1\n",
      " typat 1 1\n",
      " znucl 14\n",
      " xred\n",
      "    0.8750000000    0.8750000000    0.8750000000\n",
      "    0.1250000000    0.1250000000    0.1250000000\n",
      " acell    1.0    1.0    1.0\n",
      " rprim\n",
      "    6.3285005334    0.0000000000    3.6537614829\n",
      "    2.1095001778    5.9665675247    3.6537614829\n",
      "    0.0000000000    0.0000000000    7.3075229659\n",
      "\n",
      "\n",
      "\n"
     ]
    }
   ],
   "source": [
    "!abistruct.py mp_match si_scf_GSR.nc"
   ]
  },
  {
   "cell_type": "code",
   "execution_count": 68,
   "metadata": {
    "slideshow": {
     "slide_type": "skip"
    }
   },
   "outputs": [],
   "source": [
    "#!abistruct.py mp_search LiF"
   ]
  },
  {
   "cell_type": "code",
   "execution_count": 69,
   "metadata": {
    "slideshow": {
     "slide_type": "skip"
    }
   },
   "outputs": [
    {
     "name": "stdout",
     "output_type": "stream",
     "text": [
      "\n",
      "================================= Structure =================================\n",
      "Full Formula (Si2)\n",
      "Reduced Formula: Si\n",
      "abc   :   3.866975   3.866975   3.866975\n",
      "angles:  60.000000  60.000000  60.000000\n",
      "\n",
      "Spglib space group info (magnetic symmetries not taken into account).\n",
      "Spacegroup: Fd-3m (227), Hall: F 4d 2 3 -1d, Abinit spg_number: 227\n",
      "Crystal_system: cubic, Lattice_type: cubic, Point_group: m-3m\n",
      "\n",
      "  Idx  Symbol    Reduced_Coords              Wyckoff      EqIdx\n",
      "-----  --------  --------------------------  ---------  -------\n",
      "    0  Si        +0.00000 +0.00000 +0.00000  (2b)             0\n",
      "    1  Si        +0.25000 +0.25000 +0.25000  (2b)             0\n",
      "\n",
      "\n",
      "================================ Little Group ================================\n",
      "Kpoint-group: 3m, C3v (156), Kpoint: [0.25, 0.0, 0.0], Symmorphic: True\n",
      " \n",
      "C3v    1+ [1]   3+ [2]  -2+ [3]\n",
      "Irrep                          \n",
      "A1     (1+0j)   (1+0j)   (1+0j)\n",
      "A2     (1+0j)   (1+0j)  (-1+0j)\n",
      "E      (2+0j)  (-1+0j)       0j\n",
      "\n"
     ]
    }
   ],
   "source": [
    "!abistruct.py lgk si_scf_GSR.nc  -k 0.25 0 0"
   ]
  },
  {
   "cell_type": "markdown",
   "metadata": {
    "slideshow": {
     "slide_type": "skip"
    }
   },
   "source": [
    "#### Print results of ground-state calculations "
   ]
  },
  {
   "cell_type": "code",
   "execution_count": 70,
   "metadata": {
    "slideshow": {
     "slide_type": "skip"
    }
   },
   "outputs": [
    {
     "name": "stdout",
     "output_type": "stream",
     "text": [
      "================================= File Info =================================\r\n",
      "Name: si_scf_GSR.nc\r\n",
      "Directory: /Users/gmatteo/git_repos/abipy_slides_aps_boston_2019\r\n",
      "Size: 14.83 kb\r\n",
      "Access Time: Thu Feb 28 17:12:16 2019\r\n",
      "Modification Time: Tue Jan 15 23:04:41 2019\r\n",
      "Change Time: Tue Jan 15 23:04:41 2019\r\n",
      "\r\n",
      "================================= Structure =================================\r\n",
      "Full Formula (Si2)\r\n",
      "Reduced Formula: Si\r\n",
      "abc   :   3.866975   3.866975   3.866975\r\n",
      "angles:  60.000000  60.000000  60.000000\r\n",
      "Sites (2)\r\n",
      "  #  SP       a     b     c  cartesian_forces\r\n",
      "---  ----  ----  ----  ----  -----------------------------------------------------------\r\n",
      "  0  Si    0     0     0     [-5.89948302e-27 -1.93366148e-27  2.91016902e-27] eV ang^-1\r\n",
      "  1  Si    0.25  0.25  0.25  [ 5.89948302e-27  1.93366148e-27 -2.91016902e-27] eV ang^-1\r\n",
      "\r\n",
      "Abinit Spacegroup: spgid: 227, num_spatial_symmetries: 48, has_timerev: True, symmorphic: True\r\n",
      "\r\n",
      "Stress tensor (Cartesian coordinates in GPa):\r\n",
      "[[5.21161758e+00 7.86452261e-11 0.00000000e+00]\r\n",
      " [7.86452261e-11 5.21161758e+00 0.00000000e+00]\r\n",
      " [0.00000000e+00 0.00000000e+00 5.21161758e+00]]\r\n",
      "\r\n",
      "Pressure: -5.212 (GPa)\r\n",
      "Energy: -241.23646832 (eV)\r\n",
      "\r\n",
      "============================== Electronic Bands ==============================\r\n",
      "Number of electrons: 8.0, Fermi level: 5.598 (eV)\r\n",
      "nsppol: 1, nkpt: 29, mband: 8, nspinor: 1, nspden: 1\r\n",
      "smearing scheme: none, tsmear_eV: 0.272, occopt: 1\r\n",
      "Direct gap:\r\n",
      "    Energy: 2.532 (eV)\r\n",
      "    Initial state: spin=0, kpt=[+0.000, +0.000, +0.000], weight: 0.002, band=3, eig=5.598, occ=2.000\r\n",
      "    Final state:   spin=0, kpt=[+0.000, +0.000, +0.000], weight: 0.002, band=4, eig=8.130, occ=0.000\r\n",
      "Fundamental gap:\r\n",
      "    Energy: 0.562 (eV)\r\n",
      "    Initial state: spin=0, kpt=[+0.000, +0.000, +0.000], weight: 0.002, band=3, eig=5.598, occ=2.000\r\n",
      "    Final state:   spin=0, kpt=[+0.375, +0.375, +0.000], weight: 0.012, band=4, eig=6.161, occ=0.000\r\n",
      "Bandwidth: 11.856 (eV)\r\n",
      "Valence maximum located at:\r\n",
      "    spin=0, kpt=[+0.000, +0.000, +0.000], weight: 0.002, band=3, eig=5.598, occ=2.000\r\n",
      "Conduction minimum located at:\r\n",
      "    spin=0, kpt=[+0.375, +0.375, +0.000], weight: 0.012, band=4, eig=6.161, occ=0.000\r\n",
      "\r\n"
     ]
    }
   ],
   "source": [
    "!abiopen.py si_scf_GSR.nc --print"
   ]
  },
  {
   "cell_type": "markdown",
   "metadata": {
    "slideshow": {
     "slide_type": "subslide"
    }
   },
   "source": [
    "#### To produce a predefined set of matplotlib figures, use:\n",
    "\n",
    "\n",
    "```shell\n",
    "abiopen.py si_nscf_GSR.nc --expose\n",
    "```    \n",
    "    \n",
    "<br>\n",
    "<img src=\"assets/abiopen_expose.png\" width=\"75%\" align=\"center\" alt=\"abiopen_expose\">"
   ]
  },
  {
   "cell_type": "markdown",
   "metadata": {
    "slideshow": {
     "slide_type": "skip"
    }
   },
   "source": [
    "## The PseudoDojo project\n",
    "\n",
    "* Tables of norm-conserving and PAW pseudopotentials\n",
    "* Intensively tested (delta-gauge, GBRV benchmark set, ghost-states, phonons)\n",
    "* Different XC flavors (LDA, GGA-PBE, PBE-sol)\n",
    "* Hints for cutoff energy computed from validation tests\n",
    "* Several formats (psp8, upf, psxml, pawxml) compatible with \n",
    "  Abinit, QE, siesta, GPAW, octopus ...\n",
    "* Several electronic configurations:\n",
    "\n",
    "    * *standard* for GS/DFPT applications\n",
    "    * *stringent* for high-accuracy and many-body calculations (e.g. closed shell for $GW$)\n",
    "    \n",
    "* Files and jupyter notebooks are available at http://www.pseudo-dojo.org/\n",
    "* Github repository with python code to run validation tests"
   ]
  },
  {
   "cell_type": "markdown",
   "metadata": {
    "slideshow": {
     "slide_type": "skip"
    }
   },
   "source": [
    "<a href=\"http://www.pseudo-dojo.org/\">\n",
    "<img src=\"assets/pseudodojo.png\" alt=\"PseudoDojo website\" align=\"center\">\n",
    "</a>"
   ]
  },
  {
   "cell_type": "markdown",
   "metadata": {
    "slideshow": {
     "slide_type": "skip"
    }
   },
   "source": [
    "<img src=\"./assets/pseudodojo_validation_results.png\" width=\"75%\" align=\"center\">"
   ]
  },
  {
   "cell_type": "markdown",
   "metadata": {
    "slideshow": {
     "slide_type": "slide"
    }
   },
   "source": [
    "<img src=\"assets/managing-workflow.jpg\">"
   ]
  },
  {
   "cell_type": "markdown",
   "metadata": {
    "slideshow": {
     "slide_type": "slide"
    }
   },
   "source": [
    "## Workflow infrastructure\n",
    "\n",
    "Two different approaches:\n",
    "\n",
    "#### AbiPy workflows:\n",
    "\n",
    "   * Lightweight implementation (*pymatgen* + *AbiPy*)\n",
    "   * No database required. Object persistence provided by [*pickle*](https://docs.python.org/3/library/pickle.html)\n",
    "   * Ideal tool for prototyping \n",
    "    \n",
    "    \n",
    "#### AbiFlows workflows: \n",
    "\n",
    "   * Requires [MongoDb](https://www.mongodb.com/) database\n",
    "   * Based on [fireworks](https://materialsproject.github.io/fireworks/)\n",
    "   * Designed and optimized for <u>high-throughput applications</u>\n",
    "   \n",
    "<hr>\n",
    "\n",
    "Both approaches share the same codebase (*AbinitInput*, factory functions, AbiPy objects).\n",
    "\n",
    "Number and type of calculations are important ➝ choose the approach that suits to your needs."
   ]
  },
  {
   "cell_type": "markdown",
   "metadata": {
    "slideshow": {
     "slide_type": "subslide"
    }
   },
   "source": [
    "## Main features\n",
    "\n",
    "* Support for different resource managers (*Slurm*, *PBS*, *Torque*, *SGE*, *LoadLever*, *shell*)\n",
    "* *autoparal*: the number of MPI processes is optimized at runtime\n",
    "* Error handlers for common runtime failures\n",
    "* Iterative algorithms are automatically restarted by the framework\n",
    "\n",
    "<img src=\"./assets/not_converged_task_2.png\" width=\"45%\" align=\"center\">"
   ]
  },
  {
   "cell_type": "markdown",
   "metadata": {
    "slideshow": {
     "slide_type": "subslide"
    }
   },
   "source": [
    "## Object-oriented API and inheritance diagram\n",
    "\n",
    "* Task objects to handle different types of calculations\n",
    "* Automated handling of dependencies (WFK, DEN, DDB, …)\n",
    "* Workflow generators for common cases\n",
    "\n",
    "   * Relaxation\n",
    "   * Band structures\n",
    "   * Phonons\n",
    "\n",
    "* Templates for database insertion based on *mongoengine* and *mongodb* documents\n",
    "\n",
    "<img src=\"./assets/class_hierarchy.png\" width=\"70%\" align=\"center\">\n",
    "\n",
    "<!-- \n",
    "* Automatized choice of number of cores (*autoparal*)\n",
    "* Error handling\n",
    "-->"
   ]
  },
  {
   "cell_type": "markdown",
   "metadata": {
    "slideshow": {
     "slide_type": "slide"
    }
   },
   "source": [
    "### How to build an AbiPy workflow\n",
    "\n",
    "<!--\n",
    "https://nbviewer.jupyter.org/github/abinit/abitutorials/blob/master/abitutorials/dfpt/lesson_dfpt.ipynb\n",
    "\n",
    "The function makes some assumptions for important parameters such as the crystalline structure and the pseudos. This is done on purpose to keep the code as simple as possible. It should not be so difficult to generalize the implementation to take into account other cases. Let's start to play with our new function:\n",
    "\n",
    "To explain in more details the syntax and the API used in AbiPy to build a flow with dependencies, let's build a Flow from scratch.\n",
    "-->\n",
    "\n",
    "Let's start with an empty flow in the *hello_flow* directory "
   ]
  },
  {
   "cell_type": "code",
   "execution_count": 71,
   "metadata": {
    "slideshow": {
     "slide_type": "-"
    }
   },
   "outputs": [],
   "source": [
    "from abipy import flowtk\n",
    "hello_flow = flowtk.Flow(workdir=\"hello_flow\")"
   ]
  },
  {
   "cell_type": "markdown",
   "metadata": {
    "slideshow": {
     "slide_type": "-"
    }
   },
   "source": [
    "and use the [graphviz tool](https://www.graphviz.org/) after each step to show what's happening."
   ]
  },
  {
   "cell_type": "code",
   "execution_count": 72,
   "metadata": {
    "scrolled": true
   },
   "outputs": [
    {
     "data": {
      "image/svg+xml": [
       "<?xml version=\"1.0\" encoding=\"UTF-8\" standalone=\"no\"?>\n",
       "<!DOCTYPE svg PUBLIC \"-//W3C//DTD SVG 1.1//EN\"\n",
       " \"http://www.w3.org/Graphics/SVG/1.1/DTD/svg11.dtd\">\n",
       "<!-- Generated by graphviz version 2.38.0 (20140413.2041)\n",
       " -->\n",
       "<!-- Title: flow Pages: 1 -->\n",
       "<svg width=\"273pt\" height=\"66pt\"\n",
       " viewBox=\"0.00 0.00 272.99 66.00\" xmlns=\"http://www.w3.org/2000/svg\" xmlns:xlink=\"http://www.w3.org/1999/xlink\">\n",
       "<g id=\"graph0\" class=\"graph\" transform=\"scale(1 1) rotate(0) translate(12.4927 40)\">\n",
       "<title>flow</title>\n",
       "<polygon fill=\"white\" stroke=\"none\" points=\"-12.4927,26 -12.4927,-40 260.493,-40 260.493,26 -12.4927,26\"/>\n",
       "<text text-anchor=\"start\" x=\"-0.492676\" y=\"15.2\" font-family=\"Times,serif\" font-size=\"14.00\">Flow, node_id=387069, workdir=hello_flow</text>\n",
       "</g>\n",
       "</svg>\n"
      ],
      "text/plain": [
       "<graphviz.dot.Digraph at 0x1c2f2a28d0>"
      ]
     },
     "execution_count": 72,
     "metadata": {},
     "output_type": "execute_result"
    }
   ],
   "source": [
    "hello_flow.get_graphviz()"
   ]
  },
  {
   "cell_type": "markdown",
   "metadata": {
    "slideshow": {
     "slide_type": "subslide"
    }
   },
   "source": [
    "#### We also need a function returning two inputs for SCF/NSCF run:"
   ]
  },
  {
   "cell_type": "code",
   "execution_count": 73,
   "metadata": {
    "slideshow": {
     "slide_type": "subslide"
    }
   },
   "outputs": [],
   "source": [
    "def make_scf_nscf_inputs():\n",
    "    \"\"\"Build and return input files for the GS-SCF and the GS-NSCF tasks.\"\"\"\n",
    "    multi = abilab.MultiDataset(structure=\"si.cif\", pseudos=\"14si.pspnc\", ndtset=2)\n",
    "\n",
    "    # Set global variables (dataset1 and dataset2)\n",
    "    multi.set_vars(ecut=6, nband=8)\n",
    "\n",
    "    # Dataset 1 (GS-SCF run)\n",
    "    multi[0].set_kmesh(ngkpt=[8, 8, 8], shiftk=[0, 0, 0])\n",
    "    multi[0].set_vars(tolvrs=1e-6)\n",
    "\n",
    "    # Dataset 2 (GS-NSCF run on a k-path)\n",
    "    kptbounds = [\n",
    "        [0.5, 0.0, 0.0], # L point\n",
    "        [0.0, 0.0, 0.0], # Gamma point\n",
    "        [0.0, 0.5, 0.5], # X point\n",
    "    ]\n",
    "\n",
    "    multi[1].set_kpath(ndivsm=6, kptbounds=kptbounds)\n",
    "    multi[1].set_vars(tolwfr=1e-12)\n",
    "    \n",
    "    # Return two input files for the GS and the NSCF run\n",
    "    scf_input, nscf_input = multi.split_datasets()\n",
    "    return scf_input, nscf_input"
   ]
  },
  {
   "cell_type": "markdown",
   "metadata": {
    "slideshow": {
     "slide_type": "-"
    }
   },
   "source": [
    "#### In terms of factory functions, similar results can be obtained with:"
   ]
  },
  {
   "cell_type": "code",
   "execution_count": 74,
   "metadata": {
    "slideshow": {
     "slide_type": "-"
    }
   },
   "outputs": [],
   "source": [
    "from abipy.abio.factories import ebands_input\n",
    "scf_input, nscf_input = ebands_input(structure=\"si.cif\", pseudos=\"14si.pspnc\")"
   ]
  },
  {
   "cell_type": "markdown",
   "metadata": {
    "slideshow": {
     "slide_type": "subslide"
    }
   },
   "source": [
    "#### To add a *Task* we create an *AbinitInput* and we register it in the flow:"
   ]
  },
  {
   "cell_type": "code",
   "execution_count": 75,
   "metadata": {
    "slideshow": {
     "slide_type": "-"
    }
   },
   "outputs": [
    {
     "data": {
      "image/svg+xml": [
       "<?xml version=\"1.0\" encoding=\"UTF-8\" standalone=\"no\"?>\n",
       "<!DOCTYPE svg PUBLIC \"-//W3C//DTD SVG 1.1//EN\"\n",
       " \"http://www.w3.org/Graphics/SVG/1.1/DTD/svg11.dtd\">\n",
       "<!-- Generated by graphviz version 2.38.0 (20140413.2041)\n",
       " -->\n",
       "<!-- Title: flow Pages: 1 -->\n",
       "<svg width=\"273pt\" height=\"104pt\"\n",
       " viewBox=\"0.00 0.00 272.99 104.00\" xmlns=\"http://www.w3.org/2000/svg\" xmlns:xlink=\"http://www.w3.org/1999/xlink\">\n",
       "<g id=\"graph0\" class=\"graph\" transform=\"scale(1 1) rotate(0) translate(12.4927 78)\">\n",
       "<title>flow</title>\n",
       "<polygon fill=\"white\" stroke=\"none\" points=\"-12.4927,26 -12.4927,-78 260.493,-78 260.493,26 -12.4927,26\"/>\n",
       "<text text-anchor=\"start\" x=\"-0.492676\" y=\"15.2\" font-family=\"Times,serif\" font-size=\"14.00\">Flow, node_id=387069, workdir=hello_flow</text>\n",
       "<g id=\"clust1\" class=\"cluster\"><title>clusterw0</title>\n",
       "<path fill=\"#e0eeee\" stroke=\"black\" d=\"M98.2381,0.359112C98.2381,0.359112 150.238,0.359112 150.238,0.359112 156.238,0.359112 162.238,-5.64089 162.238,-11.6409 162.238,-11.6409 162.238,-61.6409 162.238,-61.6409 162.238,-67.6409 156.238,-73.6409 150.238,-73.6409 150.238,-73.6409 98.2381,-73.6409 98.2381,-73.6409 92.2381,-73.6409 86.2381,-67.6409 86.2381,-61.6409 86.2381,-61.6409 86.2381,-11.6409 86.2381,-11.6409 86.2381,-5.64089 92.2381,0.359112 98.2381,0.359112\"/>\n",
       "<text text-anchor=\"middle\" x=\"124.238\" y=\"-58.4409\" font-family=\"Times,serif\" font-size=\"14.00\">Work (w0)</text>\n",
       "</g>\n",
       "<!-- w0_t0 -->\n",
       "<g id=\"node1\" class=\"node\"><title>w0_t0</title>\n",
       "<ellipse fill=\"#ff0000\" stroke=\"#ff0000\" cx=\"124.476\" cy=\"-25.2818\" rx=\"27.8878\" ry=\"18\"/>\n",
       "<text text-anchor=\"middle\" x=\"124.476\" y=\"-26.8818\" font-family=\"Times,serif\" font-size=\"8.00\">w0_t0</text>\n",
       "<text text-anchor=\"middle\" x=\"124.476\" y=\"-18.8818\" font-family=\"Times,serif\" font-size=\"8.00\">ScfTask</text>\n",
       "</g>\n",
       "</g>\n",
       "</svg>\n"
      ],
      "text/plain": [
       "<graphviz.dot.Digraph at 0x114a73470>"
      ]
     },
     "execution_count": 75,
     "metadata": {},
     "output_type": "execute_result"
    }
   ],
   "source": [
    "scf_input, nscf_input = make_scf_nscf_inputs()\n",
    "\n",
    "hello_flow.register_scf_task(scf_input, append=True)\n",
    "hello_flow.get_graphviz()"
   ]
  },
  {
   "cell_type": "markdown",
   "metadata": {
    "slideshow": {
     "slide_type": "-"
    }
   },
   "source": [
    "#### To select the first *work*:"
   ]
  },
  {
   "cell_type": "code",
   "execution_count": 76,
   "metadata": {
    "slideshow": {
     "slide_type": "-"
    }
   },
   "outputs": [
    {
     "data": {
      "text/plain": [
       "<Work, node_id=387070, workdir=hello_flow/w0>"
      ]
     },
     "execution_count": 76,
     "metadata": {},
     "output_type": "execute_result"
    }
   ],
   "source": [
    "hello_flow[0]"
   ]
  },
  {
   "cell_type": "markdown",
   "metadata": {
    "slideshow": {
     "slide_type": "-"
    }
   },
   "source": [
    "#### To select the first *task* of the first *work*:"
   ]
  },
  {
   "cell_type": "code",
   "execution_count": 77,
   "metadata": {
    "slideshow": {
     "slide_type": "-"
    }
   },
   "outputs": [
    {
     "data": {
      "text/plain": [
       "<ScfTask, node_id=387071, workdir=hello_flow/w0/t0>"
      ]
     },
     "execution_count": 77,
     "metadata": {},
     "output_type": "execute_result"
    }
   ],
   "source": [
    "hello_flow[0][0]"
   ]
  },
  {
   "cell_type": "markdown",
   "metadata": {
    "slideshow": {
     "slide_type": "subslide"
    }
   },
   "source": [
    "### How to define dependencies\n",
    "\n",
    "* Let's add NSCF calculation that depends on the *scf_task* through the DEN file.\n",
    "* Dependencies are specified via the {*task*: \"file_ext\"} dictionary"
   ]
  },
  {
   "cell_type": "code",
   "execution_count": 78,
   "metadata": {
    "slideshow": {
     "slide_type": "-"
    }
   },
   "outputs": [
    {
     "data": {
      "image/svg+xml": [
       "<?xml version=\"1.0\" encoding=\"UTF-8\" standalone=\"no\"?>\n",
       "<!DOCTYPE svg PUBLIC \"-//W3C//DTD SVG 1.1//EN\"\n",
       " \"http://www.w3.org/Graphics/SVG/1.1/DTD/svg11.dtd\">\n",
       "<!-- Generated by graphviz version 2.38.0 (20140413.2041)\n",
       " -->\n",
       "<!-- Title: flow Pages: 1 -->\n",
       "<svg width=\"273pt\" height=\"120pt\"\n",
       " viewBox=\"0.00 0.00 272.99 120.00\" xmlns=\"http://www.w3.org/2000/svg\" xmlns:xlink=\"http://www.w3.org/1999/xlink\">\n",
       "<g id=\"graph0\" class=\"graph\" transform=\"scale(1 1) rotate(0) translate(4 116)\">\n",
       "<title>flow</title>\n",
       "<polygon fill=\"white\" stroke=\"none\" points=\"-4,4 -4,-116 268.985,-116 268.985,4 -4,4\"/>\n",
       "<text text-anchor=\"start\" x=\"8\" y=\"-6.8\" font-family=\"Times,serif\" font-size=\"14.00\">Flow, node_id=387069, workdir=hello_flow</text>\n",
       "<g id=\"clust1\" class=\"cluster\"><title>clusterw0</title>\n",
       "<path fill=\"#e0eeee\" stroke=\"black\" d=\"M45.2393,-30C45.2393,-30 219.746,-30 219.746,-30 225.746,-30 231.746,-36 231.746,-42 231.746,-42 231.746,-92 231.746,-92 231.746,-98 225.746,-104 219.746,-104 219.746,-104 45.2393,-104 45.2393,-104 39.2393,-104 33.2393,-98 33.2393,-92 33.2393,-92 33.2393,-42 33.2393,-42 33.2393,-36 39.2393,-30 45.2393,-30\"/>\n",
       "<text text-anchor=\"middle\" x=\"132.493\" y=\"-88.8\" font-family=\"Times,serif\" font-size=\"14.00\">Work (w0)</text>\n",
       "</g>\n",
       "<!-- w0_t0 -->\n",
       "<g id=\"node1\" class=\"node\"><title>w0_t0</title>\n",
       "<ellipse fill=\"#ff0000\" stroke=\"#ff0000\" cx=\"69.1832\" cy=\"-56\" rx=\"27.8878\" ry=\"18\"/>\n",
       "<text text-anchor=\"middle\" x=\"69.1832\" y=\"-57.6\" font-family=\"Times,serif\" font-size=\"8.00\">w0_t0</text>\n",
       "<text text-anchor=\"middle\" x=\"69.1832\" y=\"-49.6\" font-family=\"Times,serif\" font-size=\"8.00\">ScfTask</text>\n",
       "</g>\n",
       "<!-- w0_t1 -->\n",
       "<g id=\"node2\" class=\"node\"><title>w0_t1</title>\n",
       "<ellipse fill=\"#c85064\" stroke=\"#c85064\" cx=\"192.823\" cy=\"-56\" rx=\"30.8467\" ry=\"18\"/>\n",
       "<text text-anchor=\"middle\" x=\"192.823\" y=\"-57.6\" font-family=\"Times,serif\" font-size=\"8.00\">w0_t1</text>\n",
       "<text text-anchor=\"middle\" x=\"192.823\" y=\"-49.6\" font-family=\"Times,serif\" font-size=\"8.00\">NscfTask</text>\n",
       "</g>\n",
       "<!-- w0_t0&#45;&gt;w0_t1 -->\n",
       "<g id=\"edge1\" class=\"edge\"><title>w0_t0&#45;&gt;w0_t1</title>\n",
       "<path fill=\"none\" stroke=\"#ff0000\" d=\"M97.179,-56C113.093,-56 133.538,-56 151.351,-56\"/>\n",
       "<polygon fill=\"#ff0000\" stroke=\"#ff0000\" points=\"151.481,-59.5001 161.481,-56 151.481,-52.5001 151.481,-59.5001\"/>\n",
       "<text text-anchor=\"middle\" x=\"129.513\" y=\"-58.8\" font-family=\"Times,serif\" font-size=\"14.00\">DEN</text>\n",
       "</g>\n",
       "</g>\n",
       "</svg>\n"
      ],
      "text/plain": [
       "<graphviz.dot.Digraph at 0x114a6fb38>"
      ]
     },
     "execution_count": 78,
     "metadata": {},
     "output_type": "execute_result"
    }
   ],
   "source": [
    "hello_flow.register_nscf_task(nscf_input, deps={hello_flow[0][0]: \"DEN\"}, \n",
    "                              append=True)\n",
    "\n",
    "hello_flow.get_graphviz(engine=\"dot\")"
   ]
  },
  {
   "cell_type": "markdown",
   "metadata": {
    "slideshow": {
     "slide_type": "-"
    }
   },
   "source": [
    "#### A *Work* is a list of *Tasks* and we can iterate with the syntax:"
   ]
  },
  {
   "cell_type": "code",
   "execution_count": 79,
   "metadata": {},
   "outputs": [
    {
     "name": "stdout",
     "output_type": "stream",
     "text": [
      "<ScfTask, node_id=387071, workdir=hello_flow/w0/t0>\n",
      "<NscfTask, node_id=387072, workdir=hello_flow/w0/t1>\n"
     ]
    }
   ],
   "source": [
    "for task in hello_flow[0]:\n",
    "    print(task)"
   ]
  },
  {
   "cell_type": "markdown",
   "metadata": {
    "slideshow": {
     "slide_type": "subslide"
    }
   },
   "source": [
    "### A more complicated dependency:\n",
    "\n",
    "* We want to add another *NscTask* with a different value of bands\n",
    "\n",
    "* The new task should read the WFK file produced by *w0_t1* \n",
    "  and use the DEN file produced by the first task *w0_t0*\n",
    "\n",
    "```python\n",
    "    deps = {hello_flow[0][0]: \"DEN\", hello_flow[0][1]: \"WFK\"}\n",
    "```\n",
    "    \n",
    "<!--\n",
    "Excellent, we managed to build our first AbiPy flow with inter-dependent tasks in just six lines of code (including the three calls to graphviz). \n",
    "\n",
    "Well, the syntax for the new deps, it's just:\n",
    "\n",
    "deps = {hello_flow[0][0]: \"DEN\", hello_flow[0][1]: \"WFK\"}\n",
    "but we should also change the input variable nband in the nscf_input before creating the new NscTask (remember that building a Task requires an AbinitInput object and a list of dependencies, if any).\n",
    "\n",
    "Now there are two ways to increase nband: the wrong way and the correct one! Let's start from the wrong way because it's always useful to learn from our mistakes. Let's print some values just for the record:\n",
    "-->"
   ]
  },
  {
   "cell_type": "code",
   "execution_count": 80,
   "metadata": {
    "slideshow": {
     "slide_type": "-"
    }
   },
   "outputs": [
    {
     "data": {
      "image/svg+xml": [
       "<?xml version=\"1.0\" encoding=\"UTF-8\" standalone=\"no\"?>\n",
       "<!DOCTYPE svg PUBLIC \"-//W3C//DTD SVG 1.1//EN\"\n",
       " \"http://www.w3.org/Graphics/SVG/1.1/DTD/svg11.dtd\">\n",
       "<!-- Generated by graphviz version 2.38.0 (20140413.2041)\n",
       " -->\n",
       "<!-- Title: flow Pages: 1 -->\n",
       "<svg width=\"351pt\" height=\"170pt\"\n",
       " viewBox=\"0.00 0.00 351.46 170.00\" xmlns=\"http://www.w3.org/2000/svg\" xmlns:xlink=\"http://www.w3.org/1999/xlink\">\n",
       "<g id=\"graph0\" class=\"graph\" transform=\"scale(1 1) rotate(0) translate(4 166)\">\n",
       "<title>flow</title>\n",
       "<polygon fill=\"white\" stroke=\"none\" points=\"-4,4 -4,-166 347.464,-166 347.464,4 -4,4\"/>\n",
       "<text text-anchor=\"start\" x=\"47.2391\" y=\"-6.8\" font-family=\"Times,serif\" font-size=\"14.00\">Flow, node_id=387069, workdir=hello_flow</text>\n",
       "<g id=\"clust1\" class=\"cluster\"><title>clusterw0</title>\n",
       "<path fill=\"#e0eeee\" stroke=\"black\" d=\"M20,-30C20,-30 323.464,-30 323.464,-30 329.464,-30 335.464,-36 335.464,-42 335.464,-42 335.464,-142 335.464,-142 335.464,-148 329.464,-154 323.464,-154 323.464,-154 20,-154 20,-154 14,-154 8,-148 8,-142 8,-142 8,-42 8,-42 8,-36 14,-30 20,-30\"/>\n",
       "<text text-anchor=\"middle\" x=\"171.732\" y=\"-138.8\" font-family=\"Times,serif\" font-size=\"14.00\">Work (w0)</text>\n",
       "</g>\n",
       "<!-- w0_t0 -->\n",
       "<g id=\"node1\" class=\"node\"><title>w0_t0</title>\n",
       "<ellipse fill=\"#ff0000\" stroke=\"#ff0000\" cx=\"43.9439\" cy=\"-81\" rx=\"27.8878\" ry=\"18\"/>\n",
       "<text text-anchor=\"middle\" x=\"43.9439\" y=\"-82.6\" font-family=\"Times,serif\" font-size=\"8.00\">w0_t0</text>\n",
       "<text text-anchor=\"middle\" x=\"43.9439\" y=\"-74.6\" font-family=\"Times,serif\" font-size=\"8.00\">ScfTask</text>\n",
       "</g>\n",
       "<!-- w0_t1 -->\n",
       "<g id=\"node2\" class=\"node\"><title>w0_t1</title>\n",
       "<ellipse fill=\"#c85064\" stroke=\"#c85064\" cx=\"167.583\" cy=\"-56\" rx=\"30.8467\" ry=\"18\"/>\n",
       "<text text-anchor=\"middle\" x=\"167.583\" y=\"-57.6\" font-family=\"Times,serif\" font-size=\"8.00\">w0_t1</text>\n",
       "<text text-anchor=\"middle\" x=\"167.583\" y=\"-49.6\" font-family=\"Times,serif\" font-size=\"8.00\">NscfTask</text>\n",
       "</g>\n",
       "<!-- w0_t0&#45;&gt;w0_t1 -->\n",
       "<g id=\"edge1\" class=\"edge\"><title>w0_t0&#45;&gt;w0_t1</title>\n",
       "<path fill=\"none\" stroke=\"#ff0000\" d=\"M70.7405,-75.6981C87.4516,-72.2636 109.514,-67.7292 128.258,-63.8768\"/>\n",
       "<polygon fill=\"#ff0000\" stroke=\"#ff0000\" points=\"129.185,-67.2596 138.275,-61.818 127.775,-60.4029 129.185,-67.2596\"/>\n",
       "<text text-anchor=\"middle\" x=\"104.274\" y=\"-74.8\" font-family=\"Times,serif\" font-size=\"14.00\">DEN</text>\n",
       "</g>\n",
       "<!-- w0_t2 -->\n",
       "<g id=\"node3\" class=\"node\"><title>w0_t2</title>\n",
       "<ellipse fill=\"#c85064\" stroke=\"#c85064\" cx=\"296.54\" cy=\"-73\" rx=\"30.8467\" ry=\"18\"/>\n",
       "<text text-anchor=\"middle\" x=\"296.54\" y=\"-74.6\" font-family=\"Times,serif\" font-size=\"8.00\">w0_t2</text>\n",
       "<text text-anchor=\"middle\" x=\"296.54\" y=\"-66.6\" font-family=\"Times,serif\" font-size=\"8.00\">NscfTask</text>\n",
       "</g>\n",
       "<!-- w0_t0&#45;&gt;w0_t2 -->\n",
       "<g id=\"edge2\" class=\"edge\"><title>w0_t0&#45;&gt;w0_t2</title>\n",
       "<path fill=\"none\" stroke=\"#ff0000\" d=\"M70.4808,-87.022C76.788,-88.2575 83.5527,-89.3719 89.8877,-90 128.691,-93.847 177.046,-95.0929 247.617,-85 251.271,-84.4775 255.05,-83.7916 258.81,-83.0119\"/>\n",
       "<polygon fill=\"#ff0000\" stroke=\"#ff0000\" points=\"259.643,-86.4118 268.615,-80.7773 258.088,-79.5868 259.643,-86.4118\"/>\n",
       "<text text-anchor=\"middle\" x=\"167.583\" y=\"-94.8\" font-family=\"Times,serif\" font-size=\"14.00\">DEN</text>\n",
       "</g>\n",
       "<!-- w0_t1&#45;&gt;w0_t2 -->\n",
       "<g id=\"edge3\" class=\"edge\"><title>w0_t1&#45;&gt;w0_t2</title>\n",
       "<path fill=\"none\" stroke=\"#c85064\" d=\"M198.029,-59.9429C215.334,-62.2601 237.431,-65.219 256.213,-67.7339\"/>\n",
       "<polygon fill=\"#c85064\" stroke=\"#c85064\" points=\"255.878,-71.2203 266.254,-69.0785 256.807,-64.2822 255.878,-71.2203\"/>\n",
       "<text text-anchor=\"middle\" x=\"232.062\" y=\"-69.8\" font-family=\"Times,serif\" font-size=\"14.00\">WFK</text>\n",
       "</g>\n",
       "</g>\n",
       "</svg>\n"
      ],
      "text/plain": [
       "<graphviz.dot.Digraph at 0x114a81b00>"
      ]
     },
     "execution_count": 80,
     "metadata": {},
     "output_type": "execute_result"
    }
   ],
   "source": [
    "t1 = hello_flow[0][1]\n",
    "\n",
    "# Copy the input of t1 and change nband\n",
    "new_input = t1.input.new_with_vars(nband=1000)  \n",
    "\n",
    "deps = {hello_flow[0][0]: \"DEN\", hello_flow[0][1]: \"WFK\"}\n",
    "\n",
    "hello_flow.register_nscf_task(new_input, deps=deps, append=True)\n",
    "hello_flow.get_graphviz(engine=\"dot\")"
   ]
  },
  {
   "cell_type": "markdown",
   "metadata": {
    "slideshow": {
     "slide_type": "subslide"
    }
   },
   "source": [
    "#### Tasks can be connected to external files:"
   ]
  },
  {
   "cell_type": "code",
   "execution_count": 81,
   "metadata": {
    "slideshow": {
     "slide_type": "-"
    }
   },
   "outputs": [
    {
     "name": "stdout",
     "output_type": "stream",
     "text": [
      "nband in tasks: [8, 10, 20]\n"
     ]
    },
    {
     "data": {
      "image/svg+xml": [
       "<?xml version=\"1.0\" encoding=\"UTF-8\" standalone=\"no\"?>\n",
       "<!DOCTYPE svg PUBLIC \"-//W3C//DTD SVG 1.1//EN\"\n",
       " \"http://www.w3.org/Graphics/SVG/1.1/DTD/svg11.dtd\">\n",
       "<!-- Generated by graphviz version 2.38.0 (20140413.2041)\n",
       " -->\n",
       "<!-- Title: flow Pages: 1 -->\n",
       "<svg width=\"320pt\" height=\"231pt\"\n",
       " viewBox=\"0.00 0.00 320.00 231.00\" xmlns=\"http://www.w3.org/2000/svg\" xmlns:xlink=\"http://www.w3.org/1999/xlink\">\n",
       "<g id=\"graph0\" class=\"graph\" transform=\"scale(1 1) rotate(0) translate(4 205)\">\n",
       "<title>flow</title>\n",
       "<polygon fill=\"white\" stroke=\"none\" points=\"-4,26 -4,-205 316,-205 316,26 -4,26\"/>\n",
       "<text text-anchor=\"start\" x=\"20.6143\" y=\"15.2\" font-family=\"Times,serif\" font-size=\"14.00\">Flow, node_id=387074, workdir=flow_with_file</text>\n",
       "<g id=\"clust1\" class=\"cluster\"><title>clusterw0</title>\n",
       "<path fill=\"#e0eeee\" stroke=\"black\" d=\"M11.874,-126.442C11.874,-126.442 64.874,-126.442 64.874,-126.442 70.874,-126.442 76.874,-132.442 76.874,-138.442 76.874,-138.442 76.874,-188.442 76.874,-188.442 76.874,-194.442 70.874,-200.442 64.874,-200.442 64.874,-200.442 11.874,-200.442 11.874,-200.442 5.87402,-200.442 -0.125977,-194.442 -0.125977,-188.442 -0.125977,-188.442 -0.125977,-138.442 -0.125977,-138.442 -0.125977,-132.442 5.87402,-126.442 11.874,-126.442\"/>\n",
       "<text text-anchor=\"middle\" x=\"38.374\" y=\"-185.242\" font-family=\"Times,serif\" font-size=\"14.00\">Work (w0)</text>\n",
       "</g>\n",
       "<g id=\"clust2\" class=\"cluster\"><title>clusterw1</title>\n",
       "<path fill=\"#e0eeee\" stroke=\"black\" d=\"M185.622,-126.534C185.622,-126.534 239.622,-126.534 239.622,-126.534 245.622,-126.534 251.622,-132.534 251.622,-138.534 251.622,-138.534 251.622,-188.534 251.622,-188.534 251.622,-194.534 245.622,-200.534 239.622,-200.534 239.622,-200.534 185.622,-200.534 185.622,-200.534 179.622,-200.534 173.622,-194.534 173.622,-188.534 173.622,-188.534 173.622,-138.534 173.622,-138.534 173.622,-132.534 179.622,-126.534 185.622,-126.534\"/>\n",
       "<text text-anchor=\"middle\" x=\"212.622\" y=\"-185.334\" font-family=\"Times,serif\" font-size=\"14.00\">Work (w1)</text>\n",
       "</g>\n",
       "<g id=\"clust3\" class=\"cluster\"><title>clusterw2</title>\n",
       "<path fill=\"#e0eeee\" stroke=\"black\" d=\"M124.881,0.150113C124.881,0.150113 178.881,0.150113 178.881,0.150113 184.881,0.150113 190.881,-5.84989 190.881,-11.8499 190.881,-11.8499 190.881,-61.8499 190.881,-61.8499 190.881,-67.8499 184.881,-73.8499 178.881,-73.8499 178.881,-73.8499 124.881,-73.8499 124.881,-73.8499 118.881,-73.8499 112.881,-67.8499 112.881,-61.8499 112.881,-61.8499 112.881,-11.8499 112.881,-11.8499 112.881,-5.84989 118.881,0.150113 124.881,0.150113\"/>\n",
       "<text text-anchor=\"middle\" x=\"151.881\" y=\"-58.6499\" font-family=\"Times,serif\" font-size=\"14.00\">Work (w2)</text>\n",
       "</g>\n",
       "<!-- w0_t0 -->\n",
       "<g id=\"node1\" class=\"node\"><title>w0_t0</title>\n",
       "<ellipse fill=\"#c85064\" stroke=\"#c85064\" cx=\"38.4209\" cy=\"-152.69\" rx=\"30.8467\" ry=\"18\"/>\n",
       "<text text-anchor=\"middle\" x=\"38.4209\" y=\"-154.29\" font-family=\"Times,serif\" font-size=\"8.00\">w0_t0</text>\n",
       "<text text-anchor=\"middle\" x=\"38.4209\" y=\"-146.29\" font-family=\"Times,serif\" font-size=\"8.00\">NscfTask</text>\n",
       "</g>\n",
       "<!-- w1_t0 -->\n",
       "<g id=\"node2\" class=\"node\"><title>w1_t0</title>\n",
       "<ellipse fill=\"#c85064\" stroke=\"#c85064\" cx=\"212.395\" cy=\"-152.612\" rx=\"30.8467\" ry=\"18\"/>\n",
       "<text text-anchor=\"middle\" x=\"212.395\" y=\"-154.212\" font-family=\"Times,serif\" font-size=\"8.00\">w1_t0</text>\n",
       "<text text-anchor=\"middle\" x=\"212.395\" y=\"-146.212\" font-family=\"Times,serif\" font-size=\"8.00\">NscfTask</text>\n",
       "</g>\n",
       "<!-- w2_t0 -->\n",
       "<g id=\"node3\" class=\"node\"><title>w2_t0</title>\n",
       "<ellipse fill=\"#c85064\" stroke=\"#c85064\" cx=\"151.458\" cy=\"-25.9971\" rx=\"30.8467\" ry=\"18\"/>\n",
       "<text text-anchor=\"middle\" x=\"151.458\" y=\"-27.5971\" font-family=\"Times,serif\" font-size=\"8.00\">w2_t0</text>\n",
       "<text text-anchor=\"middle\" x=\"151.458\" y=\"-19.5971\" font-family=\"Times,serif\" font-size=\"8.00\">NscfTask</text>\n",
       "</g>\n",
       "<!-- /Users/gmatteo/git_repos/abipy/abipy/data/refs/si_ebands/si_DEN.nc -->\n",
       "<g id=\"node4\" class=\"node\"><title>/Users/gmatteo/git_repos/abipy/abipy/data/refs/si_ebands/si_DEN.nc</title>\n",
       "<ellipse fill=\"#6633ff\" stroke=\"#6633ff\" cx=\"159.283\" cy=\"-100.227\" rx=\"152.966\" ry=\"18\"/>\n",
       "<text text-anchor=\"start\" x=\"30.2395\" y=\"-97.827\" font-family=\"Times,serif\" font-size=\"8.00\">FileNode, node_id=387077, rpath=../abipy/abipy/data/refs/si_ebands/si_DEN.nc</text>\n",
       "</g>\n",
       "<!-- /Users/gmatteo/git_repos/abipy/abipy/data/refs/si_ebands/si_DEN.nc&#45;&gt;w0_t0 -->\n",
       "<g id=\"edge1\" class=\"edge\"><title>/Users/gmatteo/git_repos/abipy/abipy/data/refs/si_ebands/si_DEN.nc&#45;&gt;w0_t0</title>\n",
       "<path fill=\"none\" stroke=\"#6633ff\" d=\"M119.037,-117.696C104.085,-124.187 87.269,-131.486 72.8797,-137.732\"/>\n",
       "<polygon fill=\"#6633ff\" stroke=\"#6633ff\" points=\"71.1376,-134.673 63.3582,-141.865 73.9249,-141.094 71.1376,-134.673\"/>\n",
       "</g>\n",
       "<!-- /Users/gmatteo/git_repos/abipy/abipy/data/refs/si_ebands/si_DEN.nc&#45;&gt;w1_t0 -->\n",
       "<g id=\"edge2\" class=\"edge\"><title>/Users/gmatteo/git_repos/abipy/abipy/data/refs/si_ebands/si_DEN.nc&#45;&gt;w1_t0</title>\n",
       "<path fill=\"none\" stroke=\"#6633ff\" d=\"M177.561,-118.255C181.291,-121.934 185.263,-125.852 189.141,-129.676\"/>\n",
       "<polygon fill=\"#6633ff\" stroke=\"#6633ff\" points=\"186.812,-132.296 196.39,-136.826 191.728,-127.312 186.812,-132.296\"/>\n",
       "</g>\n",
       "<!-- /Users/gmatteo/git_repos/abipy/abipy/data/refs/si_ebands/si_DEN.nc&#45;&gt;w2_t0 -->\n",
       "<g id=\"edge3\" class=\"edge\"><title>/Users/gmatteo/git_repos/abipy/abipy/data/refs/si_ebands/si_DEN.nc&#45;&gt;w2_t0</title>\n",
       "<path fill=\"none\" stroke=\"#6633ff\" d=\"M157.348,-81.878C156.467,-73.5182 155.404,-63.4346 154.425,-54.1476\"/>\n",
       "<polygon fill=\"#6633ff\" stroke=\"#6633ff\" points=\"157.899,-53.7129 153.37,-44.135 150.937,-54.4468 157.899,-53.7129\"/>\n",
       "</g>\n",
       "</g>\n",
       "</svg>\n"
      ],
      "text/plain": [
       "<graphviz.dot.Digraph at 0x114a8b518>"
      ]
     },
     "execution_count": 81,
     "metadata": {},
     "output_type": "execute_result"
    }
   ],
   "source": [
    "flow_with_file = flowtk.Flow(workdir=\"flow_with_file\")\n",
    "\n",
    "den_filepath = abidata.ref_file(\"si_DEN.nc\")\n",
    "flow_with_file.register_nscf_task(nscf_input, deps={den_filepath: \"DEN\"})\n",
    "\n",
    "for nband in [10, 20]:\n",
    "    flow_with_file.register_nscf_task(nscf_input.new_with_vars(nband=nband), \n",
    "                                      deps={den_filepath: \"DEN\"}, append=False)\n",
    "\n",
    "print(\"nband in tasks:\", [task.input[\"nband\"] for task in flow_with_file.iflat_tasks()])\n",
    "\n",
    "flow_with_file.get_graphviz()"
   ]
  },
  {
   "cell_type": "markdown",
   "metadata": {
    "slideshow": {
     "slide_type": "slide"
    }
   },
   "source": [
    "## Phonon band structure of AlAs\n",
    "\n",
    "Now we are finally ready for the calculation of the vibrational spectrum of AlAs. \n",
    "\n",
    "Once we have a function returning an input for SCF calculations, it's just a matter of \n",
    "of passing the SCF input to the *from_scf_input* factory function"
   ]
  },
  {
   "cell_type": "code",
   "execution_count": 82,
   "metadata": {
    "code_folding": [
     21
    ],
    "slideshow": {
     "slide_type": "skip"
    }
   },
   "outputs": [],
   "source": [
    "def make_scf_input(ecut=2, ngkpt=(4, 4, 4)):\n",
    "    \"\"\"\n",
    "    Generate an `AbinitInput` to perform GS calculation for AlAs.\n",
    "\n",
    "    Args:\n",
    "        ecut: Cutoff energy in Ha.\n",
    "        ngkpt: k-mesh divisions\n",
    "\n",
    "    Return:\n",
    "        `AbinitInput` object\n",
    "    \"\"\"\n",
    "    # Initialize the AlAs structure from an internal database. Use the pseudos shipped with AbiPy.\n",
    "    gs_inp = abilab.AbinitInput(structure=abidata.structure_from_ucell(\"AlAs\"),\n",
    "                                pseudos=abidata.pseudos(\"13al.981214.fhi\", \"33as.pspnc\"))\n",
    "\n",
    "    # Set the value of the Abinit variables needed for GS runs.\n",
    "    gs_inp.set_vars(\n",
    "        nband=4,\n",
    "        ecut=ecut,\n",
    "        ngkpt=ngkpt,\n",
    "        nshiftk=4,\n",
    "        shiftk=[0.0, 0.0, 0.5,   # This gives the usual fcc Monkhorst-Pack grid\n",
    "                0.0, 0.5, 0.0,\n",
    "                0.5, 0.0, 0.0,\n",
    "                0.5, 0.5, 0.5],\n",
    "        tolvrs=1.0e-10,\n",
    "    )\n",
    "\n",
    "    return gs_inp"
   ]
  },
  {
   "cell_type": "code",
   "execution_count": 83,
   "metadata": {
    "slideshow": {
     "slide_type": "-"
    }
   },
   "outputs": [],
   "source": [
    "def build_flow_alas_phonons():\n",
    "    \"\"\"\n",
    "    Build and return a Flow to compute the dynamical matrix on a (2, 2, 2) qmesh\n",
    "    as well as DDK and Born effective charges.\n",
    "    The final DDB with all perturbations will be merged automatically and placed\n",
    "    in the Flow `outdir` directory.\n",
    "    \"\"\"\n",
    "    from abipy import flowtk\n",
    "    scf_input = make_scf_input(ecut=6, ngkpt=(4, 4, 4))\n",
    "    return flowtk.PhononFlow.from_scf_input(\"flow_alas_phonons\", scf_input,\n",
    "                                            ph_ngqpt=(2, 2, 2), with_becs=True)"
   ]
  },
  {
   "cell_type": "markdown",
   "metadata": {
    "slideshow": {
     "slide_type": "subslide"
    }
   },
   "source": [
    "####  Abipy will call Abinit to get the list of DFPT perturbations and…"
   ]
  },
  {
   "cell_type": "code",
   "execution_count": 84,
   "metadata": {
    "slideshow": {
     "slide_type": "-"
    }
   },
   "outputs": [
    {
     "data": {
      "image/svg+xml": [
       "<?xml version=\"1.0\" encoding=\"UTF-8\" standalone=\"no\"?>\n",
       "<!DOCTYPE svg PUBLIC \"-//W3C//DTD SVG 1.1//EN\"\n",
       " \"http://www.w3.org/Graphics/SVG/1.1/DTD/svg11.dtd\">\n",
       "<!-- Generated by graphviz version 2.38.0 (20140413.2041)\n",
       " -->\n",
       "<!-- Title: flow Pages: 1 -->\n",
       "<svg width=\"528pt\" height=\"381pt\"\n",
       " viewBox=\"0.00 0.00 528.00 381.00\" xmlns=\"http://www.w3.org/2000/svg\" xmlns:xlink=\"http://www.w3.org/1999/xlink\">\n",
       "<g id=\"graph0\" class=\"graph\" transform=\"scale(1 1) rotate(0) translate(4 355)\">\n",
       "<title>flow</title>\n",
       "<polygon fill=\"white\" stroke=\"none\" points=\"-4,26 -4,-355 524,-355 524,26 -4,26\"/>\n",
       "<text text-anchor=\"start\" x=\"90.0039\" y=\"15.2\" font-family=\"Times,serif\" font-size=\"14.00\">PhononFlow, node_id=387084, workdir=flow_alas_phonons</text>\n",
       "<g id=\"clust1\" class=\"cluster\"><title>clusterw0</title>\n",
       "<path fill=\"#e0eeee\" stroke=\"black\" d=\"M188.44,-149.496C188.44,-149.496 274.44,-149.496 274.44,-149.496 280.44,-149.496 286.44,-155.496 286.44,-161.496 286.44,-161.496 286.44,-270.496 286.44,-270.496 286.44,-276.496 280.44,-282.496 274.44,-282.496 274.44,-282.496 188.44,-282.496 188.44,-282.496 182.44,-282.496 176.44,-276.496 176.44,-270.496 176.44,-270.496 176.44,-161.496 176.44,-161.496 176.44,-155.496 182.44,-149.496 188.44,-149.496\"/>\n",
       "<text text-anchor=\"middle\" x=\"231.44\" y=\"-267.296\" font-family=\"Times,serif\" font-size=\"14.00\">Work (w0)</text>\n",
       "</g>\n",
       "<g id=\"clust2\" class=\"cluster\"><title>clusterw1</title>\n",
       "<path fill=\"#e0eeee\" stroke=\"black\" d=\"M307.898,-22.0444C307.898,-22.0444 507.898,-22.0444 507.898,-22.0444 513.898,-22.0444 519.898,-28.0444 519.898,-34.0444 519.898,-34.0444 519.898,-225.044 519.898,-225.044 519.898,-231.044 513.898,-237.044 507.898,-237.044 507.898,-237.044 307.898,-237.044 307.898,-237.044 301.898,-237.044 295.898,-231.044 295.898,-225.044 295.898,-225.044 295.898,-34.0444 295.898,-34.0444 295.898,-28.0444 301.898,-22.0444 307.898,-22.0444\"/>\n",
       "<text text-anchor=\"middle\" x=\"407.898\" y=\"-221.844\" font-family=\"Times,serif\" font-size=\"14.00\">BecWork (w1)</text>\n",
       "</g>\n",
       "<g id=\"clust3\" class=\"cluster\"><title>clusterw2</title>\n",
       "<path fill=\"#e0eeee\" stroke=\"black\" d=\"M43.3555,0.0843743C43.3555,0.0843743 272.356,0.0843743 272.356,0.0843743 278.356,0.0843743 284.356,-5.91563 284.356,-11.9156 284.356,-11.9156 284.356,-124.916 284.356,-124.916 284.356,-130.916 278.356,-136.916 272.356,-136.916 272.356,-136.916 43.3555,-136.916 43.3555,-136.916 37.3555,-136.916 31.3555,-130.916 31.3555,-124.916 31.3555,-124.916 31.3555,-11.9156 31.3555,-11.9156 31.3555,-5.91563 37.3555,0.0843743 43.3555,0.0843743\"/>\n",
       "<text text-anchor=\"middle\" x=\"157.856\" y=\"-121.716\" font-family=\"Times,serif\" font-size=\"14.00\">PhononWork (w2)</text>\n",
       "</g>\n",
       "<g id=\"clust4\" class=\"cluster\"><title>clusterw3</title>\n",
       "<path fill=\"#e0eeee\" stroke=\"black\" d=\"M12.449,-232.388C12.449,-232.388 152.449,-232.388 152.449,-232.388 158.449,-232.388 164.449,-238.388 164.449,-244.388 164.449,-244.388 164.449,-339.388 164.449,-339.388 164.449,-345.388 158.449,-351.388 152.449,-351.388 152.449,-351.388 12.449,-351.388 12.449,-351.388 6.44901,-351.388 0.449006,-345.388 0.449006,-339.388 0.449006,-339.388 0.449006,-244.388 0.449006,-244.388 0.449006,-238.388 6.44901,-232.388 12.449,-232.388\"/>\n",
       "<text text-anchor=\"middle\" x=\"82.449\" y=\"-336.188\" font-family=\"Times,serif\" font-size=\"14.00\">PhononWork (w3)</text>\n",
       "</g>\n",
       "<!-- w0_t0 -->\n",
       "<g id=\"node1\" class=\"node\"><title>w0_t0</title>\n",
       "<ellipse fill=\"#ff0000\" stroke=\"#ff0000\" cx=\"230.088\" cy=\"-204.675\" rx=\"27.8878\" ry=\"18\"/>\n",
       "<text text-anchor=\"middle\" x=\"230.088\" y=\"-206.275\" font-family=\"Times,serif\" font-size=\"8.00\">w0_t0</text>\n",
       "<text text-anchor=\"middle\" x=\"230.088\" y=\"-198.275\" font-family=\"Times,serif\" font-size=\"8.00\">ScfTask</text>\n",
       "</g>\n",
       "<!-- w1_t0 -->\n",
       "<g id=\"node2\" class=\"node\"><title>w1_t0</title>\n",
       "<ellipse fill=\"#00cccc\" stroke=\"#00cccc\" cx=\"474.937\" cy=\"-54.1549\" rx=\"30.0647\" ry=\"18\"/>\n",
       "<text text-anchor=\"middle\" x=\"474.937\" y=\"-55.7549\" font-family=\"Times,serif\" font-size=\"8.00\">w1_t0</text>\n",
       "<text text-anchor=\"middle\" x=\"474.937\" y=\"-47.7549\" font-family=\"Times,serif\" font-size=\"8.00\">DdkTask</text>\n",
       "</g>\n",
       "<!-- w0_t0&#45;&gt;w1_t0 -->\n",
       "<g id=\"edge1\" class=\"edge\"><title>w0_t0&#45;&gt;w1_t0</title>\n",
       "<path fill=\"none\" stroke=\"#ff0000\" d=\"M250.543,-192.101C293.715,-165.561 394.316,-103.717 444.846,-72.6537\"/>\n",
       "<polygon fill=\"#ff0000\" stroke=\"#ff0000\" points=\"446.987,-75.446 453.673,-67.2272 443.321,-69.4826 446.987,-75.446\"/>\n",
       "<text text-anchor=\"middle\" x=\"332.139\" y=\"-135.177\" font-family=\"Times,serif\" font-size=\"14.00\">WFK</text>\n",
       "</g>\n",
       "<!-- w1_t1 -->\n",
       "<g id=\"node3\" class=\"node\"><title>w1_t1</title>\n",
       "<ellipse fill=\"#00cccc\" stroke=\"#00cccc\" cx=\"333.66\" cy=\"-101.775\" rx=\"30.0647\" ry=\"18\"/>\n",
       "<text text-anchor=\"middle\" x=\"333.66\" y=\"-103.375\" font-family=\"Times,serif\" font-size=\"8.00\">w1_t1</text>\n",
       "<text text-anchor=\"middle\" x=\"333.66\" y=\"-95.3746\" font-family=\"Times,serif\" font-size=\"8.00\">DdkTask</text>\n",
       "</g>\n",
       "<!-- w0_t0&#45;&gt;w1_t1 -->\n",
       "<g id=\"edge2\" class=\"edge\"><title>w0_t0&#45;&gt;w1_t1</title>\n",
       "<path fill=\"none\" stroke=\"#ff0000\" d=\"M245.37,-189.492C262.634,-172.34 290.91,-144.247 310.802,-124.484\"/>\n",
       "<polygon fill=\"#ff0000\" stroke=\"#ff0000\" points=\"313.348,-126.889 317.975,-117.358 308.414,-121.923 313.348,-126.889\"/>\n",
       "<text text-anchor=\"middle\" x=\"262.531\" y=\"-159.788\" font-family=\"Times,serif\" font-size=\"14.00\">WFK</text>\n",
       "</g>\n",
       "<!-- w1_t2 -->\n",
       "<g id=\"node4\" class=\"node\"><title>w1_t2</title>\n",
       "<ellipse fill=\"#00cccc\" stroke=\"#00cccc\" cx=\"482.359\" cy=\"-119.678\" rx=\"30.0647\" ry=\"18\"/>\n",
       "<text text-anchor=\"middle\" x=\"482.359\" y=\"-121.278\" font-family=\"Times,serif\" font-size=\"8.00\">w1_t2</text>\n",
       "<text text-anchor=\"middle\" x=\"482.359\" y=\"-113.278\" font-family=\"Times,serif\" font-size=\"8.00\">DdkTask</text>\n",
       "</g>\n",
       "<!-- w0_t0&#45;&gt;w1_t2 -->\n",
       "<g id=\"edge3\" class=\"edge\"><title>w0_t0&#45;&gt;w1_t2</title>\n",
       "<path fill=\"none\" stroke=\"#ff0000\" d=\"M255.199,-196.214C300.065,-181.098 394.142,-149.4 446.047,-131.912\"/>\n",
       "<polygon fill=\"#ff0000\" stroke=\"#ff0000\" points=\"447.479,-135.123 455.838,-128.613 445.244,-128.489 447.479,-135.123\"/>\n",
       "<text text-anchor=\"middle\" x=\"335.068\" y=\"-166.863\" font-family=\"Times,serif\" font-size=\"14.00\">WFK</text>\n",
       "</g>\n",
       "<!-- w1_t3 -->\n",
       "<g id=\"node5\" class=\"node\"><title>w1_t3</title>\n",
       "<ellipse fill=\"#7a7aff\" stroke=\"#7a7aff\" cx=\"392.591\" cy=\"-149.208\" rx=\"29.2677\" ry=\"18\"/>\n",
       "<text text-anchor=\"middle\" x=\"392.591\" y=\"-150.808\" font-family=\"Times,serif\" font-size=\"8.00\">w1_t3</text>\n",
       "<text text-anchor=\"middle\" x=\"392.591\" y=\"-142.808\" font-family=\"Times,serif\" font-size=\"8.00\">BecTask</text>\n",
       "</g>\n",
       "<!-- w0_t0&#45;&gt;w1_t3 -->\n",
       "<g id=\"edge4\" class=\"edge\"><title>w0_t0&#45;&gt;w1_t3</title>\n",
       "<path fill=\"none\" stroke=\"#ff0000\" d=\"M255.123,-196.13C282.517,-186.779 326.635,-171.721 357.48,-161.192\"/>\n",
       "<polygon fill=\"#ff0000\" stroke=\"#ff0000\" points=\"358.658,-164.489 366.991,-157.946 356.396,-157.864 358.658,-164.489\"/>\n",
       "<text text-anchor=\"middle\" x=\"290.746\" y=\"-181.461\" font-family=\"Times,serif\" font-size=\"14.00\">WFK</text>\n",
       "</g>\n",
       "<!-- w1_t4 -->\n",
       "<g id=\"node6\" class=\"node\"><title>w1_t4</title>\n",
       "<ellipse fill=\"#7a7aff\" stroke=\"#7a7aff\" cx=\"462.701\" cy=\"-189.068\" rx=\"29.2677\" ry=\"18\"/>\n",
       "<text text-anchor=\"middle\" x=\"462.701\" y=\"-190.668\" font-family=\"Times,serif\" font-size=\"8.00\">w1_t4</text>\n",
       "<text text-anchor=\"middle\" x=\"462.701\" y=\"-182.668\" font-family=\"Times,serif\" font-size=\"8.00\">BecTask</text>\n",
       "</g>\n",
       "<!-- w0_t0&#45;&gt;w1_t4 -->\n",
       "<g id=\"edge5\" class=\"edge\"><title>w0_t0&#45;&gt;w1_t4</title>\n",
       "<path fill=\"none\" stroke=\"#ff0000\" d=\"M258.147,-202.792C299.375,-200.026 376.494,-194.852 423.36,-191.708\"/>\n",
       "<polygon fill=\"#ff0000\" stroke=\"#ff0000\" points=\"423.702,-195.193 433.446,-191.031 423.234,-188.209 423.702,-195.193\"/>\n",
       "<text text-anchor=\"middle\" x=\"325.198\" y=\"-200.05\" font-family=\"Times,serif\" font-size=\"14.00\">WFK</text>\n",
       "</g>\n",
       "<!-- w2_t0 -->\n",
       "<g id=\"node7\" class=\"node\"><title>w2_t0</title>\n",
       "<ellipse fill=\"#0096fa\" stroke=\"#0096fa\" cx=\"76.5805\" cy=\"-78.7171\" rx=\"37.3834\" ry=\"18\"/>\n",
       "<text text-anchor=\"middle\" x=\"76.5805\" y=\"-80.3171\" font-family=\"Times,serif\" font-size=\"8.00\">w2_t0</text>\n",
       "<text text-anchor=\"middle\" x=\"76.5805\" y=\"-72.3171\" font-family=\"Times,serif\" font-size=\"8.00\">PhononTask</text>\n",
       "</g>\n",
       "<!-- w0_t0&#45;&gt;w2_t0 -->\n",
       "<g id=\"edge6\" class=\"edge\"><title>w0_t0&#45;&gt;w2_t0</title>\n",
       "<path fill=\"none\" stroke=\"#ff0000\" d=\"M212.777,-190.471C186.145,-168.618 134.911,-126.58 103.436,-100.753\"/>\n",
       "<polygon fill=\"#ff0000\" stroke=\"#ff0000\" points=\"105.454,-97.8814 95.5033,-94.2438 101.014,-103.293 105.454,-97.8814\"/>\n",
       "<text text-anchor=\"middle\" x=\"142.552\" y=\"-148.412\" font-family=\"Times,serif\" font-size=\"14.00\">WFK</text>\n",
       "</g>\n",
       "<!-- w2_t1 -->\n",
       "<g id=\"node8\" class=\"node\"><title>w2_t1</title>\n",
       "<ellipse fill=\"#0096fa\" stroke=\"#0096fa\" cx=\"112.46\" cy=\"-25.9548\" rx=\"37.3834\" ry=\"18\"/>\n",
       "<text text-anchor=\"middle\" x=\"112.46\" y=\"-27.5548\" font-family=\"Times,serif\" font-size=\"8.00\">w2_t1</text>\n",
       "<text text-anchor=\"middle\" x=\"112.46\" y=\"-19.5548\" font-family=\"Times,serif\" font-size=\"8.00\">PhononTask</text>\n",
       "</g>\n",
       "<!-- w0_t0&#45;&gt;w2_t1 -->\n",
       "<g id=\"edge7\" class=\"edge\"><title>w0_t0&#45;&gt;w2_t1</title>\n",
       "<path fill=\"none\" stroke=\"#ff0000\" d=\"M219.022,-187.861C198.407,-156.54 154.003,-89.074 129.523,-51.8795\"/>\n",
       "<polygon fill=\"#ff0000\" stroke=\"#ff0000\" points=\"132.176,-49.5449 123.755,-43.116 126.329,-53.3933 132.176,-49.5449\"/>\n",
       "<text text-anchor=\"middle\" x=\"158.717\" y=\"-108.67\" font-family=\"Times,serif\" font-size=\"14.00\">WFK</text>\n",
       "</g>\n",
       "<!-- w2_t2 -->\n",
       "<g id=\"node9\" class=\"node\"><title>w2_t2</title>\n",
       "<ellipse fill=\"#0096fa\" stroke=\"#0096fa\" cx=\"203.495\" cy=\"-40.3511\" rx=\"37.3834\" ry=\"18\"/>\n",
       "<text text-anchor=\"middle\" x=\"203.495\" y=\"-41.9511\" font-family=\"Times,serif\" font-size=\"8.00\">w2_t2</text>\n",
       "<text text-anchor=\"middle\" x=\"203.495\" y=\"-33.9511\" font-family=\"Times,serif\" font-size=\"8.00\">PhononTask</text>\n",
       "</g>\n",
       "<!-- w0_t0&#45;&gt;w2_t2 -->\n",
       "<g id=\"edge8\" class=\"edge\"><title>w0_t0&#45;&gt;w2_t2</title>\n",
       "<path fill=\"none\" stroke=\"#ff0000\" d=\"M227.14,-186.462C222.528,-157.96 213.567,-102.589 208.098,-68.7976\"/>\n",
       "<polygon fill=\"#ff0000\" stroke=\"#ff0000\" points=\"211.508,-67.9584 206.456,-58.646 204.598,-69.0768 211.508,-67.9584\"/>\n",
       "<text text-anchor=\"middle\" x=\"233.175\" y=\"-130.43\" font-family=\"Times,serif\" font-size=\"14.00\">WFK</text>\n",
       "</g>\n",
       "<!-- w2_t3 -->\n",
       "<g id=\"node10\" class=\"node\"><title>w2_t3</title>\n",
       "<ellipse fill=\"#0096fa\" stroke=\"#0096fa\" cx=\"239.557\" cy=\"-88.4516\" rx=\"37.3834\" ry=\"18\"/>\n",
       "<text text-anchor=\"middle\" x=\"239.557\" y=\"-90.0516\" font-family=\"Times,serif\" font-size=\"8.00\">w2_t3</text>\n",
       "<text text-anchor=\"middle\" x=\"239.557\" y=\"-82.0516\" font-family=\"Times,serif\" font-size=\"8.00\">PhononTask</text>\n",
       "</g>\n",
       "<!-- w0_t0&#45;&gt;w2_t3 -->\n",
       "<g id=\"edge9\" class=\"edge\"><title>w0_t0&#45;&gt;w2_t3</title>\n",
       "<path fill=\"none\" stroke=\"#ff0000\" d=\"M231.568,-186.515C233.096,-167.751 235.503,-138.216 237.275,-116.459\"/>\n",
       "<polygon fill=\"#ff0000\" stroke=\"#ff0000\" points=\"240.764,-116.735 238.088,-106.484 233.788,-116.167 240.764,-116.735\"/>\n",
       "<text text-anchor=\"middle\" x=\"218.866\" y=\"-154.287\" font-family=\"Times,serif\" font-size=\"14.00\">WFK</text>\n",
       "</g>\n",
       "<!-- w3_t0 -->\n",
       "<g id=\"node11\" class=\"node\"><title>w3_t0</title>\n",
       "<ellipse fill=\"#0096fa\" stroke=\"#0096fa\" cx=\"119.203\" cy=\"-303.204\" rx=\"37.3834\" ry=\"18\"/>\n",
       "<text text-anchor=\"middle\" x=\"119.203\" y=\"-304.804\" font-family=\"Times,serif\" font-size=\"8.00\">w3_t0</text>\n",
       "<text text-anchor=\"middle\" x=\"119.203\" y=\"-296.804\" font-family=\"Times,serif\" font-size=\"8.00\">PhononTask</text>\n",
       "</g>\n",
       "<!-- w0_t0&#45;&gt;w3_t0 -->\n",
       "<g id=\"edge10\" class=\"edge\"><title>w0_t0&#45;&gt;w3_t0</title>\n",
       "<path fill=\"none\" stroke=\"#ff0000\" d=\"M213.247,-219.639C195.089,-235.774 165.964,-261.654 144.934,-280.341\"/>\n",
       "<polygon fill=\"#ff0000\" stroke=\"#ff0000\" points=\"142.461,-277.856 137.31,-287.115 147.11,-283.089 142.461,-277.856\"/>\n",
       "<text text-anchor=\"middle\" x=\"163.535\" y=\"-252.79\" font-family=\"Times,serif\" font-size=\"14.00\">WFK</text>\n",
       "</g>\n",
       "<!-- w3_t1 -->\n",
       "<g id=\"node12\" class=\"node\"><title>w3_t1</title>\n",
       "<ellipse fill=\"#0096fa\" stroke=\"#0096fa\" cx=\"46.0918\" cy=\"-258.681\" rx=\"37.3834\" ry=\"18\"/>\n",
       "<text text-anchor=\"middle\" x=\"46.0918\" y=\"-260.281\" font-family=\"Times,serif\" font-size=\"8.00\">w3_t1</text>\n",
       "<text text-anchor=\"middle\" x=\"46.0918\" y=\"-252.281\" font-family=\"Times,serif\" font-size=\"8.00\">PhononTask</text>\n",
       "</g>\n",
       "<!-- w0_t0&#45;&gt;w3_t1 -->\n",
       "<g id=\"edge11\" class=\"edge\"><title>w0_t0&#45;&gt;w3_t1</title>\n",
       "<path fill=\"none\" stroke=\"#ff0000\" d=\"M204.504,-212.184C174.267,-221.059 123.536,-235.95 87.6399,-246.486\"/>\n",
       "<polygon fill=\"#ff0000\" stroke=\"#ff0000\" points=\"86.5475,-243.159 77.938,-249.334 88.519,-249.875 86.5475,-243.159\"/>\n",
       "<text text-anchor=\"middle\" x=\"130.517\" y=\"-232.135\" font-family=\"Times,serif\" font-size=\"14.00\">WFK</text>\n",
       "</g>\n",
       "<!-- w1_t0&#45;&gt;w1_t3 -->\n",
       "<g id=\"edge12\" class=\"edge\"><title>w1_t0&#45;&gt;w1_t3</title>\n",
       "<path fill=\"none\" stroke=\"#00cccc\" d=\"M460.968,-70.2793C447.877,-85.3915 428.142,-108.171 413.234,-125.379\"/>\n",
       "<polygon fill=\"#00cccc\" stroke=\"#00cccc\" points=\"410.256,-123.472 406.354,-133.322 415.547,-128.055 410.256,-123.472\"/>\n",
       "<text text-anchor=\"middle\" x=\"421.936\" y=\"-100.629\" font-family=\"Times,serif\" font-size=\"14.00\">DDK</text>\n",
       "</g>\n",
       "<!-- w1_t0&#45;&gt;w1_t4 -->\n",
       "<g id=\"edge13\" class=\"edge\"><title>w1_t0&#45;&gt;w1_t4</title>\n",
       "<path fill=\"none\" stroke=\"#00cccc\" d=\"M473.287,-72.3499C471.235,-94.981 467.707,-133.877 465.292,-160.5\"/>\n",
       "<polygon fill=\"#00cccc\" stroke=\"#00cccc\" points=\"461.782,-160.455 464.364,-170.731 468.753,-161.088 461.782,-160.455\"/>\n",
       "<text text-anchor=\"middle\" x=\"454.124\" y=\"-119.225\" font-family=\"Times,serif\" font-size=\"14.00\">DDK</text>\n",
       "</g>\n",
       "<!-- w1_t1&#45;&gt;w1_t3 -->\n",
       "<g id=\"edge14\" class=\"edge\"><title>w1_t1&#45;&gt;w1_t3</title>\n",
       "<path fill=\"none\" stroke=\"#00cccc\" d=\"M351.661,-116.264C356.459,-120.126 361.738,-124.375 366.863,-128.5\"/>\n",
       "<polygon fill=\"#00cccc\" stroke=\"#00cccc\" points=\"364.715,-131.264 374.7,-134.807 369.104,-125.811 364.715,-131.264\"/>\n",
       "<text text-anchor=\"middle\" x=\"374.428\" y=\"-111.182\" font-family=\"Times,serif\" font-size=\"14.00\">DDK</text>\n",
       "</g>\n",
       "<!-- w1_t1&#45;&gt;w1_t4 -->\n",
       "<g id=\"edge15\" class=\"edge\"><title>w1_t1&#45;&gt;w1_t4</title>\n",
       "<path fill=\"none\" stroke=\"#00cccc\" d=\"M353.822,-115.414C375.413,-130.02 409.849,-153.315 434.205,-169.792\"/>\n",
       "<polygon fill=\"#00cccc\" stroke=\"#00cccc\" points=\"432.436,-172.82 442.68,-175.525 436.358,-167.022 432.436,-172.82\"/>\n",
       "<text text-anchor=\"middle\" x=\"409.179\" y=\"-131.403\" font-family=\"Times,serif\" font-size=\"14.00\">DDK</text>\n",
       "</g>\n",
       "<!-- w1_t2&#45;&gt;w1_t3 -->\n",
       "<g id=\"edge16\" class=\"edge\"><title>w1_t2&#45;&gt;w1_t3</title>\n",
       "<path fill=\"none\" stroke=\"#00cccc\" d=\"M455.911,-128.378C447.252,-131.227 437.484,-134.44 428.259,-137.474\"/>\n",
       "<polygon fill=\"#00cccc\" stroke=\"#00cccc\" points=\"426.946,-134.222 418.54,-140.671 429.133,-140.871 426.946,-134.222\"/>\n",
       "<text text-anchor=\"middle\" x=\"457.251\" y=\"-135.726\" font-family=\"Times,serif\" font-size=\"14.00\">DDK</text>\n",
       "</g>\n",
       "<!-- w1_t2&#45;&gt;w1_t4 -->\n",
       "<g id=\"edge17\" class=\"edge\"><title>w1_t2&#45;&gt;w1_t4</title>\n",
       "<path fill=\"none\" stroke=\"#00cccc\" d=\"M477.296,-137.547C475.249,-144.776 472.837,-153.289 470.57,-161.291\"/>\n",
       "<polygon fill=\"#00cccc\" stroke=\"#00cccc\" points=\"467.173,-160.443 467.815,-171.018 473.908,-162.351 467.173,-160.443\"/>\n",
       "<text text-anchor=\"middle\" x=\"458.768\" y=\"-152.219\" font-family=\"Times,serif\" font-size=\"14.00\">DDK</text>\n",
       "</g>\n",
       "</g>\n",
       "</svg>\n"
      ],
      "text/plain": [
       "<graphviz.dot.Digraph at 0x114a7bba8>"
      ]
     },
     "execution_count": 84,
     "metadata": {},
     "output_type": "execute_result"
    }
   ],
   "source": [
    "flow_phbands = build_flow_alas_phonons()\n",
    "flow_phbands.get_graphviz()"
   ]
  },
  {
   "cell_type": "markdown",
   "metadata": {
    "slideshow": {
     "slide_type": "skip"
    }
   },
   "source": [
    "TODO:\n",
    "Executing\n",
    "\n",
    "flow.make_scheduler().start()\n",
    "inside a jupyter notebook is handy if you are dealing with small calculations that require few seconds or minutes. This approach, however, is unpractical when you have large flows or big calculations requiring hours or days, even on massively parallel machines. In this case, indeed, one would like to run the scheduler in a separate process in the backgroud so that the scheduler is not killed when the jupyter server is closed.\n",
    "\n",
    "To start the scheduler in a separate process, use the abirun.py script. The syntax is:\n",
    "\n",
    "abirun.py flow_workdir COMMAND\n",
    "\n",
    "where flow_workdir is the directory containing the Flow (the directory with the pickle file) and command selects the operation to be performed.\n",
    "\n",
    "Typical examples:\n",
    "\n",
    "abirun.py /tmp/hello_bands status\n",
    "\n",
    "checks the status of the Flow and print the results to screen while\n",
    "\n",
    "nohup abirun.py /tmp/hello_bands scheduler > sched.log 2> sched.err &\n",
    "\n",
    "starts the scheduler in the background redirecting the standard output to file sched.log\n",
    "\n",
    "`nohup` is a standard Unix tool. The command make the scheduler immune to hangups so that you can close the shell session without killing the scheduler.\n",
    "This brings us to the last and most crucial question. How do we configure AbiPy to run Abinit workflows on different architectures ranging from standard laptops to high-performance supercomputers?\n",
    "\n",
    "Unfortunately this notebook is already quite long and these details are best covered in a technical documentation. What should be stressed here is that the behaviour can be customized with two Yaml files. All the information related to your environment (Abinit build, modules, resource managers, shell environment) are read from the manager.yml configuration file, that is usually located in the directory ~/.abinit/abipy/ The options for the python scheduler responsible for job submission are given in scheduler.yml.\n",
    "\n",
    "For a more complete description of these configuration options, please consult the TaskManager documentation. A list of configuration files for different machines and clusters is available here while the Flows HOWTO gathers answers to frequently asked questions.\n",
    "\n",
    "Last but not least, check out our gallery of AbiPy Flows for inspiration."
   ]
  },
  {
   "cell_type": "markdown",
   "metadata": {
    "slideshow": {
     "slide_type": "slide"
    }
   },
   "source": [
    "<img src=\"./assets/abiflows_deps.png\" width=\"85%\" align=\"center\">"
   ]
  },
  {
   "cell_type": "markdown",
   "metadata": {
    "slideshow": {
     "slide_type": "slide"
    }
   },
   "source": [
    "## DFPT workflows with Abiflows, Fireworks and MongoDB\n",
    "\n",
    "* Databases makes life easier if one has to handle many calculations\n",
    "* Databases can be used to \n",
    "\n",
    "    * start calculations from previous results\n",
    "    * save the intermediate status of the jobs\n",
    "    * store the final results\n",
    "\n",
    "Building an *Abiflows* workflow for DFPT requires:"
   ]
  },
  {
   "cell_type": "code",
   "execution_count": 85,
   "metadata": {},
   "outputs": [],
   "source": [
    "from pseudo_dojo.core.pseudos import OfficialDojoTable\n",
    "from abiflows.fireworks.workflows.abinit_workflows import PhononFullFWWorkflow \n",
    "\n",
    "# Pseudopotential table from the PseudoDojo package\n",
    "pseudo_table = OfficialDojoTable.from_dojodir('ONCVPSP-PBEsol-PDv0.4','standard')\n",
    "\n",
    "# Create fireworks workflow with default settings\n",
    "structure = abilab.Structure.from_file(\"si.cif\")\n",
    "wf = PhononFullFWWorkflow.from_factory(structure=structure, pseudos=pseudo_table)"
   ]
  },
  {
   "cell_type": "markdown",
   "metadata": {
    "slideshow": {
     "slide_type": "subslide"
    }
   },
   "source": [
    "### The dependency graph is similar to the ligthweigh version discussed before:\n",
    "\n",
    "<img src=\"./assets/abiflows_workflow.png\" width=\"95%\" align=\"center\">"
   ]
  },
  {
   "cell_type": "markdown",
   "metadata": {
    "slideshow": {
     "slide_type": "skip"
    }
   },
   "source": [
    "<img src=\"./assets/fw_model.png\" width=\"25%\" align=\"center\">"
   ]
  },
  {
   "cell_type": "markdown",
   "metadata": {
    "slideshow": {
     "slide_type": "slide"
    }
   },
   "source": [
    "##### but now one can take advantage of MongoDb to run many calculations in a full automatic way:\n",
    "\n",
    "\n",
    "```python\n",
    "from abiflows.fireworks.workflows.abinit_workflows import *\n",
    "from abiflows.database.mongoengine.utils import DatabaseData\n",
    "from abiflows.database.mongoengine.abinit_results import RelaxResult\n",
    "from pseudo_dojo.core.pseudos import OfficialDojoTable\n",
    "\n",
    "# Pseudopotential Table from PseudoDojo\n",
    "pseudo_table = OfficialDojoTable.from_dojodir('ONCVPSP-PBEsol-PDv0.4','standard')\n",
    "\n",
    "# Database with relaxed structures\n",
    "source_db = DatabaseData(host='database_address', port=27017, \n",
    "                         collection='collection_name_used_for_relax', \n",
    "                         database='database_used_to_store_relax_calc')\n",
    "\n",
    "# Database used to store DFPT results.\n",
    "db = DatabaseData(host='database_address', port=27017, collection='phonon_bs', \n",
    "                  database='database_name_eg_phonons')\n",
    "\n",
    "# Connect to the database\n",
    "source_db.connect_mongoengine()\n",
    "\n",
    "# Download relaxed structure from the database.\n",
    "with source_db.switch_collection(RelaxResult) as RelaxResult:\n",
    "    relaxed_structure = RelaxResult.objects(mp_id=\"mp-149\")[0].structure\n",
    "\n",
    "wf = PhononFullFWWorkflow.from_factory(structure=structure, pseudos=pseudo_table)\n",
    "\n",
    "wf.add_mongoengine_db_insertion(db)\n",
    "wf.add_final_cleanup([\"WFK\", \"1WF\", \"WFQ\", \"1POT\", \"1DEN\"])\n",
    "wf.add_to_db()\n",
    "```"
   ]
  },
  {
   "cell_type": "markdown",
   "metadata": {
    "slideshow": {
     "slide_type": "skip"
    }
   },
   "source": [
    "<img src=\"./assets/mongoengine_logo.png\" width=\"50%\" align=\"center\">\n",
    "\n",
    "#### Document-Object Mapper \n",
    "\n",
    "   * Like ORM but for document databases\n",
    "   * Mixins for standard quantities\n",
    "   * Document associated with workflows\n",
    "   * Standardized output\n",
    "\n",
    "abiflows.database.mongoengine modules:"
   ]
  },
  {
   "cell_type": "code",
   "execution_count": 86,
   "metadata": {
    "slideshow": {
     "slide_type": "skip"
    }
   },
   "outputs": [],
   "source": [
    "# DateMixin = DirectoryMixin = Document = object\n",
    "\n",
    "class MaterialMixin(object):\n",
    "    \"\"\"\n",
    "    fields describing the material examined in the calculation\n",
    "    \"\"\"\n",
    "\n",
    "#class PhononResult(MaterialMixin, DateMixin, DirectoryMixin, Document):\n",
    "#    \"\"\"\n",
    "#    results for a phonon workflow\n",
    "#    \"\"\""
   ]
  },
  {
   "cell_type": "markdown",
   "metadata": {
    "slideshow": {
     "slide_type": "subslide"
    }
   },
   "source": [
    "### How to recostruct AbiPy objects from a MondoDb database\n",
    "<hr>\n",
    "\n",
    "```python\n",
    "\n",
    "from abiflows.database.mongoengine.abinit_results import PhononResult\n",
    "\n",
    "# Find results for SiC\n",
    "r = PhononResult.objects(mp_id='mp-8062')[0] \n",
    "\n",
    "# Get DDB object from the database.\n",
    "with r.abinit_output.ddb.abiopen() as ddb: \n",
    "    \n",
    "    # Run anaddb \n",
    "    phbst, phdos = ddb.anaget_phbst_and_phdos_files(ngqpt=[8, 8, 5]) \n",
    "   \n",
    "    # Use AbiPy API\n",
    "    phbst.phbands.plot_with_phdos(phdos.phdos, units='cm-1')\n",
    "```"
   ]
  },
  {
   "cell_type": "markdown",
   "metadata": {
    "slideshow": {
     "slide_type": "skip"
    }
   },
   "source": [
    "## GW calculations with AbiPy\n",
    "\n",
    "<img src=\"./assets/hedin_equations.png\" width=\"75%\" height=\"30%\" align=\"center\">\n",
    "\n",
    "* Many-body approach to compute band gaps and **charged** excitation energies associated to $|N, {\\text{GS}} \\rangle \\rightarrow |N \\pm 1, j\\rangle$ transitions with clamped ions\n",
    "\n",
    "* Hedin's equations are usually solved within the so-called **one-shot** $G_0W_0$ approximation (one iteration of the equations in the right panel) \n",
    "\n",
    "* **More accurate** than Kohn-Sham theory but also **more expensive** and more difficult to converge "
   ]
  },
  {
   "cell_type": "markdown",
   "metadata": {
    "slideshow": {
     "slide_type": "skip"
    }
   },
   "source": [
    "<img src=\"./assets/gw_flowchart.png\" width=\"95%\" heigh=\"40%\" align=\"center\">"
   ]
  },
  {
   "cell_type": "markdown",
   "metadata": {
    "slideshow": {
     "slide_type": "skip"
    }
   },
   "source": [
    "### Interpolating $GW$ corrections with AbiPy\n",
    "\n",
    "We can only compute QP energies for k-points belonging to the k-mesh of the input WFK file while we usually discuss electronic properties in terms of band energies along a high-symmetry k-path. \n",
    "\n",
    "Here we use the Fourier interpolation scheme proposed by Shankland-Koelling-Wood (SKW) in PRB 38 2721. The idea is relatively simple: the QP corrections have the same symmetry of the KS energies, we can thus interpolate the QP corrections with SKW and then apply the interpolated corrections to the ab-initio KS energies obtained along a path.\n",
    "\n",
    "sigres = abilab.abiopen(\"flow_g0w0/w1/t2/outdata/out_SIGRES.nc\")\n",
    "\n",
    "It's just a matter of passing the KS band structure to the sigres.interpolate method to activate this procedure:\n",
    "\n",
    "r = sigres.interpolate(lpratio=5, ks_ebands_kpath=ks_ebands_kpath)\n",
    "\n",
    "The interpolated QP band structure is available in r.qp_ebands_kpath \n",
    "and we can plot the interpolated data with:\n",
    "\n",
    "r.qp_ebands_kpath.plot();\n",
    "\n",
    "The results make sense but it would be nice if one could compare the (interpolated) QP bands with the KS energies. Fortunately, we can use the AbiPy ElectronBandsPlotter to compare multiple band structures:\n",
    "\n",
    "p = abilab.ElectronBandsPlotter()\n",
    "p.add_ebands(\"LDA\", ks_ebands_kpath)\n",
    "p.add_ebands(\"GW (interpolated)\", r.qp_ebands_kpath)\n",
    "p.combiplot();\n",
    "\n",
    "Do you need to compare the band dispersion given by KS and GW?\n",
    "\n",
    "By default, the two band energies are shifted with respect to *their* fermi level.\n",
    "Use e=0 if you do not want to shift the eigenvalues\n",
    "so that it is possible to visualize the QP corrections.\n",
    "\n",
    "p.combiboxplot();\n",
    "\n",
    "The same approach can be used to interpolate QP band structures and QP DOSes. We only need to pass an additional KS band structure with energies in the IBZ:\n",
    "\n",
    "r2 = sigres.interpolate(lpratio=5, ks_ebands_kpath=ks_ebands_kpath, \n",
    "\n",
    "and then compute the QP DOS with:\n",
    "\n",
    "qp_edos = r2.qp_ebands_kmesh.get_edos()\n",
    "\n",
    "\n",
    "Did I tell you that ElectronBandsPlotter accepts DOSes as well?\n",
    "\n",
    "p2 = abilab.ElectronBandsPlotter()\n",
    "p2.add_ebands(\"LDA\", ks_ebands_kpath, edos=ks_edos)\n",
    "p2.add_ebands(\"GW (interpolated)\", r.qp_ebands_kpath, edos=qp_edos)\n",
    "p2.combiplot();"
   ]
  },
  {
   "cell_type": "markdown",
   "metadata": {
    "slideshow": {
     "slide_type": "slide"
    }
   },
   "source": [
    "## Conclusion\n",
    "\n",
    "* The *ab-initio* community is migrating to *python* to implement:\n",
    "\n",
    "    * Pre-processing and post-processing tools\n",
    "    * Web-based technologies to analyze/visualize data (*e.g.* *jupyter* notebooks …) \n",
    "    * High-level logic for scientific workflows and *high-throughput* applications\n",
    "    \n",
    "* <u>Difficulties</u> for users:\n",
    "\n",
    "    * Installation of big software stack (C, C++, Fortran, Python, Javascript …)\n",
    "    * Multiple technologies under the hood (databases, *JSON*, *HDF5*, *MPI/OMP* …) \n",
    "    * Users are assumed to be familiar with programming techniques\n",
    "\n",
    "* <u>Advantages</u> for users:\n",
    "    \n",
    "    * Traditional GUIs are still useful but researchers sometimes need programmatic \n",
    "      interfaces to analyze raw data\n",
    "    * Several *python* packages to boost productivity and do better science\n",
    "\n",
    "\n",
    "> \"An investment in knowledge pays the best interest\" (B. Franklin)"
   ]
  }
 ],
 "metadata": {
  "celltoolbar": "Slideshow",
  "kernelspec": {
   "display_name": "Python [default]",
   "language": "python",
   "name": "python3"
  },
  "language_info": {
   "codemirror_mode": {
    "name": "ipython",
    "version": 3
   },
   "file_extension": ".py",
   "mimetype": "text/x-python",
   "name": "python",
   "nbconvert_exporter": "python",
   "pygments_lexer": "ipython3",
   "version": "3.6.6"
  },
  "latex_envs": {
   "bibliofile": "biblio.bib",
   "cite_by": "apalike",
   "current_citInitial": 1,
   "eqLabelWithNumbers": true,
   "eqNumInitial": 0
  }
 },
 "nbformat": 4,
 "nbformat_minor": 2
}
